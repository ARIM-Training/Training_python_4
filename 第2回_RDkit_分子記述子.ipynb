{
 "cells": [
  {
   "cell_type": "markdown",
   "id": "4283b222",
   "metadata": {},
   "source": [
    "# 情報活用講座：　ケモインフォマテックス 編　\n",
    "# 第2回：　分子記述子編"
   ]
  },
  {
   "cell_type": "markdown",
   "id": "036ae0a6",
   "metadata": {},
   "source": [
    "## 底本\n",
    "船津 公人、柴山 翔二郎 **『実践 マテリアルズインフォマティクス　Pythonによる材料設計のための機械学習』**、近代科学社、2020  \n",
    "第一章　データに慣れよう\n",
    "\n",
    "## 分子記述子とは\n",
    "\n",
    "分子記述子(molecular descriptors)とは、分子の構造と物理的・化学的な特性の関係を数値化するための数値特徴量です。たとえば、分子量、極性、溶解度、融点、沸点、分子形状などが分子記述子の例です。単に記述子（ディスクリプター）とも称されます。記述子を使用することで分子の比較や機械学習モデルの構築に役立てることができます。\n",
    "\n",
    "分子記述子は次の2つに大別されます。\n",
    "\n",
    "* **実験的分子記述子**：　分配係数（LogP）、モル屈折率、双極子モーメント、分極率などの測定値\n",
    "* **理論的分子記述子**：　分子骨格の有無や部分構造（フラグメント）などの分子の記号的表現\n",
    "\n",
    "PythonのRDKitは、分子の特徴を数値で表すための様々な記述子を提供しています。以下にいくつかの代表的なRDKit記述子の一部を示します：\n",
    "\n",
    "1. **溶解度関連記述子**：\n",
    "   - LogP（分配係数）:  水分配係数で分子の疎水性を表す指標です。\n",
    "   - TPSA（極性表面積）: 分子の極性を表す表面積の指標です。\n",
    "   - MR（分子量の相対値）: 分子のサイズと形状を表す指標です。\n",
    "   \n",
    "2. **三次元形状関連記述子**：\n",
    "   - 2D/3D相互情報量: 分子内の原子間距離と角度の統計的な特徴を表す指標です。\n",
    "   - 融合リング数: 分子内の融合環の数を表す指標です。\n",
    "   \n",
    "3. **環境依存性関連記述子**：\n",
    "   - 融合環間距離: 分子内の融合環の間の距離を表す指標です。\n",
    "   - 局所原子密度: 分子内の原子の密度を表す指標です。\n",
    "   \n",
    "4. **構造関連記述子**：\n",
    "   - 分子量: 分子の質量を表す指標です。\n",
    "   - HBA（水素結合アクセプター）: 分子内の水素結合アクセプターの数を表す指標です。\n",
    "   - HBD（水素結合ドナー）: 分子内の水素結合ドナーの数を表す指標です。"
   ]
  },
  {
   "cell_type": "markdown",
   "id": "852b3508",
   "metadata": {},
   "source": [
    "# Google Colabにおける環境設定\n",
    "google colab環境でなければ実行不要"
   ]
  },
  {
   "cell_type": "code",
   "execution_count": null,
   "id": "cc4cb34c",
   "metadata": {},
   "outputs": [],
   "source": [
    "!pip install rdkit-pypi\n",
    "!git clone https://github.com/ARIM-Training/Training_python_4.git\n",
    "%cd Training_python_4"
   ]
  },
  {
   "cell_type": "markdown",
   "id": "46da6b36",
   "metadata": {},
   "source": [
    "## 1.　RDKit記述子"
   ]
  },
  {
   "cell_type": "markdown",
   "id": "691629c2",
   "metadata": {},
   "source": [
    "### RDKit記述子について\n",
    "\n",
    "RDKitの`Descriptors`クラスは、化学的な分子の特性や記述子を計算するためのクラスです。このクラスは、RDKitライブラリの一部であり、分子の物理的、化学的、構造的な特性を数値で表現するための関数を提供します。これらの関数を使用すると、分子オブジェクトに対して特定の記述子を計算できます。RDKit記述子には以下のようなものがあります。\n",
    "\n",
    "- `MolWt`: 分子量（molecular weight）を計算します。\n",
    "- `TPSA`: Topological Polar Surface Areaを計算します。極性領域のサイズを表します。\n",
    "- `NumRotatableBonds`: 回転可能結合の数を計算します。\n",
    "- `NumHDonors`: 水素ドナーの数を計算します。\n",
    "- `NumHAcceptors`: 水素アクセプターの数を計算します。\n",
    "- `MolLogP`: 分配係数（partition coefficient）を計算します。"
   ]
  },
  {
   "cell_type": "markdown",
   "id": "249534ea",
   "metadata": {},
   "source": [
    "### 化合物の読み込み"
   ]
  },
  {
   "cell_type": "code",
   "execution_count": 1,
   "id": "94ea2211",
   "metadata": {},
   "outputs": [
    {
     "data": {
      "image/png": "[encoded data removed]",
      "text/plain": [
       "<rdkit.Chem.rdchem.Mol at 0x1f7bc37b120>"
      ]
     },
     "execution_count": 1,
     "metadata": {},
     "output_type": "execute_result"
    }
   ],
   "source": [
    "from rdkit import Chem\n",
    "smiles = \"CC(=O)Oc1ccccc1C(=O)O\"\n",
    "mol = Chem.MolFromSmiles(smiles)\n",
    "mol"
   ]
  },
  {
   "cell_type": "markdown",
   "id": "bc71517c",
   "metadata": {},
   "source": [
    "### モジュールインポート  \n",
    "RDKitには多くの記述子が用意されています。その記述子を取り出すのが`rdkit.Chem.Descriptors`モジュールにある`descList`です。 `descList`は、RDKitに組み込まれた様々な記述子のリストを含んでおり、分子量やフラグメントなどの209の項目（情報）を提供します。"
   ]
  },
  {
   "cell_type": "code",
   "execution_count": 2,
   "id": "9acb6307",
   "metadata": {},
   "outputs": [
    {
     "data": {
      "text/plain": [
       "209"
      ]
     },
     "execution_count": 2,
     "metadata": {},
     "output_type": "execute_result"
    }
   ],
   "source": [
    "from rdkit.Chem import Descriptors\n",
    "len(Descriptors.descList)"
   ]
  },
  {
   "cell_type": "code",
   "execution_count": 3,
   "id": "f766820f",
   "metadata": {},
   "outputs": [
    {
     "data": {
      "text/plain": [
       "['MaxAbsEStateIndex',\n",
       " 'MaxEStateIndex',\n",
       " 'MinAbsEStateIndex',\n",
       " 'MinEStateIndex',\n",
       " 'qed',\n",
       " 'MolWt',\n",
       " 'HeavyAtomMolWt',\n",
       " 'ExactMolWt',\n",
       " 'NumValenceElectrons',\n",
       " 'NumRadicalElectrons',\n",
       " 'MaxPartialCharge',\n",
       " 'MinPartialCharge',\n",
       " 'MaxAbsPartialCharge',\n",
       " 'MinAbsPartialCharge',\n",
       " 'FpDensityMorgan1',\n",
       " 'FpDensityMorgan2',\n",
       " 'FpDensityMorgan3',\n",
       " 'BCUT2D_MWHI',\n",
       " 'BCUT2D_MWLOW',\n",
       " 'BCUT2D_CHGHI',\n",
       " 'BCUT2D_CHGLO',\n",
       " 'BCUT2D_LOGPHI',\n",
       " 'BCUT2D_LOGPLOW',\n",
       " 'BCUT2D_MRHI',\n",
       " 'BCUT2D_MRLOW',\n",
       " 'AvgIpc',\n",
       " 'BalabanJ',\n",
       " 'BertzCT',\n",
       " 'Chi0',\n",
       " 'Chi0n',\n",
       " 'Chi0v',\n",
       " 'Chi1',\n",
       " 'Chi1n',\n",
       " 'Chi1v',\n",
       " 'Chi2n',\n",
       " 'Chi2v',\n",
       " 'Chi3n',\n",
       " 'Chi3v',\n",
       " 'Chi4n',\n",
       " 'Chi4v',\n",
       " 'HallKierAlpha',\n",
       " 'Ipc',\n",
       " 'Kappa1',\n",
       " 'Kappa2',\n",
       " 'Kappa3',\n",
       " 'LabuteASA',\n",
       " 'PEOE_VSA1',\n",
       " 'PEOE_VSA10',\n",
       " 'PEOE_VSA11',\n",
       " 'PEOE_VSA12',\n",
       " 'PEOE_VSA13',\n",
       " 'PEOE_VSA14',\n",
       " 'PEOE_VSA2',\n",
       " 'PEOE_VSA3',\n",
       " 'PEOE_VSA4',\n",
       " 'PEOE_VSA5',\n",
       " 'PEOE_VSA6',\n",
       " 'PEOE_VSA7',\n",
       " 'PEOE_VSA8',\n",
       " 'PEOE_VSA9',\n",
       " 'SMR_VSA1',\n",
       " 'SMR_VSA10',\n",
       " 'SMR_VSA2',\n",
       " 'SMR_VSA3',\n",
       " 'SMR_VSA4',\n",
       " 'SMR_VSA5',\n",
       " 'SMR_VSA6',\n",
       " 'SMR_VSA7',\n",
       " 'SMR_VSA8',\n",
       " 'SMR_VSA9',\n",
       " 'SlogP_VSA1',\n",
       " 'SlogP_VSA10',\n",
       " 'SlogP_VSA11',\n",
       " 'SlogP_VSA12',\n",
       " 'SlogP_VSA2',\n",
       " 'SlogP_VSA3',\n",
       " 'SlogP_VSA4',\n",
       " 'SlogP_VSA5',\n",
       " 'SlogP_VSA6',\n",
       " 'SlogP_VSA7',\n",
       " 'SlogP_VSA8',\n",
       " 'SlogP_VSA9',\n",
       " 'TPSA',\n",
       " 'EState_VSA1',\n",
       " 'EState_VSA10',\n",
       " 'EState_VSA11',\n",
       " 'EState_VSA2',\n",
       " 'EState_VSA3',\n",
       " 'EState_VSA4',\n",
       " 'EState_VSA5',\n",
       " 'EState_VSA6',\n",
       " 'EState_VSA7',\n",
       " 'EState_VSA8',\n",
       " 'EState_VSA9',\n",
       " 'VSA_EState1',\n",
       " 'VSA_EState10',\n",
       " 'VSA_EState2',\n",
       " 'VSA_EState3',\n",
       " 'VSA_EState4',\n",
       " 'VSA_EState5',\n",
       " 'VSA_EState6',\n",
       " 'VSA_EState7',\n",
       " 'VSA_EState8',\n",
       " 'VSA_EState9',\n",
       " 'FractionCSP3',\n",
       " 'HeavyAtomCount',\n",
       " 'NHOHCount',\n",
       " 'NOCount',\n",
       " 'NumAliphaticCarbocycles',\n",
       " 'NumAliphaticHeterocycles',\n",
       " 'NumAliphaticRings',\n",
       " 'NumAromaticCarbocycles',\n",
       " 'NumAromaticHeterocycles',\n",
       " 'NumAromaticRings',\n",
       " 'NumHAcceptors',\n",
       " 'NumHDonors',\n",
       " 'NumHeteroatoms',\n",
       " 'NumRotatableBonds',\n",
       " 'NumSaturatedCarbocycles',\n",
       " 'NumSaturatedHeterocycles',\n",
       " 'NumSaturatedRings',\n",
       " 'RingCount',\n",
       " 'MolLogP',\n",
       " 'MolMR',\n",
       " 'fr_Al_COO',\n",
       " 'fr_Al_OH',\n",
       " 'fr_Al_OH_noTert',\n",
       " 'fr_ArN',\n",
       " 'fr_Ar_COO',\n",
       " 'fr_Ar_N',\n",
       " 'fr_Ar_NH',\n",
       " 'fr_Ar_OH',\n",
       " 'fr_COO',\n",
       " 'fr_COO2',\n",
       " 'fr_C_O',\n",
       " 'fr_C_O_noCOO',\n",
       " 'fr_C_S',\n",
       " 'fr_HOCCN',\n",
       " 'fr_Imine',\n",
       " 'fr_NH0',\n",
       " 'fr_NH1',\n",
       " 'fr_NH2',\n",
       " 'fr_N_O',\n",
       " 'fr_Ndealkylation1',\n",
       " 'fr_Ndealkylation2',\n",
       " 'fr_Nhpyrrole',\n",
       " 'fr_SH',\n",
       " 'fr_aldehyde',\n",
       " 'fr_alkyl_carbamate',\n",
       " 'fr_alkyl_halide',\n",
       " 'fr_allylic_oxid',\n",
       " 'fr_amide',\n",
       " 'fr_amidine',\n",
       " 'fr_aniline',\n",
       " 'fr_aryl_methyl',\n",
       " 'fr_azide',\n",
       " 'fr_azo',\n",
       " 'fr_barbitur',\n",
       " 'fr_benzene',\n",
       " 'fr_benzodiazepine',\n",
       " 'fr_bicyclic',\n",
       " 'fr_diazo',\n",
       " 'fr_dihydropyridine',\n",
       " 'fr_epoxide',\n",
       " 'fr_ester',\n",
       " 'fr_ether',\n",
       " 'fr_furan',\n",
       " 'fr_guanido',\n",
       " 'fr_halogen',\n",
       " 'fr_hdrzine',\n",
       " 'fr_hdrzone',\n",
       " 'fr_imidazole',\n",
       " 'fr_imide',\n",
       " 'fr_isocyan',\n",
       " 'fr_isothiocyan',\n",
       " 'fr_ketone',\n",
       " 'fr_ketone_Topliss',\n",
       " 'fr_lactam',\n",
       " 'fr_lactone',\n",
       " 'fr_methoxy',\n",
       " 'fr_morpholine',\n",
       " 'fr_nitrile',\n",
       " 'fr_nitro',\n",
       " 'fr_nitro_arom',\n",
       " 'fr_nitro_arom_nonortho',\n",
       " 'fr_nitroso',\n",
       " 'fr_oxazole',\n",
       " 'fr_oxime',\n",
       " 'fr_para_hydroxylation',\n",
       " 'fr_phenol',\n",
       " 'fr_phenol_noOrthoHbond',\n",
       " 'fr_phos_acid',\n",
       " 'fr_phos_ester',\n",
       " 'fr_piperdine',\n",
       " 'fr_piperzine',\n",
       " 'fr_priamide',\n",
       " 'fr_prisulfonamd',\n",
       " 'fr_pyridine',\n",
       " 'fr_quatN',\n",
       " 'fr_sulfide',\n",
       " 'fr_sulfonamd',\n",
       " 'fr_sulfone',\n",
       " 'fr_term_acetylene',\n",
       " 'fr_tetrazole',\n",
       " 'fr_thiazole',\n",
       " 'fr_thiocyan',\n",
       " 'fr_thiophene',\n",
       " 'fr_unbrch_alkane',\n",
       " 'fr_urea']"
      ]
     },
     "execution_count": 3,
     "metadata": {},
     "output_type": "execute_result"
    }
   ],
   "source": [
    "names = list(dict(Descriptors.descList).keys())\n",
    "names"
   ]
  },
  {
   "cell_type": "markdown",
   "id": "32d4f3b0",
   "metadata": {},
   "source": [
    "descListにある項目はpythonのメソッド（関数）となっています。引数としてmolオブジェクトを加えることで記述子のvalueが返されます。次の３つ例は分子量、TPSA、回転可能な結合数を読み出しています。"
   ]
  },
  {
   "cell_type": "code",
   "execution_count": 4,
   "id": "9b569d37",
   "metadata": {},
   "outputs": [
    {
     "name": "stdout",
     "output_type": "stream",
     "text": [
      "Molecular weight: 180.15899999999996\n",
      "TPSA: 63.60000000000001\n",
      "Number of rotatable bonds: 2\n"
     ]
    }
   ],
   "source": [
    "mol_weight = Descriptors.MolWt(mol)\n",
    "tpsa = Descriptors.TPSA(mol)\n",
    "num_rotatable_bonds = Descriptors.NumRotatableBonds(mol)\n",
    "\n",
    "print(\"Molecular weight:\", mol_weight)\n",
    "print(\"TPSA:\", tpsa)\n",
    "print(\"Number of rotatable bonds:\", num_rotatable_bonds)"
   ]
  },
  {
   "cell_type": "markdown",
   "id": "44f5da91",
   "metadata": {},
   "source": [
    "この例では、SMILES文字列からRDKitの`Mol`オブジェクトを作成し、`Descriptors`クラスのメソッドを使用して分子記述子を計算しています。計算された分子記述子は、それぞれの変数に格納され、出力されます。\n",
    "\n",
    "このように`Descriptors`クラスを使用することで、分子の特性や特性の比較に関する情報を数値として取得することができます。"
   ]
  },
  {
   "cell_type": "markdown",
   "id": "422df7b6",
   "metadata": {},
   "source": [
    "## 2.　Morgan Fingerprint （底本：P17）"
   ]
  },
  {
   "cell_type": "markdown",
   "id": "b027692d",
   "metadata": {},
   "source": [
    "### Morgan Fingerprintについて\n",
    "\n",
    "Morganフィンガープリント（または円環フィンガープリント）は、化学的な分子の特徴を表現するために使用される特徴ベクトルの一種です。これは、分子の構造に基づいて生成され、類似性の比較や機械学習モデルの学習など、さまざまな化学情報処理のタスクに利用されます。\n",
    "\n",
    "Morganフィンガープリントは、化学反応における反応中心（反応性の高い部位）や周辺の環境情報をキャプチャするために開発されました。以下にMorganフィンガープリントの生成手順を簡単に説明します：\n",
    "\n",
    "1. 分子内の各原子に一意の識別子（アトムID）を割り当てます。\n",
    "2. 指定された半径（デフォルトでは2）の範囲内に存在する原子や結合の組み合わせを考慮して、分子内の部分構造（サブグラフ）を特定します。\n",
    "3. 各サブグラフに対して、ハッシュ関数を使用して一意のフィンガープリントビット（ビットベクトル）を生成します。\n",
    "4. フィンガープリントビットは、各サブグラフが存在するかどうかに基づいて設定されます。\n",
    "\n",
    "Morganフィンガープリントの特徴は、分子内の構造に対する局所的な情報を取得する能力にあります。指定された半径内の原子や結合の組み合わせを考慮することで、化学的な類似性や反応性の特徴を反映したフィンガープリントが生成されます。\n",
    "\n",
    "Morganフィンガープリントは、分子の類似性の計算や分類、回帰、クラスタリング、バーチャルスクリーニングなど、さまざまな化学情報処理のタスクに使用されます。また、機械学習モデルの学習において、分子の特徴ベクトルとして入力されることもあります。"
   ]
  },
  {
   "cell_type": "markdown",
   "id": "85c3b7a8",
   "metadata": {},
   "source": [
    "### 化合物の読み込み"
   ]
  },
  {
   "cell_type": "code",
   "execution_count": 5,
   "id": "1bb5c4e0",
   "metadata": {},
   "outputs": [
    {
     "data": {
      "image/png": "[encoded data removed]",
      "text/plain": [
       "<rdkit.Chem.rdchem.Mol at 0x1f7bc4640b0>"
      ]
     },
     "execution_count": 5,
     "metadata": {},
     "output_type": "execute_result"
    }
   ],
   "source": [
    "from rdkit import Chem\n",
    "# イブプロフェン\n",
    "smiles = \"CC(C)CC1=CC=C(C=C1)C(C)C(=O)O\"\n",
    "ibuprofen = Chem.MolFromSmiles(smiles)\n",
    "ibuprofen"
   ]
  },
  {
   "cell_type": "markdown",
   "id": "21de8f11",
   "metadata": {},
   "source": [
    "### モジュールインポート  \n",
    "RDKitのrdkit.Chem.AllChemモジュールに含まれている`GetMorganFingerprintAsBitVect`は、分子のMorganフィンガープリント（または円環フィンガープリント）を取得するための関数です。"
   ]
  },
  {
   "cell_type": "code",
   "execution_count": 6,
   "id": "457cae03",
   "metadata": {},
   "outputs": [],
   "source": [
    "from rdkit.Chem import AllChem\n",
    "from rdkit.Chem import rdMolDescriptors"
   ]
  },
  {
   "cell_type": "code",
   "execution_count": 7,
   "id": "080621ce",
   "metadata": {},
   "outputs": [],
   "source": [
    "# Morganフィンガープリントの取得\n",
    "bi = {}\n",
    "fp = rdMolDescriptors.GetMorganFingerprintAsBitVect(ibuprofen,\n",
    "                                                    radius=2,\n",
    "                                                    bitInfo=bi)"
   ]
  },
  {
   "cell_type": "markdown",
   "id": "74e0cf9c",
   "metadata": {},
   "source": [
    "`bi`変数には、`(atom_index, radius)`が格納されている"
   ]
  },
  {
   "cell_type": "markdown",
   "id": "e7a7fd1b",
   "metadata": {},
   "source": [
    "【解説】`GetMorganFingerprintAsBitVect`関数  \n",
    "\n",
    "この関数は、RDKitの化学モジュールである`rdkit.Chem.AllChem`から提供されています。以下のように使用されます：\n",
    "\n",
    "```python\n",
    "from rdkit import Chem\n",
    "from rdkit.Chem import AllChem\n",
    "\n",
    "mol = Chem.MolFromSmiles('CCO')  # SMILES表記から分子を作成\n",
    "\n",
    "# Morganフィンガープリントの取得\n",
    "fp = AllChem.GetMorganFingerprintAsBitVect(mol, radius, nBits)\n",
    "```\n",
    "\n",
    "引数として指定する主なパラメータは次のとおりです：\n",
    "\n",
    "- `mol`: RDKitの分子オブジェクト（`rdkit.Chem.rdchem.Mol`型）。\n",
    "- `radius`: フィンガープリントの半径（デフォルト値は2）。この値が大きいほど、より大域的な構造情報が含まれるフィンガープリントが生成されます。\n",
    "- `nBits`: ビットベクトルのサイズ（デフォルト値は2048）。この値は生成されるフィンガープリントの次元数を表します。\n",
    "\n",
    "関数の呼び出しにより、指定された半径とビット数のMorganフィンガープリントが取得されます。フィンガープリントはRDKitの`rdkit.DataStructs.ExplicitBitVect`オブジェクトとして返され、化学的な構造の特徴をビットベクトルとして表現します。各ビットは、特定の化学的な特徴（例：部分構造）の存在を示します。\n",
    "\n"
   ]
  },
  {
   "cell_type": "markdown",
   "id": "5180f14c",
   "metadata": {},
   "source": [
    "### ビットベクトルのオンビットの確認"
   ]
  },
  {
   "cell_type": "code",
   "execution_count": 8,
   "id": "44ce82f9",
   "metadata": {},
   "outputs": [
    {
     "name": "stdout",
     "output_type": "stream",
     "text": [
      "[1, 79, 80, 283, 310, 389, 650, 807, 854, 857, 900, 921, 955, 1057, 1146, 1257, 1365, 1380, 1750, 1754, 1844, 1847, 1853, 1873, 1917]\n"
     ]
    }
   ],
   "source": [
    "on_bits = list(fp.GetOnBits())\n",
    "print(on_bits)"
   ]
  },
  {
   "cell_type": "markdown",
   "id": "d1aacff4",
   "metadata": {},
   "source": [
    "【解説】`GetOnBits()`関数について  \n",
    "\n",
    "RDKitの`GetOnBits()`は、RDKitのフィンガープリント（例：Morganフィンガープリント）のビットベクトルにおいて、セットされている（1となっている）ビットのインデックスを返す関数です。\n",
    "\n",
    "`GetOnBits()`は、RDKitの`rdkit.DataStructs.ExplicitBitVect`オブジェクト上で呼び出されます。以下に例を示します：\n",
    "\n",
    "```python\n",
    "from rdkit import Chem\n",
    "from rdkit.Chem import AllChem\n",
    "\n",
    "mol = Chem.MolFromSmiles('CCO')  # SMILES表記から分子を作成\n",
    "\n",
    "# Morganフィンガープリントの取得\n",
    "fp = AllChem.GetMorganFingerprintAsBitVect(mol, radius=2, nBits=2048)\n",
    "\n",
    "# セットされているビットのインデックスを取得\n",
    "on_bits = list(fp.GetOnBits())\n",
    "print(on_bits)\n",
    "```\n",
    "\n",
    "`GetOnBits()`関数を呼び出すことで、セットされているビットのインデックスがリストとして返されます。このリストには、フィンガープリントのビットベクトルで1となっているビットの位置が含まれます。\n",
    "\n",
    "上記の例では、Morganフィンガープリントを計算し、`GetOnBits()`関数を使用してセットされているビットのインデックスを取得しています。取得されたインデックスを出力することで、セットされているビットの位置を確認できます。\n",
    "\n",
    "`GetOnBits()`関数を使用することで、フィンガープリントの特徴を解析したり、特定のビットの情報を取得したりすることができます。"
   ]
  },
  {
   "cell_type": "markdown",
   "id": "ffc54857",
   "metadata": {},
   "source": [
    "### Morgan fingerprintを色付表示\n",
    "\n",
    "RDKit 2019.09 以上のバージョンでは、`Draw.DrawMorganBit`を利用しましょう"
   ]
  },
  {
   "cell_type": "code",
   "execution_count": 9,
   "id": "2b256ac7",
   "metadata": {},
   "outputs": [
    {
     "data": {
      "image/png": "[encoded data removed]",
      "text/plain": [
       "<PIL.PngImagePlugin.PngImageFile image mode=RGB size=150x150>"
      ]
     },
     "execution_count": 9,
     "metadata": {},
     "output_type": "execute_result"
    }
   ],
   "source": [
    "#図1.6(a)　Morganフィンガープリントのid854\n",
    "\n",
    "from rdkit.Chem import Draw\n",
    "Draw.DrawMorganBit(ibuprofen, 854,bi)"
   ]
  },
  {
   "cell_type": "code",
   "execution_count": 10,
   "id": "6b2d9c94",
   "metadata": {},
   "outputs": [
    {
     "data": {
      "image/png": "[encoded data removed]",
      "text/plain": [
       "<PIL.PngImagePlugin.PngImageFile image mode=RGB size=150x150>"
      ]
     },
     "execution_count": 10,
     "metadata": {},
     "output_type": "execute_result"
    }
   ],
   "source": [
    "Draw.DrawMorganBit(ibuprofen, 1,bi)"
   ]
  },
  {
   "cell_type": "code",
   "execution_count": 11,
   "id": "3a0b9025",
   "metadata": {},
   "outputs": [
    {
     "data": {
      "text/plain": [
       "[(1, ((1, 0), (10, 0))),\n",
       " (79, ((3, 1),)),\n",
       " (80, ((3, 0),)),\n",
       " (283, ((0, 1), (2, 1), (11, 1))),\n",
       " (310, ((5, 2), (9, 2))),\n",
       " (389, ((14, 1),)),\n",
       " (650, ((13, 0),)),\n",
       " (807, ((12, 0), (14, 0))),\n",
       " (854, ((1, 2),)),\n",
       " (857, ((4, 2),))]"
      ]
     },
     "execution_count": 11,
     "metadata": {},
     "output_type": "execute_result"
    }
   ],
   "source": [
    "list(bi.items())[:10]"
   ]
  },
  {
   "cell_type": "code",
   "execution_count": 12,
   "id": "cc44d222",
   "metadata": {},
   "outputs": [
    {
     "data": {
      "image/png": "[encoded data removed]",
      "text/plain": [
       "<rdkit.Chem.rdchem.Mol at 0x1f7bc6bc660>"
      ]
     },
     "execution_count": 12,
     "metadata": {},
     "output_type": "execute_result"
    }
   ],
   "source": [
    "atom_id, radius = bi[310][0]\n",
    "path_ids = Chem.FindAtomEnvironmentOfRadiusN(ibuprofen, radius, atom_id)\n",
    "substructure = Chem.PathToSubmol(ibuprofen, path_ids)\n",
    "substructure"
   ]
  },
  {
   "cell_type": "markdown",
   "id": "955717bc",
   "metadata": {},
   "source": [
    "### Morgan fingerprintが分子の中のどこを指しているか確認する\n",
    "\n",
    "`Mol.GetSubstructMatch`を利用する"
   ]
  },
  {
   "cell_type": "code",
   "execution_count": 13,
   "id": "c69b6e6d",
   "metadata": {},
   "outputs": [
    {
     "name": "stdout",
     "output_type": "stream",
     "text": [
      "substructure cccc(c)C\n"
     ]
    },
    {
     "data": {
      "image/png": "[encoded data removed]",
      "text/plain": [
       "<rdkit.Chem.rdchem.Mol at 0x1f7bc4640b0>"
      ]
     },
     "execution_count": 13,
     "metadata": {},
     "output_type": "execute_result"
    }
   ],
   "source": [
    "print('substructure', Chem.MolToSmiles(substructure))\n",
    "ibuprofen.GetSubstructMatch(substructure)\n",
    "ibuprofen"
   ]
  },
  {
   "cell_type": "code",
   "execution_count": 14,
   "id": "2ab42406",
   "metadata": {},
   "outputs": [
    {
     "name": "stdout",
     "output_type": "stream",
     "text": [
      "atom_index 1 radius 2\n"
     ]
    }
   ],
   "source": [
    "atom_index, radius = bi[854][0]\n",
    "print('atom_index', atom_index, 'radius', radius)"
   ]
  },
  {
   "cell_type": "markdown",
   "id": "8ddef895",
   "metadata": {},
   "source": [
    "### RDKit fingerprintの取得と可視化"
   ]
  },
  {
   "cell_type": "code",
   "execution_count": 15,
   "id": "1b110ef7",
   "metadata": {},
   "outputs": [
    {
     "name": "stdout",
     "output_type": "stream",
     "text": [
      "[(19, [[0, 2, 3, 14, 1], [0, 2, 3, 4, 1]]),\n",
      " (103,\n",
      "  [[4, 5, 6, 7],\n",
      "   [4, 5, 6, 14],\n",
      "   [4, 5, 14, 8],\n",
      "   [4, 14, 8, 7],\n",
      "   [5, 6, 7, 8],\n",
      "   [6, 7, 8, 14]]),\n",
      " (105, [[5, 6, 9, 11, 13], [7, 8, 9, 11, 13]]),\n",
      " (110, [[9, 11, 12, 10]]),\n",
      " (161, [[4, 5, 6], [4, 5, 14], [4, 14, 8], [5, 6, 7], [6, 7, 8], [7, 8, 14]]),\n",
      " (173, [[0, 2, 1]]),\n",
      " (194,\n",
      "  [[4, 5, 6, 7],\n",
      "   [4, 5, 6, 14],\n",
      "   [4, 5, 14, 8],\n",
      "   [4, 14, 8, 7],\n",
      "   [5, 6, 7, 8],\n",
      "   [6, 7, 8, 14]]),\n",
      " (254, [[9, 11, 13]]),\n",
      " (261, [[9, 11, 12]]),\n",
      " (294, [[4, 5], [4, 14], [5, 6], [6, 7], [7, 8], [8, 14]])]\n"
     ]
    },
    {
     "data": {
      "text/plain": [
       "[19, 103, 105, 110, 161, 173, 194, 254, 261, 294]"
      ]
     },
     "execution_count": 15,
     "metadata": {},
     "output_type": "execute_result"
    }
   ],
   "source": [
    "from pprint import pprint \n",
    "rdkbi = {}\n",
    "rdkfp = Chem.RDKFingerprint(ibuprofen, maxPath=5, bitInfo=rdkbi)\n",
    "pprint(list(rdkbi.items())[:10])\n",
    "list(rdkfp.GetOnBits())[:10]"
   ]
  },
  {
   "cell_type": "code",
   "execution_count": 16,
   "id": "a4c52879",
   "metadata": {},
   "outputs": [
    {
     "data": {
      "image/png": "[encoded data removed]",
      "text/plain": [
       "<PIL.PngImagePlugin.PngImageFile image mode=RGB size=150x150>"
      ]
     },
     "execution_count": 16,
     "metadata": {},
     "output_type": "execute_result"
    }
   ],
   "source": [
    "Draw.DrawRDKitBit(ibuprofen, 105, rdkbi)"
   ]
  },
  {
   "cell_type": "code",
   "execution_count": 17,
   "id": "9ac5137c",
   "metadata": {},
   "outputs": [
    {
     "data": {
      "image/png": "[encoded data removed]",
      "text/plain": [
       "<PIL.PngImagePlugin.PngImageFile image mode=RGB size=150x150>"
      ]
     },
     "execution_count": 17,
     "metadata": {},
     "output_type": "execute_result"
    }
   ],
   "source": [
    "Draw.DrawRDKitBit(ibuprofen, 254, rdkbi)"
   ]
  },
  {
   "cell_type": "markdown",
   "id": "9f90484e",
   "metadata": {},
   "source": [
    "## 考察例\n",
    "- Morgan fingerprintは、原子から同心円状に結合をたどって行きます。\n",
    "- 一方でRDKit fingerprintでは、直線的な部分構造を取り出すようです。\n",
    "- `rdkbi`では、部分構造に含まれる結合のidが取り出されています。"
   ]
  },
  {
   "cell_type": "markdown",
   "id": "c91ae011",
   "metadata": {},
   "source": [
    "# 次回\n",
    "https://colab.research.google.com/github/ARIM-Training/Training_python_4/blob/main/%E7%AC%AC3%E5%9B%9E_%E9%A1%9E%E4%BC%BC%E5%BA%A6%E8%A8%88%E7%AE%97%E3%81%A8%E6%AC%A1%E5%85%83%E5%89%8A%E6%B8%9B.ipynb"
   ]
  },
  {
   "cell_type": "code",
   "execution_count": null,
   "id": "4af39f88",
   "metadata": {},
   "outputs": [],
   "source": []
  }
 ],
 "metadata": {
  "kernelspec": {
   "display_name": "Python 3 (ipykernel)",
   "language": "python",
   "name": "python3"
  },
  "language_info": {
   "codemirror_mode": {
    "name": "ipython",
    "version": 3
   },
   "file_extension": ".py",
   "mimetype": "text/x-python",
   "name": "python",
   "nbconvert_exporter": "python",
   "pygments_lexer": "ipython3",
   "version": "3.9.17"
  }
 },
 "nbformat": 4,
 "nbformat_minor": 5
}
