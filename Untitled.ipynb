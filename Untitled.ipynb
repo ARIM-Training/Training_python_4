{
 "cells": [
  {
   "cell_type": "code",
   "execution_count": 1,
   "id": "b9aab77e",
   "metadata": {},
   "outputs": [],
   "source": [
    "from joblib import load as jl_load\n",
    "import numpy as np\n",
    "from rdkit.Chem import MolFromSmiles\n",
    "\n",
    "from cheminfo.descriptors import RDKitDescriptor\n",
    "from cheminfo.metrics import t2_score, q_value\n",
    "from multiprocessing import Pool, cpu_count"
   ]
  },
  {
   "cell_type": "code",
   "execution_count": 2,
   "id": "95c2ad58",
   "metadata": {},
   "outputs": [],
   "source": [
    "def processor(argv):\n",
    "    \"\"\"予測値とSMILESを文字列で返す関数。multiprocessing.Pool.imap用。\"\"\"\n",
    "    smiles, model = argv\n",
    "    smi = smiles.strip()\n",
    "    mol = MolFromSmiles(smi)\n",
    "    mol.UpdatePropertyCache(strict=True)\n",
    "    rdcalc = RDKitDescriptor()\n",
    "    xnew = np.array(rdcalc.transform([mol]))\n",
    "    # print(xnew,type(xnew))\n",
    "    ypred = model.predict(xnew)\n",
    "    t2 = t2_score(xnew, model)\n",
    "    q = q_value(xnew, model)\n",
    "    return '%s %.8f %.8f %.8f'%(smi, ypred, t2, q)\n",
    "\n",
    "\n",
    "def count_lines(filename):\n",
    "    \"\"\"ファイルの行数を数える関数\"\"\"\n",
    "    with open(filename, 'r')as f:\n",
    "        c=0\n",
    "        for _ in f:\n",
    "            c+=1\n",
    "    return c"
   ]
  },
  {
   "cell_type": "code",
   "execution_count": null,
   "id": "0670ca95",
   "metadata": {},
   "outputs": [
    {
     "name": "stdout",
     "output_type": "stream",
     "text": [
      "AAAAAAAAAAAAAAAAAAAAAAAAAAAAAAAAAAAAAAAAAAAA\n",
      "BBBBBBBBBBBBBAAAAAAAAAAAAAAAAAAAAAAAAAAAAAAAAAAAAAAAAAAA\n",
      "10000\n"
     ]
    }
   ],
   "source": [
    "def main():\n",
    "    \"\"\"メイン関数。入力を受け取り、並列処理を実行。\"\"\"\n",
    "    # assert len(argv)>2, \"SYNTAX: python src/10.3-screening.py MODEL_FILE.joblib SMILES.smi\"\n",
    "    modelfile = \"./models/9.3_rdkit_pls.joblib\"\n",
    "    smilesfile = \"./results/mol_quad.smi\"\n",
    "\n",
    "    print (\"AAAAAAAAAAAAAAAAAAAAAAAAAAAAAAAAAAAAAAAAAAAA\")\n",
    "\n",
    "    model = jl_load(modelfile)\n",
    "\n",
    "    print (\"BBBBBBBBBBBBBAAAAAAAAAAAAAAAAAAAAAAAAAAAAAAAAAAAAAAAAAAA\")\n",
    "    n_counts = count_lines(smilesfile)\n",
    "\n",
    "    print (n_counts)\n",
    "    cs = 1000\n",
    "\n",
    "\n",
    "    model_sampler = (model for _ in range(n_counts))\n",
    "    outfile = open(smilesfile.replace('.smi', '.out'), 'w')\n",
    "\n",
    "    with open(smilesfile, 'r') as f:\n",
    "        with Pool(cpu_count()) as pool:\n",
    "            \"並列処理\"\n",
    "            for ret in pool.imap(processor, zip(f, model_sampler), chunksize=cs):\n",
    "                outfile.write(ret+'\\n')\n",
    "    outfile.close()# 開いたファイルオブジェクトは必ず閉じる。\n",
    "\n",
    "if __name__ == '__main__':\n",
    "    main()"
   ]
  },
  {
   "cell_type": "code",
   "execution_count": null,
   "id": "e1a3d94b",
   "metadata": {},
   "outputs": [],
   "source": []
  }
 ],
 "metadata": {
  "kernelspec": {
   "display_name": "Python 3 (ipykernel)",
   "language": "python",
   "name": "python3"
  },
  "language_info": {
   "codemirror_mode": {
    "name": "ipython",
    "version": 3
   },
   "file_extension": ".py",
   "mimetype": "text/x-python",
   "name": "python",
   "nbconvert_exporter": "python",
   "pygments_lexer": "ipython3",
   "version": "3.9.17"
  }
 },
 "nbformat": 4,
 "nbformat_minor": 5
}
