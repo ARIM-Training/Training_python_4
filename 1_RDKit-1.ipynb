{
 "cells": [
  {
   "cell_type": "markdown",
   "id": "4283b222",
   "metadata": {},
   "source": [
    "# ARIM情報活用講座：　ケモインフォマテックス 編　\n",
    "# 第1回：　RDKitを知る"
   ]
  },
  {
   "cell_type": "markdown",
   "id": "ca21c166",
   "metadata": {},
   "source": [
    "## RDKitライブラリについて\n",
    "\n",
    "RDKitはPythonで使用されるオープンソースの化学情報処理のアプリケーションで、特に近年ではケモインフォマティクスにおける化学情報の取り扱いを容易に提供します。RDKitは分子の構造描画、特性の計算、データベースの操作、化合物の相互作用の予測など、化学情報のあらゆる側面をサポートし、医薬品設計、材料科学、環境モニタリングなどの分野で重要なツールとなっています。\n",
    "\n",
    "この章ではRDKitの基本から始め、データ処理に不可欠な化学情報を操作できる方法を紹介ます。\n",
    "___\n",
    "\n",
    "**RDKitの強み**  \n",
    "RDKitは分子の構造から特性を計算するための多くの関数やアルゴリズムを実装しています。また、化学反応の予測や合成経路の設計など、さまざまな化学的なタスクをサポートしています。化学分野で一般的なChemDrawと比較すると、RDKitはプログラミングに基づいたアプローチを取っており、自動化や大規模なデータ処理に適しています。\n",
    "\n",
    "**RDKitの弱み**  \n",
    "RDKitそのものは分子構造を画面上からインターラクティブに描くDraw機能は有してはいません。ChemDrawは直感的なユーザーインターフェースを通じて分子を作成し、編集するための強力な機能を提供しますが、このようなことはRDKitでは行えません。\n",
    "\n",
    "もう一つのRDKitを利用する場合の留意点としては、RDKitはChemDrawファイル（.cdxファイル）を直接的に読み込むことはできません。化合物情報の読み込みは主にSMILES（Simplified Molecular Input Line Entry System）やMOLファイルなどのテキストベースの化学情報表現を処理するために設計されています。\n",
    "\n",
    "___"
   ]
  },
  {
   "cell_type": "markdown",
   "id": "faf5d61a",
   "metadata": {},
   "source": [
    "## 化学構造情報のフォーマット\n",
    "\n",
    "以下は、代表的な化学情報表現を扱う一部のフォーマット（SMILES、InChI、MOL、MOL2、SDF, PDB）に関する定義と使い方をまとめたものです。\n",
    "\n",
    "化学情報を文字列として表現する文字列型と、分子を構成する原子の位置情報を座標として含む座標系との二系統に分類されます。  \n",
    "赤字のフォーマットは化学情報処理では比較的に多用される化学構造情報です。\n",
    "\n",
    "![メインイメージ](./img/image-1-1.png)"
   ]
  },
  {
   "cell_type": "markdown",
   "id": "c9626569",
   "metadata": {},
   "source": [
    "## ChemDrawファイルをRDKitで使用するためには  \n",
    "ChemDrawファイルをRDKitが読み込める形式に変換する必要があります。\n",
    "\n",
    "* ChemDraw自体にはエクスポート機能を利用します。例えば、RDKitでサポートされているフォーマット（SDF、MOL、MOL2など）に変換します。\n",
    "* オープンソースの**Open babel**を利用して.cdxファイルを変換することができます。"
   ]
  },
  {
   "cell_type": "markdown",
   "id": "a1132313",
   "metadata": {},
   "source": [
    "## 本編の目標\n",
    "\n",
    "RDKitにおける化学構造情報のファイル操作の基本となる\n",
    "\n",
    "1. **ファイルの読み取り**\n",
    "1. **分子構造の描画**\n",
    "1. **ファイルへの保存**\n",
    "\n",
    "の３つの操作について学びます。\n",
    "\n",
    "![メインイメージ](./img/image-1-2.png)"
   ]
  },
  {
   "cell_type": "markdown",
   "id": "3a7333e8",
   "metadata": {},
   "source": [
    "# Google Colabにおける環境設定\n",
    "google colab環境でなければ実行不要"
   ]
  },
  {
   "cell_type": "code",
   "execution_count": null,
   "id": "44820b2d",
   "metadata": {},
   "outputs": [],
   "source": [
    "!pip install rdkit-pypi\n",
    "!git clone https://github.com/ARIM-Training/Training_python_4.git\n",
    "%cd Training_python_4"
   ]
  },
  {
   "cell_type": "markdown",
   "id": "7802edd7",
   "metadata": {},
   "source": [
    "## 1.ファイルの読み込み\n",
    "\n",
    "### ライブラリのインポート\n",
    "分子構造の読み取りに関する機能はRDKitの`Chem`モジュールにツール群がまとめられています。  \n",
    "はじめに`Chem`モジュールをインポートします。"
   ]
  },
  {
   "cell_type": "code",
   "execution_count": 1,
   "id": "2e10ccac",
   "metadata": {},
   "outputs": [],
   "source": [
    "from rdkit import Chem\n",
    "\n",
    "from warnings import filterwarnings\n",
    "filterwarnings('ignore')# 警告を無視"
   ]
  },
  {
   "cell_type": "markdown",
   "id": "e4449113",
   "metadata": {},
   "source": [
    "### MOLファイルからの読み込みの場合\n",
    "ここでは、解熱鎮痛剤のアセチルサリチル酸（アスピリン）を例に、種々のファイルフォーマットからの読み込み方式をまとめます。\n",
    "\n",
    "MOL形式ファイルは化学系データベース（例：chemspider）や試薬メーカ等から入手することができます。 \n",
    "https://www.chemspider.com/Chemical-Structure.2157.html?rid=e668649a-f75f-4644-8419-29e064351376\n",
    "\n",
    "ここではchemspiderからダウンロードしたMOLファイルを[data]というフォルダに[aspirin.mol]が納めされていることから始めます。"
   ]
  },
  {
   "cell_type": "code",
   "execution_count": null,
   "id": "e7e51022",
   "metadata": {},
   "outputs": [],
   "source": [
    "file ='data/aspirin.mol'\n",
    "mol_mol = Chem.MolFromMolFile(file)\n",
    "mol_mol"
   ]
  },
  {
   "cell_type": "markdown",
   "id": "c8c7c9fd",
   "metadata": {},
   "source": [
    "【解説】  **`Chem.MolFromMolFile`** メソッド    \n",
    "`Chem.MolFromMolFile`メソッドは、MOLファイルからRDKitの**Molオブジェクト**を作成するために使用されます。このMolオブジェクトは、分子の構造と属性を表現するための原子や結合の情報、立体情報、分子の特性などを保持しています。Molオブジェクトを使うことで、分子構造の解析や変換、また後述するフィンガープリントの分子の計算など、様々な分子情報処理の操作を行うことができます。\n",
    "\n",
    "以下は、`Chem.MolFromMolFile`メソッドの基本的な使用例です。\n",
    "\n",
    "~~~python\n",
    "from rdkit import Chem\n",
    "mol = Chem.MolFromMolFile('input.mol')\n",
    "~~~\n",
    "\n",
    "MOLファイルが不正確なフォーマットやエラーがある場合、メソッドは適切なエラーメッセージを返すか、`None`を返す場合があります。"
   ]
  },
  {
   "cell_type": "markdown",
   "id": "62f94704",
   "metadata": {},
   "source": [
    "### SMILES構造から読み込みの場合\n",
    "アスピリンのSMILES（Simplified Molecular Input Line Entry System）構造は\"CC(=O)Oc1ccccc1C(=O)O\"となります。そのSMILESをRDKitに読み込みは以下のように行います。"
   ]
  },
  {
   "cell_type": "code",
   "execution_count": null,
   "id": "9eee4222",
   "metadata": {},
   "outputs": [],
   "source": [
    "smiles = \"CC(=O)Oc1ccccc1C(=O)O\"\n",
    "mol_smiles = Chem.MolFromSmiles(smiles)\n",
    "mol_smiles"
   ]
  },
  {
   "cell_type": "markdown",
   "id": "77d53f0f",
   "metadata": {},
   "source": [
    "【解説】 **`Chem.MolFromSmiles`** メソッド  \n",
    "`Chem.MolFromSmiles`メソッドは、SMILES（Simplified Molecular Input Line Entry System）形式の文字列を受け取り、それをRDKitのMolオブジェクトに変換します。\n",
    "\n",
    "以下は、`Chem.MolFromSmiles`メソッドの基本的な使い方の例です。\n",
    "\n",
    "```python\n",
    "from rdkit import Chem\n",
    "\n",
    "smiles = \"CC(=O)Oc1ccccc1C(=O)O\"\n",
    "mol = Chem.MolFromSmiles(smiles)\n",
    "```\n",
    "与えられたSMILES文字列が無効な場合や解析できない場合にはメソッドは適切なエラーメッセージを返します。"
   ]
  },
  {
   "cell_type": "markdown",
   "id": "54fafb3a-b9cd-40ad-9638-e3ae170a6809",
   "metadata": {},
   "source": [
    "### Canonical SMILES（正規化された分子表現）\n",
    "**Canonical SMILES（正規化された分子表現）**：化学物質の構造をテキストで表現するための一般的な規格であり、異なる表現方法においても同じ構造に対して同じSMILESが生成される分子表現で、RDKitでは生成されるSMILESは**canonical SMILES**となります。  \n",
    "\n",
    "以下はピリジンの異なるSMILES構造をRDKitに読み込んだ戻し値です。いずれも、\"c1ccncc1\"となります。\n"
   ]
  },
  {
   "cell_type": "code",
   "execution_count": 4,
   "id": "2fb22398-0ca7-4f98-a383-192564a8546b",
   "metadata": {},
   "outputs": [
    {
     "data": {
      "text/plain": [
       "'c1ccncc1'"
      ]
     },
     "execution_count": 4,
     "metadata": {},
     "output_type": "execute_result"
    }
   ],
   "source": [
    "Chem.MolToSmiles(Chem.MolFromSmiles('C1=CC=CN=C1'))"
   ]
  },
  {
   "cell_type": "code",
   "execution_count": 5,
   "id": "8b4c43e7-676a-4abc-b608-4295b8706cc5",
   "metadata": {},
   "outputs": [
    {
     "data": {
      "text/plain": [
       "'c1ccncc1'"
      ]
     },
     "execution_count": 5,
     "metadata": {},
     "output_type": "execute_result"
    }
   ],
   "source": [
    "Chem.MolToSmiles(Chem.MolFromSmiles('c1cccnc1'))"
   ]
  },
  {
   "cell_type": "code",
   "execution_count": 6,
   "id": "c337edfb-682e-44f9-b4dc-33d13810f58c",
   "metadata": {},
   "outputs": [
    {
     "data": {
      "text/plain": [
       "'c1ccncc1'"
      ]
     },
     "execution_count": 6,
     "metadata": {},
     "output_type": "execute_result"
    }
   ],
   "source": [
    "Chem.MolToSmiles(Chem.MolFromSmiles('n1ccccc1'))"
   ]
  },
  {
   "cell_type": "markdown",
   "id": "86b95594",
   "metadata": {},
   "source": [
    "### SDFファイルからの読み込みの場合\n",
    "SDF（Structure-Data File）はMOLフォーマットが複数含まれる形式となっています。ファイル拡張子としては.sdfとなっていることが多いでしょう。このファイルの場合`SDMolSupplier()`メソッドを使って以下のように読み込みます。"
   ]
  },
  {
   "cell_type": "code",
   "execution_count": 7,
   "id": "434cb4b0",
   "metadata": {},
   "outputs": [
    {
     "data": {
      "text/plain": [
       "<rdkit.Chem.rdmolfiles.SDMolSupplier at 0x140126b0180>"
      ]
     },
     "execution_count": 7,
     "metadata": {},
     "output_type": "execute_result"
    }
   ],
   "source": [
    "file ='data/aspirin-3D-structure-CT1001395514.sdf'\n",
    "sdf = Chem.SDMolSupplier(file)\n",
    "sdf"
   ]
  },
  {
   "cell_type": "code",
   "execution_count": 8,
   "id": "9fab9b53-563c-4862-86c1-b9b3d776ee81",
   "metadata": {},
   "outputs": [
    {
     "data": {
      "image/png": "[encoded data removed]",
      "text/plain": [
       "<rdkit.Chem.rdchem.Mol at 0x14012690e40>"
      ]
     },
     "execution_count": 8,
     "metadata": {},
     "output_type": "execute_result"
    }
   ],
   "source": [
    "sdf[0]"
   ]
  },
  {
   "cell_type": "markdown",
   "id": "352829fb-922b-45a0-8d8d-862f24f78f9c",
   "metadata": {},
   "source": [
    "SDF（Structure-Data File）の場合は、取り込まれた情報はインスタンス（オブジェクト）に格納されたメモリのアドレスを返します。MOLファイルやSMILESではインスタンス化された化学情報では、そのインスタンスを打つだけで分子骨格を表示するのとは異なる部分です。  \n",
    "\n",
    "pythonの技術的な用語では、このインスタンスは反復可能なオブジェクトである**イテレータ**と呼ばれます。  "
   ]
  },
  {
   "cell_type": "code",
   "execution_count": null,
   "id": "11a4db13",
   "metadata": {},
   "outputs": [],
   "source": [
    "for x in sdf:\n",
    "    if x is not None:\n",
    "        print(Chem.MolToSmiles(x))"
   ]
  },
  {
   "cell_type": "markdown",
   "id": "d93e1a8e",
   "metadata": {},
   "source": [
    "【解説】　**`SDMolSupplier`**　メソッド　　   \n",
    "`SDMolSupplier`メソッド は、RDKitでSDF（Structure-Data File）形式のファイルを読み込みます。`SDMolSupplier`メソッドはイテレータとして機能し、ファイルから分子を順番に読み込むことができます。各分子は`Chem.Mol`オブジェクトとして提供されます。\n",
    "\n",
    "以下は、`SDMolSupplier`メソッドの基本的な使い方を示す例です。\n",
    "\n",
    "```python\n",
    "from rdkit import Chem\n",
    "supplier = Chem.SDMolSupplier('input.sdf')\n",
    "\n",
    "for m in supplier:\n",
    "    if m is not None:\n",
    "        # 分子の処理\n",
    "        print(Chem.MolToSmiles(m))\n",
    "```\n",
    "\n",
    "この例では、'input.sdf'というSDFファイルを`SDMolSupplier`で読み込みます。イテレータとして使われるため、`for`ループ内で分子を一つずつ取得することができます。\n",
    "\n",
    "取得した分子は、`m`変数に格納されます。ただし、一部の分子は正しく読み込むことができない場合がある時には、適切なエラーメッセージを返します。"
   ]
  },
  {
   "cell_type": "markdown",
   "id": "ca9818ff",
   "metadata": {},
   "source": [
    "## 2. 分子構造の表示・可視化\n",
    "読み込んだ分子の描画は`Chem`モジュールの配下にある`Draw`サブモジュールにツール群がまとめられいますので、`Draw`をインポートします。なお、Jupyter Notebookでの描画は`IPythonConsole`をあらかじめインポートしておくとラインに表示されます。"
   ]
  },
  {
   "cell_type": "code",
   "execution_count": null,
   "id": "674f456b",
   "metadata": {},
   "outputs": [],
   "source": [
    "from rdkit.Chem import Draw\n",
    "from rdkit.Chem.Draw import IPythonConsole"
   ]
  },
  {
   "cell_type": "markdown",
   "id": "f4549459",
   "metadata": {},
   "source": [
    "### 単一の分子を表示"
   ]
  },
  {
   "cell_type": "code",
   "execution_count": null,
   "id": "b2793d54",
   "metadata": {},
   "outputs": [],
   "source": [
    "smiles = \"O=C(OC(=O)c1cccc2)c12\"\n",
    "phthalic_anhydride = Chem.MolFromSmiles(smiles)"
   ]
  },
  {
   "cell_type": "markdown",
   "id": "7db24ed8-8883-4fc5-a739-77200dd9c965",
   "metadata": {},
   "source": [
    "molオブジェクトの可視化は、下記のように`MolToImage`メソッドでオブジェクト化することで表示されます。　　\n",
    "\n",
    "【注意】なお、Jupyter Notebookでは、`Chem.Draw`モジュールの`IPythonConsole`をインポートさせておくことでRDKitモジュールが正しくインストールされている場合、`Mol`オブジェクトを直接表示することもできます。`Mol`オブジェクトの表示には、RDKitが組み込みのJupyter拡張機能を使用しているため、追加のコードは必要ありません。"
   ]
  },
  {
   "cell_type": "code",
   "execution_count": null,
   "id": "93195e70",
   "metadata": {},
   "outputs": [],
   "source": [
    "img = Draw.MolToImage(phthalic_anhydride)\n",
    "img"
   ]
  },
  {
   "cell_type": "markdown",
   "id": "4ceff16a",
   "metadata": {},
   "source": [
    "【解説】 **`MolToImage`** メソッド    \n",
    "`MolToImage`メソッド は、RDKitの`Mol`オブジェクトを描画するために使用されます。以下は、`MolToImage`メソッドの基本的な使用例です。\n",
    "\n",
    "```python\n",
    "from rdkit import Chem\n",
    "from rdkit.Chem import Draw\n",
    "\n",
    "mol = Chem.MolFromSmiles('CCO')\n",
    "img = Draw.MolToImage(mol)\n",
    "img.show()\n",
    "```\n",
    "\n",
    "このコードでは、SMILES表記法で指定された分子を`MolFromSmiles`メソッドを使用して作成し、`MolToImage`メソッドから分子を描画します。なお、`MolToImage`メソッドはPIL（Python Imaging Library）の画像オブジェクトを返します。これより、`img.show`メソッドを使用することで画像が表示されます。"
   ]
  },
  {
   "cell_type": "markdown",
   "id": "a44df0e0",
   "metadata": {},
   "source": [
    "### 複数の分子をまとめて表示\n",
    "ここでは複数分子の描画について説明をいたします。MOLファイルやSMILESからmolオブジェクト化されていれば、それを`Draw.MolsToGridImage`メソッドでリスト構造で複数の分子を格子状に配置して描画できます。以下では無水フタル酸とフタル酸ジメチルの二つの分子を表示する方法です。"
   ]
  },
  {
   "cell_type": "code",
   "execution_count": null,
   "id": "7133d9b4",
   "metadata": {},
   "outputs": [],
   "source": [
    "# 無水フタル酸\n",
    "smiles = \"O=C(OC(=O)c1cccc2)c12\"\n",
    "phthalic_anhydride = Chem.MolFromSmiles(smiles)\n",
    "phthalic_anhydride"
   ]
  },
  {
   "cell_type": "code",
   "execution_count": null,
   "id": "f3918fdd",
   "metadata": {},
   "outputs": [],
   "source": [
    "# フタル酸ジメチル\n",
    "dimethyl_phthalate = Chem.MolFromSmiles('O=C(OC)c(c(ccc1)C(=O)OC)c1')\n",
    "dimethyl_phthalate"
   ]
  },
  {
   "cell_type": "code",
   "execution_count": null,
   "id": "581bfba3",
   "metadata": {},
   "outputs": [],
   "source": [
    "img2 = Draw.MolsToGridImage([phthalic_anhydride,dimethyl_phthalate], molsPerRow=2)\n",
    "img2"
   ]
  },
  {
   "cell_type": "markdown",
   "id": "927e0917",
   "metadata": {},
   "source": [
    "【解説】 **`MolsToGridImage`** メソッド \n",
    "\n",
    "`MolsToGridImage`メソッド は、複数のRDKitの`Mol`オブジェクトをグリッド形式の画像として描画するために使用されます。以下は、`MolsToGridImage`メソッド の基本的な使用例です。\n",
    "\n",
    "```python\n",
    "from rdkit import Chem\n",
    "from rdkit.Chem import Draw\n",
    "\n",
    "mols = [Chem.MolFromSmiles('CCO'), Chem.MolFromSmiles('CNC'), Chem.MolFromSmiles('CCN')]\n",
    "img = Draw.MolsToGridImage(mols, molsPerRow=3)\n",
    "img.show()\n",
    "```\n",
    "\n",
    "`molsPerRow`パラメータは、1行あたりの分子の数を指定します。この例では、3つの分子が1行に表示されます。`MolsToGridImage`メソッドは、PIL（Python Imaging Library）の画像オブジェクトを返します。`img.show()`を使用することで、画像が表示されます。\n",
    "\n",
    "`MolsToGridImage`メソッド には、さまざまなオプションがあります。たとえば、`legends`パラメータを使用して各分子のキャプションを指定したり、`highlightAtomLists`や`highlightBondLists`パラメータを使用して特定の原子や結合をハイライトしたりすることもできます。さらに、出力画像のサイズやスケーリング、カラースキームなどもカスタマイズすることができます。"
   ]
  },
  {
   "cell_type": "markdown",
   "id": "bc6cc905",
   "metadata": {},
   "source": [
    "### 複数の分子をまとめて表示２\n",
    "続いては４つの分子についての表示例です。molsPerRow=3として横に３つの分子を配置します。"
   ]
  },
  {
   "cell_type": "code",
   "execution_count": null,
   "id": "a149eb93",
   "metadata": {},
   "outputs": [],
   "source": [
    "smiles = [\n",
    "    'CC(=O)Oc1ccccc1C(=O)O',\n",
    "    'O=C(OC(=O)c1cccc2)c12',\n",
    "    'O=C(OC)c(c(ccc1)C(=O)OC)c1',\n",
    "    'O=C(OC1CCCCC1)C2=C(C=CC=C2)C(OC3CCCCC3)=O'\n",
    "]\n",
    "\n",
    "mols = [Chem.MolFromSmiles(smi) for smi in smiles]\n",
    "\n",
    "Draw.MolsToGridImage(mols, molsPerRow=3, subImgSize=(400, 200))"
   ]
  },
  {
   "cell_type": "markdown",
   "id": "5bf9d034",
   "metadata": {},
   "source": [
    "【解説】 **`subImgSize`** オプション\n",
    "\n",
    "`subImgSize`は、`MolsToGridImage`メソッドのオプションの一つであり、それぞれの分子のサイズを指定するために使用されます。このオプションには、(width, height)という2つの値を持つタプルを指定します。\n",
    "\n",
    "width: それぞれの分子の横幅をピクセル単位で指定します。  \n",
    "height: それぞれの分子の縦幅をピクセル単位で指定します。  \n",
    "\n",
    "subImgSizeオプションにより、各分子のサイズを指定することで、描画される画像内での各分子の相対的な大きさを調整することができます。これにより、画像内の分子の配置や視覚的なバランスを調整することが可能です。"
   ]
  },
  {
   "cell_type": "markdown",
   "id": "c469a47e",
   "metadata": {},
   "source": [
    "## 3. 分子構造の保存\n",
    "RDKitを使用して分子構造を保存するには、基本として`Mol`オブジェクトからファイルに書き出す必要があります。RDKitは複数のファイル形式に対応しており、一般的な形式としてはMOL、SMILES、SDFフォーマットのほか、PDBや画像ファイルのjpegフォーマットなどがあります。"
   ]
  },
  {
   "cell_type": "markdown",
   "id": "04ca1553",
   "metadata": {},
   "source": [
    "### MOLファイル形式で保存する場合：  \n",
    "`MolToMolFile`モジュールを使います。SMILES表記法から`Mol`オブジェクトを作成し、`MolToMolFile`メソッドを使用してMOLファイルに保存しています。第1引数に保存する`Mol`オブジェクトを指定し、第2引数に保存するファイル名（ファイルパス）を指定します。"
   ]
  },
  {
   "cell_type": "code",
   "execution_count": null,
   "id": "a4e94d57",
   "metadata": {},
   "outputs": [],
   "source": [
    "smiles = \"CC(=O)Oc1ccccc1C(=O)O\"\n",
    "mol = Chem.MolFromSmiles(smiles)\n",
    "Chem.MolToMolFile(mol, './data/aspirin_rdkit.mol')"
   ]
  },
  {
   "cell_type": "markdown",
   "id": "c89945da",
   "metadata": {},
   "source": [
    "### SMILES形式で保存する場合：\n",
    "SMILES表記はすでに文字列となっていることから、次のように標準の組み込み関数である`open`関数を使って、直接に書き出します。"
   ]
  },
  {
   "cell_type": "code",
   "execution_count": null,
   "id": "690f5e3d",
   "metadata": {},
   "outputs": [],
   "source": [
    "smiles = \"CC(=O)Oc1ccccc1C(=O)O\"\n",
    "with open('./data/aspirin_rdkit.smi', 'w') as f:\n",
    "    f.write(smiles)"
   ]
  },
  {
   "cell_type": "markdown",
   "id": "069e8a41",
   "metadata": {},
   "source": [
    "### SDFファイル形式で保存する場合：\n",
    "上記のコードでは、SMILES表記法から`Mol`オブジェクトを作成し、`SDWriter`メソッドよりSDFファイルに保存しています。標準ライブラリの組み込こまれている`write`メソッドを使用して`Mol`オブジェクトを書き込み、`close`メソッドを使用してファイルを閉じます。"
   ]
  },
  {
   "cell_type": "code",
   "execution_count": null,
   "id": "0cf974e8",
   "metadata": {},
   "outputs": [],
   "source": [
    "smiles = \"CC(=O)Oc1ccccc1C(=O)O\"\n",
    "mol = Chem.MolFromSmiles(smiles)\n",
    "\n",
    "writer = Chem.SDWriter('./data/aspirin_rdkit.sdf')\n",
    "writer.write(mol)\n",
    "writer.close()"
   ]
  },
  {
   "cell_type": "markdown",
   "id": "b0ecd8be",
   "metadata": {},
   "source": [
    "### PDBファイル形式で保存する場合：\n",
    "PDBの場合は`Chem.PDBWriter`メソッドに変更するだけで、上記のSDFと変わりません。同じく、`write`メソッドを使用して`Mol`オブジェクトを書き込み、`close`メソッドを使用してファイルを閉じます。"
   ]
  },
  {
   "cell_type": "code",
   "execution_count": null,
   "id": "f34b79f5",
   "metadata": {},
   "outputs": [],
   "source": [
    "smiles = \"CC(=O)Oc1ccccc1C(=O)O\"\n",
    "mol = Chem.MolFromSmiles(smiles)\n",
    "\n",
    "writer = Chem.PDBWriter('./data/aspirin_rdkit.pdb')\n",
    "writer.write(mol)\n",
    "writer.close()"
   ]
  },
  {
   "cell_type": "markdown",
   "id": "f8acb32d",
   "metadata": {},
   "source": [
    "### 画像形式で保存する場合（JupyterNotebookのみ）：\n",
    "png画像で保存する場合は、組み込み関数の`save`関数から次のように行えます。ただし、事前に`MolsToGridImage`メソッドで`returnPNG`オプションをFalseとしておくことが必要です。"
   ]
  },
  {
   "cell_type": "code",
   "execution_count": null,
   "id": "6d731eca",
   "metadata": {},
   "outputs": [],
   "source": [
    "save_images = [phthalic_anhydride,dimethyl_phthalate]\n",
    "\n",
    "img = Draw.MolsToGridImage( save_images, molsPerRow=2,returnPNG=False)\n",
    "img.save('./data//molecules.jpg')"
   ]
  },
  {
   "cell_type": "markdown",
   "id": "73f98452",
   "metadata": {},
   "source": [
    "## RDKitの公式チュートリアル\n",
    "より詳しい操作などはRDKitの公式チュートリアルで学習することができます。\n",
    "https://github.com/rdkit/rdkit-tutorials"
   ]
  },
  {
   "cell_type": "markdown",
   "id": "58372d9d",
   "metadata": {},
   "source": [
    "#　次回  \n",
    "https://colab.research.google.com/github/ARIM-Training/Training_python_4/blob/main/2_RDKit-2.ipynb"
   ]
  }
 ],
 "metadata": {
  "kernelspec": {
   "display_name": "Python 3 (ipykernel)",
   "language": "python",
   "name": "python3"
  },
  "language_info": {
   "codemirror_mode": {
    "name": "ipython",
    "version": 3
   },
   "file_extension": ".py",
   "mimetype": "text/x-python",
   "name": "python",
   "nbconvert_exporter": "python",
   "pygments_lexer": "ipython3",
   "version": "3.8.17"
  }
 },
 "nbformat": 4,
 "nbformat_minor": 5
}
