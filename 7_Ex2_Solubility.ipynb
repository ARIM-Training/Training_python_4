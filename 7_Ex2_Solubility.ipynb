{
 "cells": [
  {
   "cell_type": "markdown",
   "metadata": {},
   "source": [
    "# 情報活用講座：　ケモインフォマテックス 編　\n",
    "# 第7回：　水溶解度データと構造生成\n",
    "\n",
    "\n",
    "## 底本\n",
    "船津 公人、柴山 翔二郎 **『実践 マテリアルズインフォマティクス　Pythonによる材料設計のための機械学習』**、近代科学社、2020  \n",
    "第９章第３節　プロジェクトの例/ 解析例２：水溶解度データと構造生成\n",
    "\n",
    "## データセット\n",
    "delaney-processed.csvは1128化合物の水溶解度についてのデータセットです。このデータセットは、Delaneyの論文『ESOL: Estimating Aqueous Solubility Directly from Molecular Structure』[1] で発表されたものに基づいています。\n",
    "\n",
    "[1] John S. Delaney, \"ESOL:  Estimating Aqueous Solubility Directly from Molecular Structure\", J. Chem. Inf. Comput. Sci. 44, 1000–1005 (2004) (DOI: 10.1021/ci034243x)  \n",
    "\n",
    "Delaney-processed.csvは、分子の化学式、SMILES表記、また、水溶解度としてオクタノール水分配係数が含まれており、これらの特性は薬物探索や環境影響評価などの目的で使用されています。\n",
    "\n",
    "\n",
    "1. Compound ID\t：化合物ID\n",
    "1. ESOL predicted log solubility in mols per litre　：log水溶解度（オクタノール水分配係数）の予測値\t\n",
    "1. Minimum Degree：　最小次数\t\n",
    "1. Molecular Weight：分子量\t\n",
    "1. Number of H-Bond Donors\t：　水素結合に関与するDonor数\n",
    "1. Number of Rings\t：芳香環の数\t\n",
    "1. Number of Rotatable Bonds　：　回転可能結合数\t\n",
    "1. Polar Surface Area　：　極性表面積\t\n",
    "1. measured log solubility in mols per litre：log水溶解度の実測値\t\n",
    "1. smiles：SMILES表記\n",
    "\n",
    "\n",
    "## pythonライブラリ\n",
    "\n",
    "\n",
    "**NumPy**：　高性能の数値計算やデータ処理に特化したPythonのライブラリです。NumPyは多次元の配列や行列を効率的に操作する機能を提供し、科学技術計算やデータ解析の分野で広く使用されています。\n",
    "\n",
    "**Pandas**：　データ操作と解析のための高レベルのPythonライブラリです。Pandasは、テーブル形式のデータを効率的に処理し、データのフィルタリング、変換、集約、および結合などの機能を提供します。データの整形やクリーニング、欠損値の処理などを容易に行うことができます。\n",
    "\n",
    "**Matplotlib**：　Pythonでデータを可視化するための強力なライブラリです。Matplotlibは、グラフや図を描画するための多様な機能を提供し、折れ線グラフ、ヒストグラム、散布図、バーチャートなどの多くのプロットスタイルをサポートしています。データの傾向や関係性を視覚的に理解するための強力なツールです。\n",
    "\n",
    "**RDKit**：　RDKitは、化学情報学や薬学の分野で広く使用されるオープンソースのソフトウェア開発キットです。RDKitはPythonで実装されており、様々な化学情報の処理や分子の構造解析、化学反応の予測などをサポートします。\n",
    "\n",
    "\n",
    "## 目標\n",
    "第６回では10,000の仮想化合物のバーチャルライブラリを作成しました。本編では、これらの化合物から候補材料を見つけます。以下の４つを念頭に進めます。\n",
    "\n",
    "* PLSによる回帰分析では、フィンガープリント（記述子）としてMorganフィンガープリントおよびRDKit記述子についてグリッドサーチでハイパーパラメータ調整を行い、予測性の高いモデルを定めます。\n",
    "* `cheminfo/descriptors.py`に保存した記述子計算クラスを使って、SMILESから記述子計算をします。\n",
    "* あわせて、教師データから適用範囲（AD）を定めます。ここではT2指標、Q値という距離指標を用います。\n",
    "* 第6回で構造生成した仮想ライブラリを予測器にかけ、適用範囲（AD）内に収まる化合物をスクリーニングします。"
   ]
  },
  {
   "cell_type": "markdown",
   "metadata": {},
   "source": [
    "# Google Colabにおける環境設定\n",
    "google colab環境でなければ実行不要"
   ]
  },
  {
   "cell_type": "code",
   "execution_count": null,
   "metadata": {},
   "outputs": [],
   "source": [
    "!pip install rdkit-pypi\n",
    "!git clone https://github.com/ARIM-Training/Training_python_4.git\n",
    "%cd Training_python_4"
   ]
  },
  {
   "cell_type": "markdown",
   "metadata": {},
   "source": [
    "## 1.分子構造データの読み込み （P.130）\n",
    "### ライブラリのインポート"
   ]
  },
  {
   "cell_type": "code",
   "execution_count": 1,
   "metadata": {},
   "outputs": [],
   "source": [
    "#データ構造化ライブラリ\n",
    "import pandas as pd\n",
    "import numpy as np\n",
    "import matplotlib as mpl\n",
    "import matplotlib.pyplot as plt \n",
    "\n",
    "from sklearn.model_selection import train_test_split, GridSearchCV\n",
    "from sklearn.cross_decomposition import PLSRegression\n",
    "from sklearn import metrics\n",
    "\n",
    "#記述子ライブラリ\n",
    "from rdkit import Chem\n",
    "from rdkit.Chem.AllChem import GetHashedMorganFingerprint\n",
    "\n",
    "from warnings import filterwarnings\n",
    "filterwarnings('ignore')# 警告を無視"
   ]
  },
  {
   "cell_type": "markdown",
   "metadata": {},
   "source": [
    "### サンプルファイルの読み込み\n",
    "第一回と同じく「data/delaney-solubility」フォルダーにあるdelaney-processed.csvをpandasの`read_csv()`で読み込みます。RDKitの`MolFromSmiles`関数を[smiles]列に適用してmol構造への変換オブジェクトを[mol]列とする流れも第一回と同じです。"
   ]
  },
  {
   "cell_type": "code",
   "execution_count": 2,
   "metadata": {},
   "outputs": [
    {
     "data": {
      "text/html": [
       "<div>\n",
       "<style scoped>\n",
       "    .dataframe tbody tr th:only-of-type {\n",
       "        vertical-align: middle;\n",
       "    }\n",
       "\n",
       "    .dataframe tbody tr th {\n",
       "        vertical-align: top;\n",
       "    }\n",
       "\n",
       "    .dataframe thead th {\n",
       "        text-align: right;\n",
       "    }\n",
       "</style>\n",
       "<table border=\"1\" class=\"dataframe\">\n",
       "  <thead>\n",
       "    <tr style=\"text-align: right;\">\n",
       "      <th></th>\n",
       "      <th>Compound ID</th>\n",
       "      <th>ESOL predicted log solubility in mols per litre</th>\n",
       "      <th>Minimum Degree</th>\n",
       "      <th>Molecular Weight</th>\n",
       "      <th>Number of H-Bond Donors</th>\n",
       "      <th>Number of Rings</th>\n",
       "      <th>Number of Rotatable Bonds</th>\n",
       "      <th>Polar Surface Area</th>\n",
       "      <th>measured log solubility in mols per litre</th>\n",
       "      <th>smiles</th>\n",
       "      <th>mol</th>\n",
       "    </tr>\n",
       "  </thead>\n",
       "  <tbody>\n",
       "    <tr>\n",
       "      <th>0</th>\n",
       "      <td>Amigdalin</td>\n",
       "      <td>-0.974</td>\n",
       "      <td>1</td>\n",
       "      <td>457.432</td>\n",
       "      <td>7</td>\n",
       "      <td>3</td>\n",
       "      <td>7</td>\n",
       "      <td>202.32</td>\n",
       "      <td>-0.770</td>\n",
       "      <td>OCC3OC(OCC2OC(OC(C#N)c1ccccc1)C(O)C(O)C2O)C(O)...</td>\n",
       "      <td>&lt;rdkit.Chem.rdchem.Mol object at 0x00000216B6C...</td>\n",
       "    </tr>\n",
       "    <tr>\n",
       "      <th>1</th>\n",
       "      <td>Fenfuram</td>\n",
       "      <td>-2.885</td>\n",
       "      <td>1</td>\n",
       "      <td>201.225</td>\n",
       "      <td>1</td>\n",
       "      <td>2</td>\n",
       "      <td>2</td>\n",
       "      <td>42.24</td>\n",
       "      <td>-3.300</td>\n",
       "      <td>Cc1occc1C(=O)Nc2ccccc2</td>\n",
       "      <td>&lt;rdkit.Chem.rdchem.Mol object at 0x00000216B6C...</td>\n",
       "    </tr>\n",
       "    <tr>\n",
       "      <th>2</th>\n",
       "      <td>citral</td>\n",
       "      <td>-2.579</td>\n",
       "      <td>1</td>\n",
       "      <td>152.237</td>\n",
       "      <td>0</td>\n",
       "      <td>0</td>\n",
       "      <td>4</td>\n",
       "      <td>17.07</td>\n",
       "      <td>-2.060</td>\n",
       "      <td>CC(C)=CCCC(C)=CC(=O)</td>\n",
       "      <td>&lt;rdkit.Chem.rdchem.Mol object at 0x00000216B6C...</td>\n",
       "    </tr>\n",
       "    <tr>\n",
       "      <th>3</th>\n",
       "      <td>Picene</td>\n",
       "      <td>-6.618</td>\n",
       "      <td>2</td>\n",
       "      <td>278.354</td>\n",
       "      <td>0</td>\n",
       "      <td>5</td>\n",
       "      <td>0</td>\n",
       "      <td>0.00</td>\n",
       "      <td>-7.870</td>\n",
       "      <td>c1ccc2c(c1)ccc3c2ccc4c5ccccc5ccc43</td>\n",
       "      <td>&lt;rdkit.Chem.rdchem.Mol object at 0x00000216B6C...</td>\n",
       "    </tr>\n",
       "    <tr>\n",
       "      <th>4</th>\n",
       "      <td>Thiophene</td>\n",
       "      <td>-2.232</td>\n",
       "      <td>2</td>\n",
       "      <td>84.143</td>\n",
       "      <td>0</td>\n",
       "      <td>1</td>\n",
       "      <td>0</td>\n",
       "      <td>0.00</td>\n",
       "      <td>-1.330</td>\n",
       "      <td>c1ccsc1</td>\n",
       "      <td>&lt;rdkit.Chem.rdchem.Mol object at 0x00000216B6C...</td>\n",
       "    </tr>\n",
       "    <tr>\n",
       "      <th>...</th>\n",
       "      <td>...</td>\n",
       "      <td>...</td>\n",
       "      <td>...</td>\n",
       "      <td>...</td>\n",
       "      <td>...</td>\n",
       "      <td>...</td>\n",
       "      <td>...</td>\n",
       "      <td>...</td>\n",
       "      <td>...</td>\n",
       "      <td>...</td>\n",
       "      <td>...</td>\n",
       "    </tr>\n",
       "    <tr>\n",
       "      <th>1123</th>\n",
       "      <td>halothane</td>\n",
       "      <td>-2.608</td>\n",
       "      <td>1</td>\n",
       "      <td>197.381</td>\n",
       "      <td>0</td>\n",
       "      <td>0</td>\n",
       "      <td>0</td>\n",
       "      <td>0.00</td>\n",
       "      <td>-1.710</td>\n",
       "      <td>FC(F)(F)C(Cl)Br</td>\n",
       "      <td>&lt;rdkit.Chem.rdchem.Mol object at 0x00000216B7C...</td>\n",
       "    </tr>\n",
       "    <tr>\n",
       "      <th>1124</th>\n",
       "      <td>Oxamyl</td>\n",
       "      <td>-0.908</td>\n",
       "      <td>1</td>\n",
       "      <td>219.266</td>\n",
       "      <td>1</td>\n",
       "      <td>0</td>\n",
       "      <td>1</td>\n",
       "      <td>71.00</td>\n",
       "      <td>0.106</td>\n",
       "      <td>CNC(=O)ON=C(SC)C(=O)N(C)C</td>\n",
       "      <td>&lt;rdkit.Chem.rdchem.Mol object at 0x00000216B7C...</td>\n",
       "    </tr>\n",
       "    <tr>\n",
       "      <th>1125</th>\n",
       "      <td>Thiometon</td>\n",
       "      <td>-3.323</td>\n",
       "      <td>1</td>\n",
       "      <td>246.359</td>\n",
       "      <td>0</td>\n",
       "      <td>0</td>\n",
       "      <td>7</td>\n",
       "      <td>18.46</td>\n",
       "      <td>-3.091</td>\n",
       "      <td>CCSCCSP(=S)(OC)OC</td>\n",
       "      <td>&lt;rdkit.Chem.rdchem.Mol object at 0x00000216B7C...</td>\n",
       "    </tr>\n",
       "    <tr>\n",
       "      <th>1126</th>\n",
       "      <td>2-Methylbutane</td>\n",
       "      <td>-2.245</td>\n",
       "      <td>1</td>\n",
       "      <td>72.151</td>\n",
       "      <td>0</td>\n",
       "      <td>0</td>\n",
       "      <td>1</td>\n",
       "      <td>0.00</td>\n",
       "      <td>-3.180</td>\n",
       "      <td>CCC(C)C</td>\n",
       "      <td>&lt;rdkit.Chem.rdchem.Mol object at 0x00000216B7C...</td>\n",
       "    </tr>\n",
       "    <tr>\n",
       "      <th>1127</th>\n",
       "      <td>Stirofos</td>\n",
       "      <td>-4.320</td>\n",
       "      <td>1</td>\n",
       "      <td>365.964</td>\n",
       "      <td>0</td>\n",
       "      <td>1</td>\n",
       "      <td>5</td>\n",
       "      <td>44.76</td>\n",
       "      <td>-4.522</td>\n",
       "      <td>COP(=O)(OC)OC(=CCl)c1cc(Cl)c(Cl)cc1Cl</td>\n",
       "      <td>&lt;rdkit.Chem.rdchem.Mol object at 0x00000216B7C...</td>\n",
       "    </tr>\n",
       "  </tbody>\n",
       "</table>\n",
       "<p>1128 rows × 11 columns</p>\n",
       "</div>"
      ],
      "text/plain": [
       "         Compound ID  ESOL predicted log solubility in mols per litre  \\\n",
       "0          Amigdalin                                           -0.974   \n",
       "1           Fenfuram                                           -2.885   \n",
       "2             citral                                           -2.579   \n",
       "3             Picene                                           -6.618   \n",
       "4          Thiophene                                           -2.232   \n",
       "...              ...                                              ...   \n",
       "1123       halothane                                           -2.608   \n",
       "1124          Oxamyl                                           -0.908   \n",
       "1125       Thiometon                                           -3.323   \n",
       "1126  2-Methylbutane                                           -2.245   \n",
       "1127        Stirofos                                           -4.320   \n",
       "\n",
       "      Minimum Degree  Molecular Weight  Number of H-Bond Donors  \\\n",
       "0                  1           457.432                        7   \n",
       "1                  1           201.225                        1   \n",
       "2                  1           152.237                        0   \n",
       "3                  2           278.354                        0   \n",
       "4                  2            84.143                        0   \n",
       "...              ...               ...                      ...   \n",
       "1123               1           197.381                        0   \n",
       "1124               1           219.266                        1   \n",
       "1125               1           246.359                        0   \n",
       "1126               1            72.151                        0   \n",
       "1127               1           365.964                        0   \n",
       "\n",
       "      Number of Rings  Number of Rotatable Bonds  Polar Surface Area  \\\n",
       "0                   3                          7              202.32   \n",
       "1                   2                          2               42.24   \n",
       "2                   0                          4               17.07   \n",
       "3                   5                          0                0.00   \n",
       "4                   1                          0                0.00   \n",
       "...               ...                        ...                 ...   \n",
       "1123                0                          0                0.00   \n",
       "1124                0                          1               71.00   \n",
       "1125                0                          7               18.46   \n",
       "1126                0                          1                0.00   \n",
       "1127                1                          5               44.76   \n",
       "\n",
       "      measured log solubility in mols per litre  \\\n",
       "0                                        -0.770   \n",
       "1                                        -3.300   \n",
       "2                                        -2.060   \n",
       "3                                        -7.870   \n",
       "4                                        -1.330   \n",
       "...                                         ...   \n",
       "1123                                     -1.710   \n",
       "1124                                      0.106   \n",
       "1125                                     -3.091   \n",
       "1126                                     -3.180   \n",
       "1127                                     -4.522   \n",
       "\n",
       "                                                 smiles  \\\n",
       "0     OCC3OC(OCC2OC(OC(C#N)c1ccccc1)C(O)C(O)C2O)C(O)...   \n",
       "1                                Cc1occc1C(=O)Nc2ccccc2   \n",
       "2                                  CC(C)=CCCC(C)=CC(=O)   \n",
       "3                    c1ccc2c(c1)ccc3c2ccc4c5ccccc5ccc43   \n",
       "4                                               c1ccsc1   \n",
       "...                                                 ...   \n",
       "1123                                   FC(F)(F)C(Cl)Br    \n",
       "1124                          CNC(=O)ON=C(SC)C(=O)N(C)C   \n",
       "1125                                  CCSCCSP(=S)(OC)OC   \n",
       "1126                                            CCC(C)C   \n",
       "1127              COP(=O)(OC)OC(=CCl)c1cc(Cl)c(Cl)cc1Cl   \n",
       "\n",
       "                                                    mol  \n",
       "0     <rdkit.Chem.rdchem.Mol object at 0x00000216B6C...  \n",
       "1     <rdkit.Chem.rdchem.Mol object at 0x00000216B6C...  \n",
       "2     <rdkit.Chem.rdchem.Mol object at 0x00000216B6C...  \n",
       "3     <rdkit.Chem.rdchem.Mol object at 0x00000216B6C...  \n",
       "4     <rdkit.Chem.rdchem.Mol object at 0x00000216B6C...  \n",
       "...                                                 ...  \n",
       "1123  <rdkit.Chem.rdchem.Mol object at 0x00000216B7C...  \n",
       "1124  <rdkit.Chem.rdchem.Mol object at 0x00000216B7C...  \n",
       "1125  <rdkit.Chem.rdchem.Mol object at 0x00000216B7C...  \n",
       "1126  <rdkit.Chem.rdchem.Mol object at 0x00000216B7C...  \n",
       "1127  <rdkit.Chem.rdchem.Mol object at 0x00000216B7C...  \n",
       "\n",
       "[1128 rows x 11 columns]"
      ]
     },
     "execution_count": 2,
     "metadata": {},
     "output_type": "execute_result"
    }
   ],
   "source": [
    "df=pd.read_csv('./data/delaney-solubility/delaney-processed.csv')\n",
    "df['mol'] = df['smiles'].apply(Chem.MolFromSmiles)\n",
    "df"
   ]
  },
  {
   "cell_type": "markdown",
   "metadata": {},
   "source": [
    "## 2.　機械学習モデル：PLSによる最適な記述子の探索"
   ]
  },
  {
   "cell_type": "markdown",
   "metadata": {},
   "source": [
    "### 事前準備：ハッシュ化されたMorganフィンガープリントの生成の方法（P.127）\n",
    "Morganフィンガープリントは、指定された半径（半径は整数で指定）を持つ原子および結合の周りに存在する原子と結合のパターンを考慮して計算されます。この処理はハッシュ化処理と呼ばれ、結果はハッシュ値として返されます。これにより、非常に大きなビットベクトルを効率的に表現できます。なおここでハッシュ化処理とは、フラグメントの出現回数を折りたたんで固定長のベクトルを出力する処理です。\n",
    "\n",
    "ここではトルエンを例に、`GetHashedMorganFingerprint()`メソッドよりハッシュ化されたMorganフィンガープリントを取得する方法を見てみることにします。"
   ]
  },
  {
   "cell_type": "code",
   "execution_count": 3,
   "metadata": {},
   "outputs": [],
   "source": [
    "toluene = Chem.MolFromSmiles('Cc1ccccc1')\n",
    "hmfp = GetHashedMorganFingerprint(mol=toluene, radius=3, nBits=512)"
   ]
  },
  {
   "cell_type": "markdown",
   "metadata": {},
   "source": [
    "【解説】`GetHashedMorganFingerprint()`関数とは\n",
    "\n",
    "`GetHashedMorganFingerprint()`関数は、分子のMorgan（またはCircular）フィンガープリントを計算します。Morganフィンガープリントは、分子中の原子および結合を取り込んだ非常に有用な特徴ベクトルです。"
   ]
  },
  {
   "cell_type": "markdown",
   "metadata": {},
   "source": [
    "`GetMorganFingerprint()`関数との違い  \n",
    "`GetMorganFingerprint()`関数と`GetHashedMorganFingerprint()`関数の主な違いは、返されるデータの形式です。\n",
    "\n",
    "1. `GetMorganFingerprint()`関数:\n",
    "   - 返り値: ビットベクトル（RDKitのExplicitBitVectクラス）またはカウンティベクトル（RDKitのIntVectクラス）を返します。\n",
    "   - データ形式: ビットベクトルは明示的な0と1のビットで構成され、1がフィンガープリントに存在するフィーチャーを示し、0が存在しないことを示します。\n",
    "   - 使用例: 2D類似性検索など、フィンガープリントのバイナリ表現を必要とする場合に使用されます。\n",
    "\n",
    "2. `GetHashedMorganFingerprint()`関数:\n",
    "   - 返り値: ハッシュ値のリストを返します。各ハッシュ値は、指定されたビット長（デフォルトは2048）にハッシュされます。\n",
    "   - データ形式: ビットベクトルよりもコンパクトであり、類似性検索などの場合に効率的に使用できます。\n",
    "   - 使用例: 類似性検索や機械学習モデルへの入力など、ハッシュされた指紋データを利用する場合に使用されます。\n",
    "   \n",
    " なお、`GetHashedMorganFingerprint() `のデフォルトでは`use features`=Falseオプションとなっており、ECFP (拡張接続フィンガープリント)」に該当します。\n",
    "\n",
    "どちらの関数を使用するかは、具体的な用途によって異なります。"
   ]
  },
  {
   "cell_type": "markdown",
   "metadata": {},
   "source": [
    "ビットベクトルから非ゼロのビットのインデックスを見てみましょう"
   ]
  },
  {
   "cell_type": "code",
   "execution_count": 4,
   "metadata": {},
   "outputs": [
    {
     "data": {
      "text/plain": [
       "{31: 2,\n",
       " 33: 1,\n",
       " 64: 3,\n",
       " 175: 2,\n",
       " 186: 1,\n",
       " 214: 2,\n",
       " 287: 1,\n",
       " 309: 1,\n",
       " 337: 5,\n",
       " 356: 1,\n",
       " 384: 1,\n",
       " 389: 1,\n",
       " 411: 1}"
      ]
     },
     "execution_count": 4,
     "metadata": {},
     "output_type": "execute_result"
    }
   ],
   "source": [
    "hmfp.GetNonzeroElements()"
   ]
  },
  {
   "cell_type": "markdown",
   "metadata": {},
   "source": [
    "【解説】`GetNonzeroElements()`  \n",
    "ビットベクトルから非ゼロのビットのインデックスと値のペアを取得するために使用されます。この関数は主にフィンガープリントなどのバイナリデータを表すのに使用されます。\n",
    "\n",
    "ビットベクトルは、ビット長に対して非常に多くのゼロビットを含む場合がありますが、多くの場合、非ゼロのビット（1のビット）のみが重要です。`GetNonzeroElements()`関数は、非ゼロのビットのインデックスとその値（通常は1）のペアを取得することで、効率的に非ゼロの要素だけを取り出すことができます。\n",
    "\n",
    "`GetNonzeroElements()`関数の構文は以下の通りです:\n",
    "\n",
    "```python\n",
    "def GetNonzeroElements(bitVect)\n",
    "```\n",
    "\n",
    "- `bitVect`: ExplicitBitVectオブジェクト（明示的なビットベクトル）。これは通常、フィンガープリントなどのバイナリデータを表現するために使用されます。"
   ]
  },
  {
   "cell_type": "markdown",
   "metadata": {},
   "source": [
    "## 【参考】ハッシュ化されたMorganフィンガープリントを出力するクラス\n",
    "船津先生のオリジナルであるMorganフィンガープリント（頻度）を取り出す`HashedMorgan`クラスを使ってヒストグラムを作成します。"
   ]
  },
  {
   "cell_type": "code",
   "execution_count": 5,
   "metadata": {},
   "outputs": [],
   "source": [
    "from cheminfo.descriptors import HashedMorgan\n",
    "\n",
    "hm = HashedMorgan()\n",
    "X = hm.fit_transform(df['mol'])"
   ]
  },
  {
   "cell_type": "code",
   "execution_count": 6,
   "metadata": {},
   "outputs": [
    {
     "data": {
      "text/plain": [
       "(1128, 512)"
      ]
     },
     "execution_count": 6,
     "metadata": {},
     "output_type": "execute_result"
    }
   ],
   "source": [
    "X.shape"
   ]
  },
  {
   "cell_type": "code",
   "execution_count": 7,
   "metadata": {},
   "outputs": [
    {
     "data": {
      "image/png": "[encoded data removed]",
      "text/plain": [
       "<Figure size 640x480 with 1 Axes>"
      ]
     },
     "metadata": {},
     "output_type": "display_data"
    }
   ],
   "source": [
    "plt.hist(X.sum(axis=1), bins=100)\n",
    "\n",
    "plt.xlabel('Freq')\n",
    "plt.ylabel('Number of Samples')\n",
    "plt.show()"
   ]
  },
  {
   "cell_type": "markdown",
   "metadata": {},
   "source": [
    "## PLSによる最適な記述子の探索\n",
    "\n",
    "これより、機械学習によるモデル化を行います。MorganフィンガープリントおよびRDKit記述子を特徴量とする２ケースについて検討します。\n",
    "\n",
    "### (1) Morganフィンガープリントの場合（P.131）"
   ]
  },
  {
   "cell_type": "code",
   "execution_count": 8,
   "metadata": {},
   "outputs": [],
   "source": [
    "df_train, df_test = train_test_split(df, \n",
    "                                     test_size=.20, \n",
    "                                     random_state=42)"
   ]
  },
  {
   "cell_type": "markdown",
   "metadata": {},
   "source": [
    "目的変数を'measured log solubility in mols per litre'にセットします。"
   ]
  },
  {
   "cell_type": "code",
   "execution_count": 9,
   "metadata": {},
   "outputs": [
    {
     "data": {
      "text/html": [
       "<div>\n",
       "<style scoped>\n",
       "    .dataframe tbody tr th:only-of-type {\n",
       "        vertical-align: middle;\n",
       "    }\n",
       "\n",
       "    .dataframe tbody tr th {\n",
       "        vertical-align: top;\n",
       "    }\n",
       "\n",
       "    .dataframe thead th {\n",
       "        text-align: right;\n",
       "    }\n",
       "</style>\n",
       "<table border=\"1\" class=\"dataframe\">\n",
       "  <thead>\n",
       "    <tr style=\"text-align: right;\">\n",
       "      <th></th>\n",
       "      <th>measured log solubility in mols per litre</th>\n",
       "    </tr>\n",
       "  </thead>\n",
       "  <tbody>\n",
       "    <tr>\n",
       "      <th>876</th>\n",
       "      <td>-1.400</td>\n",
       "    </tr>\n",
       "    <tr>\n",
       "      <th>712</th>\n",
       "      <td>-0.390</td>\n",
       "    </tr>\n",
       "    <tr>\n",
       "      <th>554</th>\n",
       "      <td>-4.400</td>\n",
       "    </tr>\n",
       "    <tr>\n",
       "      <th>688</th>\n",
       "      <td>-2.676</td>\n",
       "    </tr>\n",
       "    <tr>\n",
       "      <th>780</th>\n",
       "      <td>-8.000</td>\n",
       "    </tr>\n",
       "    <tr>\n",
       "      <th>...</th>\n",
       "      <td>...</td>\n",
       "    </tr>\n",
       "    <tr>\n",
       "      <th>121</th>\n",
       "      <td>-4.800</td>\n",
       "    </tr>\n",
       "    <tr>\n",
       "      <th>1044</th>\n",
       "      <td>-2.120</td>\n",
       "    </tr>\n",
       "    <tr>\n",
       "      <th>1095</th>\n",
       "      <td>-3.620</td>\n",
       "    </tr>\n",
       "    <tr>\n",
       "      <th>860</th>\n",
       "      <td>-0.460</td>\n",
       "    </tr>\n",
       "    <tr>\n",
       "      <th>1126</th>\n",
       "      <td>-3.180</td>\n",
       "    </tr>\n",
       "  </tbody>\n",
       "</table>\n",
       "<p>902 rows × 1 columns</p>\n",
       "</div>"
      ],
      "text/plain": [
       "      measured log solubility in mols per litre\n",
       "876                                      -1.400\n",
       "712                                      -0.390\n",
       "554                                      -4.400\n",
       "688                                      -2.676\n",
       "780                                      -8.000\n",
       "...                                         ...\n",
       "121                                      -4.800\n",
       "1044                                     -2.120\n",
       "1095                                     -3.620\n",
       "860                                      -0.460\n",
       "1126                                     -3.180\n",
       "\n",
       "[902 rows x 1 columns]"
      ]
     },
     "execution_count": 9,
     "metadata": {},
     "output_type": "execute_result"
    }
   ],
   "source": [
    "TARGET=['measured log solubility in mols per litre']\n",
    "ytrain = df_train[TARGET]\n",
    "ytrain"
   ]
  },
  {
   "cell_type": "markdown",
   "metadata": {},
   "source": [
    "ここではグリッドサーチの手法からMorgan Fingerprintの半径とビット数の総当たりの組み合わせで最も精度が得られる組み合わせを計算します。機械学習モデルはPLSとしています。なお、ここでMorganフィンガープリントは、上記で説明したHash化したMorganとします。"
   ]
  },
  {
   "cell_type": "code",
   "execution_count": null,
   "metadata": {},
   "outputs": [],
   "source": [
    "params={'n_components': np.arange(1,16)}\n",
    "scores = np.zeros((18,3))\n",
    "count = 0\n",
    "\n",
    "for radius in range(1, 4):\n",
    "    for n_bits in 2**np.arange(5, 11):\n",
    "        model = GridSearchCV(PLSRegression(), params, cv=5)\n",
    "        Xtrain = HashedMorgan(n_bits, radius).fit_transform(df_train['mol'])\n",
    "\n",
    "        model.fit(Xtrain, ytrain)\n",
    "        \n",
    "        score_cv = model.best_score_\n",
    "        scores[count,:] = np.array([radius, n_bits, score_cv])\n",
    "        count+=1 "
   ]
  },
  {
   "cell_type": "markdown",
   "metadata": {},
   "source": [
    "### スコアの表示\n",
    "交差検定の結果を表示します。横軸に半径、縦軸にはビット数としてR2スコアを色別して表示します。"
   ]
  },
  {
   "cell_type": "code",
   "execution_count": null,
   "metadata": {},
   "outputs": [],
   "source": [
    "mpl.rcParams['figure.figsize'] = [12, 8]\n",
    "mpl.rcParams['font.size'] = 20\n",
    "\n",
    "fig,ax=plt.subplots()\n",
    "im = ax.imshow(scores[:,-1].reshape(3,6).T)\n",
    "fig.colorbar(im)\n",
    "\n",
    "ax.set_xticks(range(3))\n",
    "ax.set_yticks(range(6))\n",
    "ax.set_xticklabels(range(1,4))\n",
    "ax.set_yticklabels(map(int,scores[:6,1]))\n",
    "\n",
    "plt.xlabel('radius')\n",
    "plt.ylabel('number of but')\n",
    "plt.savefig('./results/10.3-optim-hashedmorgan-pls.jpg')\n",
    "\n",
    "plt.show()"
   ]
  },
  {
   "cell_type": "markdown",
   "metadata": {},
   "source": [
    "### 最良のパラメータを確認\n",
    "グリッドサーチによる最良のパラメーターは半径２、ビット数256のときにR2スコアとして0.76が得られました。"
   ]
  },
  {
   "cell_type": "code",
   "execution_count": null,
   "metadata": {},
   "outputs": [],
   "source": [
    "ix=scores[:,-1].argmax()\n",
    "print('radius: {}, n_bits: {} R^2:{:.3f}'.format(*scores[ix,:]))"
   ]
  },
  {
   "cell_type": "markdown",
   "metadata": {},
   "source": [
    "### (2) RDKit記述子の場合(P.132)\n",
    "同様にしてRDKit記述子についても機械学習モデルを生成してみましょう。"
   ]
  },
  {
   "cell_type": "code",
   "execution_count": null,
   "metadata": {},
   "outputs": [],
   "source": [
    "from cheminfo.descriptors import RDKitDescriptor\n",
    "\n",
    "rdcalc = RDKitDescriptor()\n",
    "\n",
    "X = rdcalc.fit_transform(df_train['mol'])\n",
    "Xtrain = np.array(X.tolist())\n",
    "\n",
    "X2 = rdcalc.transform(df_test['mol'])\n",
    "Xtest = np.array(X2.tolist())"
   ]
  },
  {
   "cell_type": "code",
   "execution_count": null,
   "metadata": {},
   "outputs": [],
   "source": [
    "ytest = df_test[TARGET]"
   ]
  },
  {
   "cell_type": "code",
   "execution_count": null,
   "metadata": {},
   "outputs": [],
   "source": [
    "params = {'n_components': np.arange(1, 16)}\n",
    "optim = GridSearchCV(PLSRegression(), params)"
   ]
  },
  {
   "cell_type": "code",
   "execution_count": null,
   "metadata": {},
   "outputs": [],
   "source": [
    "optim.fit(Xtrain, ytrain)"
   ]
  },
  {
   "cell_type": "code",
   "execution_count": null,
   "metadata": {},
   "outputs": [],
   "source": [
    "ycalc = optim.predict(Xtrain)\n",
    "ypred = optim.predict(Xtest)"
   ]
  },
  {
   "cell_type": "code",
   "execution_count": null,
   "metadata": {},
   "outputs": [],
   "source": [
    "print('calc: %.3f'%metrics.r2_score(ytrain,ycalc))\n",
    "print('cv: %.3f'%optim.best_score_)\n",
    "print('pred: %.3f'%metrics.r2_score(ytest,ypred))"
   ]
  },
  {
   "cell_type": "markdown",
   "metadata": {},
   "source": [
    "RDKit記述子の場合は学習データでR2スコアが0.92、検証データで0.89と高い精度になっています。"
   ]
  },
  {
   "cell_type": "markdown",
   "metadata": {},
   "source": [
    "### 可視化\n",
    "RDKitのObserved-Predictプロット（Exp-Calcプロット）を描画します。"
   ]
  },
  {
   "cell_type": "code",
   "execution_count": null,
   "metadata": {},
   "outputs": [],
   "source": [
    "plt.plot(ytrain, ycalc, '.')\n",
    "plt.plot(ytest, ypred, '^')\n",
    "plt.plot()\n",
    "\n",
    "plt.axis('square')\n",
    "plt.xlabel('Exp.')\n",
    "plt.ylabel('Calc.')\n",
    "plt.savefig('./results/9.3-yyplot-rdkitpls.jpg')\n",
    "plt.show()"
   ]
  },
  {
   "cell_type": "markdown",
   "metadata": {},
   "source": [
    "### モデル保存\n",
    "上記の予測モデルを保存します。ここではjoblibを使って保存します。"
   ]
  },
  {
   "cell_type": "code",
   "execution_count": null,
   "metadata": {},
   "outputs": [],
   "source": [
    "from joblib import dump\n",
    "dump(optim, './models/9.3_rdkit_pls.joblib')"
   ]
  },
  {
   "cell_type": "markdown",
   "metadata": {},
   "source": [
    "joblibは、Pythonのパッケージであり、効率的な並列処理やデータのシリアル化（直列化）をサポートするためのツールです。主な用途は、大規模な計算やデータ処理を高速化するために使用されます。joblibは、NumPyの多次元配列や他のPythonオブジェクトをシリアル化してディスクに保存し、後で再ロードすることで、再計算を回避することができます。\n",
    "\n",
    "joblibの主な特徴は次のとおりです：\n",
    "\n",
    "1. 並列処理のサポート：joblibは、マルチコアプロセッサを活用して並列計算を行うことができます。これにより、CPUの複数コアを使用して計算を高速化することができます。特に、大量のデータを処理する際に有効です。\n",
    "\n",
    "2. メモリ効率の向上：joblibは、メモリ使用量を最小限に抑えるために、効率的なメモリマッピングを使用します。これにより、大規模なデータセットを処理する際のメモリオーバーヘッドを軽減できます。\n",
    "\n",
    "3. シンプルなAPI：joblibは、Pythonの標準ライブラリの`pickle`モジュールと似たシンプルなAPIを提供します。これにより、既存のコードを比較的簡単にjoblibに移行できます。\n",
    "\n",
    "joblibの主なユースケースは、機械学習やデータサイエンス、大規模なデータ処理などです。特に、機械学習のモデルのトレーニングやハイパーパラメータの探索など、計算が重い処理において高い効果を発揮します。\n",
    "\n",
    "使用例を示します：\n",
    "\n",
    "```python\n",
    "import joblib\n",
    "\n",
    "# シリアル化（オブジェクトの保存）\n",
    "data = [1, 2, 3, 4, 5]\n",
    "joblib.dump(data, 'data.pkl')\n",
    "\n",
    "# ロード（オブジェクトの読み込み）\n",
    "loaded_data = joblib.load('data.pkl')\n",
    "print(loaded_data)  # [1, 2, 3, 4, 5]\n",
    "```\n",
    "\n",
    "この例では、Pythonリスト`data`を`data.pkl`というファイル名で保存し、再度読み込んでいます。このようにして、データの保存と再利用が可能となります。"
   ]
  },
  {
   "cell_type": "markdown",
   "metadata": {},
   "source": [
    "## 3.適用範囲（AD）の設定\n",
    "第６回で作成した10,000の仮想化合物にたいして、上記のRDKit記述子をベースとしたPLSモデルによる予測を行います。また、予測結果が信頼できるかを確認するため、底本ではT2指標、Q値から適用範囲を定めています。 \n",
    "\n",
    "\n",
    "【補足】  \n",
    "T2指標とQ値は、生産における品質管理に関連する統計的な手法です。主に多変量データを分析し、プロセスの安定性や品質の変化を監視するために使用されます。\n",
    "\n",
    "1. **T2指標 (T2 Statistic)**:\n",
    "T2指標は、多変量プロセス監視のための統計的な指標で、プロセス内の変動や異常を検出するのに役立ちます。基本的には、多変量データの平均値と分散の組み合わせを用いて計算されます。T2指標はホットリリースティック法（HOTELLING'S T2法）に基づいています。\n",
    "\n",
    "T2指標は、以下の手順で計算されます：\n",
    "1. データセットの平均ベクトル（多変量データの平均値）を計算します。\n",
    "2. データセットの共分散行列（多変量データの分散共分散行列）を計算します。\n",
    "3. プロセスから得られたデータの平均ベクトルを計算し、それを基準平均ベクトルと比較します。\n",
    "4. プロセスから得られたデータの共分散行列を計算し、それを基準共分散行列と比較します。\n",
    "\n",
    "T2は距離指標であり、その測長には**マハラノビス距離**を用いています。これよりT2値（マハラノビス距離）を計算し、特定の閾値と比較することで、プロセスの異常や変化を監視することができます。\n",
    "\n",
    "2. **Q値 (Q Statistic)**:\n",
    "Q値も多変量プロセス監視のための指標で、プロセス内の変動や異常を検出する際に使用されます。T2指標と同様に、Q値も異常を検出するための基準となる閾値と比較されます。\n",
    "\n",
    "Q値は、データの観測値が平均値からどれだけ離れているかを示す指標で、基本的にはT2指標の計算における差異ベクトルを用いて計算されます。Q値は、各観測値の差異ベクトルの長さを示し、この長さが閾値を超える場合に異常と判定されることがあります。\n",
    "\n",
    "なお、T2指標、Q値は関数は次のようにdef関数として使います。PLSに対してT2指標、Q値を適用した内容については下記の技術ブログも参照してください。  \n",
    "https://nirpyresearch.com/outliers-detection-pls-regression-nir-spectroscopy-python/"
   ]
  },
  {
   "cell_type": "code",
   "execution_count": null,
   "metadata": {},
   "outputs": [],
   "source": [
    "def t2_score(data, model):\n",
    "    \"T2値の計算モジュール\"\n",
    "    assert type(data)==pd.DataFrame or type(data)==np.ndarray, \"input must be pandas.DataFrame or np.array\"\n",
    "    \n",
    "    explained_std_ = np.sqrt(model.best_estimator_.x_scores_.var(axis=0))\n",
    "    scores_whiten = model.transform(data) / explained_std_\n",
    "    \n",
    "    return (scores_whiten ** 2.). sum(axis=1)\n",
    "\n",
    "def q_value(data, model):\n",
    "    \"Q値の計算モジュール\"\n",
    "    assert type(data)==pd.DataFrame or type(data)==np.ndarray, \"input must be pandas.DataFrame or np.array\"\n",
    "    \n",
    "    x_reproduced_ = model.transform(data) @ model.best_estimator_.x_loadings_.T\n",
    "    \n",
    "    return ((data - x_reproduced_)**2.).sum(axis=1)"
   ]
  },
  {
   "cell_type": "markdown",
   "metadata": {},
   "source": [
    "### 適用範囲（AD）の設定\n",
    "ADの設定範囲はdelaneyの溶解度データの教師データよりt2指標および q値を計算し、その範囲を定めます。Xtrainデータ（教師データ）よりT2指標とQ値を計算し、その95%quantile（２σ）を適用範囲の上限として設定します。"
   ]
  },
  {
   "cell_type": "markdown",
   "metadata": {},
   "source": [
    "### T2指標およびQ値の計算"
   ]
  },
  {
   "cell_type": "code",
   "execution_count": null,
   "metadata": {},
   "outputs": [],
   "source": [
    "t2_values = t2_score(Xtrain, optim)\n",
    "q_values = q_value(Xtrain, optim)"
   ]
  },
  {
   "cell_type": "markdown",
   "metadata": {},
   "source": [
    "### ADの上限値設定\n",
    "ここではT2指標およびQ値の95%quantile（２σ）を適用範囲の上限として設定しています。"
   ]
  },
  {
   "cell_type": "code",
   "execution_count": null,
   "metadata": {},
   "outputs": [],
   "source": [
    "t2_95q = np.quantile(t2_values, 0.95)\n",
    "qval_95q = np.quantile(q_values, 0.95)\n",
    "\n",
    "print('t^2 - 95% quantile', t2_95q, '\\nq value - 95% quantile', qval_95q)"
   ]
  },
  {
   "cell_type": "markdown",
   "metadata": {},
   "source": [
    "### ADの可視化\n",
    "設定されたADの範囲をプロットします。横軸をT2指標、縦軸をQ値とし、それぞれの95% quantileを破線で表示します。"
   ]
  },
  {
   "cell_type": "code",
   "execution_count": null,
   "metadata": {},
   "outputs": [],
   "source": [
    "plt.plot(t2_values, q_values, 'o')\n",
    "\n",
    "plt.xlabel('$T^2$ score')\n",
    "plt.ylabel('$Q$ score')\n",
    "plt.vlines(t2_95q, ymin=0, ymax=q_values.max(), linestyles='--')\n",
    "plt.hlines(qval_95q, xmin=0, xmax=t2_values.max(), linestyles='--')\n",
    "\n",
    "plt.show()"
   ]
  },
  {
   "cell_type": "markdown",
   "metadata": {},
   "source": [
    "ADの範囲がわかるように軸設定を変更します。"
   ]
  },
  {
   "cell_type": "code",
   "execution_count": null,
   "metadata": {},
   "outputs": [],
   "source": [
    "plt.plot(t2_values, q_values, 'o')\n",
    "\n",
    "plt.xlabel('$T^2$ score')\n",
    "plt.ylabel('$Q$ score')\n",
    "\n",
    "plt.ylim(-1e9,1e12)\n",
    "plt.vlines(t2_95q, ymin=0, ymax=q_values.max(), linestyles='--')\n",
    "plt.hlines(qval_95q, xmin=0, xmax=t2_values.max(), linestyles='--')\n",
    "\n",
    "plt.show()"
   ]
  },
  {
   "cell_type": "markdown",
   "metadata": {},
   "source": [
    "## 4.スクリーニング\n",
    "ここでの実演を省略しますが、別に準備する「7_Ex2_Solubility.py」で、第６回で生成した10万の仮想化合物について並列処理によるPLSの予測器にかけて演算します。演算結果をSMILES構造（smi）、溶解度の予測値（ypred）, 当該予測値のt2指標（t2）および q値（q）の4つを.outファイルとして出力します。"
   ]
  },
  {
   "cell_type": "code",
   "execution_count": 1,
   "metadata": {},
   "outputs": [
    {
     "ename": "ModuleNotFoundError",
     "evalue": "No module named 'joblib'",
     "output_type": "error",
     "traceback": [
      "\u001b[1;31m---------------------------------------------------------------------------\u001b[0m",
      "\u001b[1;31mModuleNotFoundError\u001b[0m                       Traceback (most recent call last)",
      "Cell \u001b[1;32mIn[1], line 1\u001b[0m\n\u001b[1;32m----> 1\u001b[0m \u001b[38;5;28;01mfrom\u001b[39;00m \u001b[38;5;21;01mjoblib\u001b[39;00m \u001b[38;5;28;01mimport\u001b[39;00m load \u001b[38;5;28;01mas\u001b[39;00m jl_load\n\u001b[0;32m      2\u001b[0m \u001b[38;5;28;01mimport\u001b[39;00m \u001b[38;5;21;01mnumpy\u001b[39;00m \u001b[38;5;28;01mas\u001b[39;00m \u001b[38;5;21;01mnp\u001b[39;00m\n\u001b[0;32m      3\u001b[0m \u001b[38;5;28;01mfrom\u001b[39;00m \u001b[38;5;21;01mrdkit\u001b[39;00m\u001b[38;5;21;01m.\u001b[39;00m\u001b[38;5;21;01mChem\u001b[39;00m \u001b[38;5;28;01mimport\u001b[39;00m MolFromSmiles\n",
      "\u001b[1;31mModuleNotFoundError\u001b[0m: No module named 'joblib'"
     ]
    }
   ],
   "source": [
    "from joblib import load as jl_load\n",
    "import numpy as np\n",
    "from rdkit.Chem import MolFromSmiles\n",
    "\n",
    "from cheminfo.descriptors import RDKitDescriptor\n",
    "from cheminfo.metrics import t2_score, q_value\n",
    "from multiprocessing import Pool, cpu_count"
   ]
  },
  {
   "cell_type": "code",
   "execution_count": 2,
   "metadata": {},
   "outputs": [],
   "source": [
    "def processor(argv):\n",
    "    \"\"\"予測値とSMILESを文字列で返す関数。multiprocessing.Pool.imap用。\"\"\"\n",
    "    smiles, model = argv\n",
    "    smi = smiles.strip()\n",
    "\n",
    "    mol = MolFromSmiles(smi)\n",
    "    mol.UpdatePropertyCache(strict=True)\n",
    "    rdcalc = RDKitDescriptor()\n",
    "    xnew = np.array(rdcalc.transform([mol]))\n",
    "    \n",
    "    print(type(xnew))\n",
    "    \n",
    "    ypred = model.predict(xnew)\n",
    "    t2 = t2_score(xnew, model)\n",
    "    q = q_value(xnew, model)\n",
    "    return '%s %.8f %.8f %.8f'%(smi, ypred, t2, q)\n"
   ]
  },
  {
   "cell_type": "code",
   "execution_count": 3,
   "metadata": {},
   "outputs": [],
   "source": [
    "def count_lines(filename):\n",
    "    \"\"\"ファイルの行数を数える関数\"\"\"\n",
    "    with open(filename, 'r')as f:\n",
    "        c=0\n",
    "        for _ in f:\n",
    "            c+=1\n",
    "    return c"
   ]
  },
  {
   "cell_type": "code",
   "execution_count": null,
   "metadata": {},
   "outputs": [],
   "source": [
    "def main():\n",
    "    \"\"\"メイン関数。入力を受け取り、並列処理を実行。\"\"\"\n",
    "    # assert len(argv)>2, \"SYNTAX: python src/10.3-screening.py MODEL_FILE.joblib SMILES.smi\"\n",
    "    modelfile = \"./models/9.3_rdkit_pls.joblib\"\n",
    "    smilesfile = \"./results/mol_quad.smi\"\n",
    "\n",
    "    model = jl_load(modelfile)\n",
    "    n_counts = count_lines(smilesfile)\n",
    "\n",
    "    cs = 1000\n",
    "\n",
    "    model_sampler = (model for _ in range(n_counts))\n",
    "    outfile = open(smilesfile.replace('.smi', '.out'), 'w')\n",
    "\n",
    "    with open(smilesfile, 'r') as f:\n",
    "        with Pool(cpu_count()) as pool:\n",
    "            \"並列処理\"\n",
    "            for ret in pool.imap(processor, zip(f, model_sampler), chunksize=cs):\n",
    "                outfile.write(ret+'\\n')\n",
    "    outfile.close()# 開いたファイルオブジェクトは必ず閉じる。"
   ]
  },
  {
   "cell_type": "code",
   "execution_count": null,
   "metadata": {},
   "outputs": [],
   "source": [
    "main()"
   ]
  },
  {
   "cell_type": "markdown",
   "metadata": {},
   "source": [
    "### ADによるスクリーニング\n",
    "その得られた.outを下記のようにopen関数で読み出して、AD以下に入る化合物をカウントします。"
   ]
  },
  {
   "cell_type": "code",
   "execution_count": 40,
   "metadata": {},
   "outputs": [
    {
     "name": "stdout",
     "output_type": "stream",
     "text": [
      "予測結果の信頼できる化合物の数 1934\n"
     ]
    }
   ],
   "source": [
    "count = 0 \n",
    "with open('./results/mol_quad.out', 'r') as f:\n",
    "    for line in f:\n",
    "        line = line.strip()\n",
    "        info = line.split()\n",
    "        \n",
    "        if float(info[2])<=t2_95q and float(info[3])<=qval_95q:\n",
    "            count += 1\n",
    "    else:\n",
    "        print('予測結果の信頼できる化合物の数', count)"
   ]
  },
  {
   "cell_type": "markdown",
   "metadata": {},
   "source": [
    "## まとめ\n",
    "\n",
    "* 以上のように、ADを設定することで10,000のうち1934化合物に絞り込まれました。この中から予測値が高い化合物が候補材料としてみることができます。\n",
    "* 1934の化合物の中からどの材料を実際に実験するかは、最終的には人の判断に委ねられます。溶解度の高い上位のランキングのものにするのも一案です。\n",
    "* 実験計画法としてのベイズ最適化（底本P101）を使って選択する方法もあります。今回のセミナーではベイズ最適化についてはカリキュラムには含めていませんが、機械学習モデルとあわせてベイズ最適化を使うことで効率的にターゲットを絞り込み、所望の化合物（物性）を得るまでの時間を軽減させることができます。"
   ]
  }
 ],
 "metadata": {
  "kernelspec": {
   "display_name": "Python 3 (ipykernel)",
   "language": "python",
   "name": "python3"
  },
  "language_info": {
   "codemirror_mode": {
    "name": "ipython",
    "version": 3
   },
   "file_extension": ".py",
   "mimetype": "text/x-python",
   "name": "python",
   "nbconvert_exporter": "python",
   "pygments_lexer": "ipython3",
   "version": "3.9.17"
  }
 },
 "nbformat": 4,
 "nbformat_minor": 4
}
