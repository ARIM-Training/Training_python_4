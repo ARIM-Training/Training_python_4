{
 "cells": [
  {
   "cell_type": "markdown",
   "metadata": {},
   "source": [
    "# ARIM情報活用講座：　ケモインフォマテックス 編　\n",
    "# 第2回：　RDKitの実践的な使い方"
   ]
  },
  {
   "cell_type": "markdown",
   "metadata": {},
   "source": [
    "## 底本\n",
    "* 船津 公人、柴山 翔二郎 **『実践 マテリアルズインフォマティクス　Pythonによる材料設計のための機械学習』**、近代科学社、2020  \n",
    "第一章　データに慣れよう\n",
    "\n",
    "* andersle.noのブログ https://www.andersle.no/posts/2022/esol/esol.html。\n",
    "\n",
    "\n",
    "## データセット\n",
    "実践例として用いるdelaney-processed.csvは1128化合物の水溶解度についてのデータセットです。このデータセットは、Delaneyの論文『ESOL: Estimating Aqueous Solubility Directly from Molecular Structure』[1] で発表されたものに基づいており、ケモインフォマテックス分野では広く知られているデータセットです。\n",
    "\n",
    "[1] John S. Delaney, \"ESOL:  Estimating Aqueous Solubility Directly from Molecular Structure\", J. Chem. Inf. Comput. Sci. 44, 1000–1005 (2004) (DOI: 10.1021/ci034243x)  \n",
    "\n",
    "Delaney-processed.csvは、分子の化学式、SMILES表記、また、水溶解度としてオクタノール水分配係数が含まれており、これらの特性は薬物探索や環境影響評価などの目的で使用されています。\n",
    "\n",
    "\n",
    "1. Compound ID\t：化合物ID\n",
    "1. ESOL predicted log solubility in mols per litre　：log水溶解度（オクタノール水分配係数）の予測値\t\n",
    "1. Minimum Degree：　最小次数\t\n",
    "1. Molecular Weight：分子量\t\n",
    "1. Number of H-Bond Donors\t：　水素結合に関与するDonor数\n",
    "1. Number of Rings\t：芳香環の数\t\n",
    "1. Number of Rotatable Bonds　：　回転可能結合数\t\n",
    "1. Polar Surface Area　：　極性表面積\t\n",
    "1. measured log solubility in mols per litre：log水溶解度の実測値\t\n",
    "1. smiles：SMILES表記\n",
    "\n",
    "\n",
    "## 本演習で用いるpythonライブラリ\n",
    "\n",
    "\n",
    "**NumPy**：　高性能の数値計算やデータ処理に特化したPythonのライブラリです。NumPyは多次元の配列や行列を効率的に操作する機能を提供し、科学技術計算やデータ解析の分野で広く使用されています。\n",
    "\n",
    "**Pandas**：　データ操作と解析のための高レベルのPythonライブラリです。Pandasは、テーブル形式のデータを効率的に処理し、データのフィルタリング、変換、集約、および結合などの機能を提供します。データの整形やクリーニング、欠損値の処理などを容易に行うことができます。\n",
    "\n",
    "**Matplotlib**：　Pythonでデータを可視化するための強力なライブラリです。Matplotlibは、グラフや図を描画するための多様な機能を提供し、折れ線グラフ、ヒストグラム、散布図、バーチャートなどの多くのプロットスタイルをサポートしています。データの傾向や関係性を視覚的に理解するための強力なツールです。\n",
    "\n",
    "**RDKit**：　RDKitは、化学情報学や薬学の分野で広く使用されるオープンソースのソフトウェア開発キットです。RDKitはPythonで実装されており、様々な化学情報の処理や分子の構造解析、化学反応の予測などをサポートします。\n",
    "\n",
    "## 目標\n",
    "delaney-processed.csv（csvファイル）を読み込み、RDKitを使ってデータの概要を把握する一般的な手順を学びます。"
   ]
  },
  {
   "cell_type": "markdown",
   "metadata": {},
   "source": [
    "# Google Colabにおける環境設定\n",
    "google colab環境でなければ実行不要"
   ]
  },
  {
   "cell_type": "code",
   "execution_count": null,
   "metadata": {},
   "outputs": [],
   "source": [
    "!pip install rdkit-pypi\n",
    "!git clone https://github.com/ARIM-Training/Training_python_4.git\n",
    "%cd Training_python_4"
   ]
  },
  {
   "cell_type": "markdown",
   "metadata": {},
   "source": [
    "## 1.分子構造データの読み込み　（P.11）"
   ]
  },
  {
   "cell_type": "markdown",
   "metadata": {},
   "source": [
    "### 汎用ライブラリのインポート"
   ]
  },
  {
   "cell_type": "code",
   "execution_count": 1,
   "metadata": {},
   "outputs": [],
   "source": [
    "import pandas as pd \n",
    "import numpy as np\n",
    "import matplotlib.pyplot as plt\n",
    "import matplotlib as mpl\n",
    "\n",
    "import rdkit\n",
    "from rdkit import Chem\n",
    "from rdkit.Chem import AllChem\n",
    "from rdkit.Chem import Draw\n",
    "from rdkit.Chem.Draw import IPythonConsole\n",
    "\n",
    "from warnings import filterwarnings\n",
    "filterwarnings('ignore')# 警告を無視"
   ]
  },
  {
   "cell_type": "markdown",
   "metadata": {},
   "source": [
    "### サンプルファイルの読み込み\n",
    "ここでは「data/delaney-solubility」フォルダーにあるdelaney-processed.csvをpandasの`read_csv()`からデータフレーム（DataFrame）オブジェクトとして変数dfに格納します。dfは1128化合物に対して10の特徴量からなるデータ行列となっていることが確かめられます。"
   ]
  },
  {
   "cell_type": "code",
   "execution_count": 2,
   "metadata": {},
   "outputs": [
    {
     "data": {
      "text/html": [
       "<div>\n",
       "<style scoped>\n",
       "    .dataframe tbody tr th:only-of-type {\n",
       "        vertical-align: middle;\n",
       "    }\n",
       "\n",
       "    .dataframe tbody tr th {\n",
       "        vertical-align: top;\n",
       "    }\n",
       "\n",
       "    .dataframe thead th {\n",
       "        text-align: right;\n",
       "    }\n",
       "</style>\n",
       "<table border=\"1\" class=\"dataframe\">\n",
       "  <thead>\n",
       "    <tr style=\"text-align: right;\">\n",
       "      <th></th>\n",
       "      <th>Compound ID</th>\n",
       "      <th>ESOL predicted log solubility in mols per litre</th>\n",
       "      <th>Minimum Degree</th>\n",
       "      <th>Molecular Weight</th>\n",
       "      <th>Number of H-Bond Donors</th>\n",
       "      <th>Number of Rings</th>\n",
       "      <th>Number of Rotatable Bonds</th>\n",
       "      <th>Polar Surface Area</th>\n",
       "      <th>measured log solubility in mols per litre</th>\n",
       "      <th>smiles</th>\n",
       "    </tr>\n",
       "  </thead>\n",
       "  <tbody>\n",
       "    <tr>\n",
       "      <th>0</th>\n",
       "      <td>Amigdalin</td>\n",
       "      <td>-0.974</td>\n",
       "      <td>1</td>\n",
       "      <td>457.432</td>\n",
       "      <td>7</td>\n",
       "      <td>3</td>\n",
       "      <td>7</td>\n",
       "      <td>202.32</td>\n",
       "      <td>-0.770</td>\n",
       "      <td>OCC3OC(OCC2OC(OC(C#N)c1ccccc1)C(O)C(O)C2O)C(O)...</td>\n",
       "    </tr>\n",
       "    <tr>\n",
       "      <th>1</th>\n",
       "      <td>Fenfuram</td>\n",
       "      <td>-2.885</td>\n",
       "      <td>1</td>\n",
       "      <td>201.225</td>\n",
       "      <td>1</td>\n",
       "      <td>2</td>\n",
       "      <td>2</td>\n",
       "      <td>42.24</td>\n",
       "      <td>-3.300</td>\n",
       "      <td>Cc1occc1C(=O)Nc2ccccc2</td>\n",
       "    </tr>\n",
       "    <tr>\n",
       "      <th>2</th>\n",
       "      <td>citral</td>\n",
       "      <td>-2.579</td>\n",
       "      <td>1</td>\n",
       "      <td>152.237</td>\n",
       "      <td>0</td>\n",
       "      <td>0</td>\n",
       "      <td>4</td>\n",
       "      <td>17.07</td>\n",
       "      <td>-2.060</td>\n",
       "      <td>CC(C)=CCCC(C)=CC(=O)</td>\n",
       "    </tr>\n",
       "    <tr>\n",
       "      <th>3</th>\n",
       "      <td>Picene</td>\n",
       "      <td>-6.618</td>\n",
       "      <td>2</td>\n",
       "      <td>278.354</td>\n",
       "      <td>0</td>\n",
       "      <td>5</td>\n",
       "      <td>0</td>\n",
       "      <td>0.00</td>\n",
       "      <td>-7.870</td>\n",
       "      <td>c1ccc2c(c1)ccc3c2ccc4c5ccccc5ccc43</td>\n",
       "    </tr>\n",
       "    <tr>\n",
       "      <th>4</th>\n",
       "      <td>Thiophene</td>\n",
       "      <td>-2.232</td>\n",
       "      <td>2</td>\n",
       "      <td>84.143</td>\n",
       "      <td>0</td>\n",
       "      <td>1</td>\n",
       "      <td>0</td>\n",
       "      <td>0.00</td>\n",
       "      <td>-1.330</td>\n",
       "      <td>c1ccsc1</td>\n",
       "    </tr>\n",
       "    <tr>\n",
       "      <th>...</th>\n",
       "      <td>...</td>\n",
       "      <td>...</td>\n",
       "      <td>...</td>\n",
       "      <td>...</td>\n",
       "      <td>...</td>\n",
       "      <td>...</td>\n",
       "      <td>...</td>\n",
       "      <td>...</td>\n",
       "      <td>...</td>\n",
       "      <td>...</td>\n",
       "    </tr>\n",
       "    <tr>\n",
       "      <th>1123</th>\n",
       "      <td>halothane</td>\n",
       "      <td>-2.608</td>\n",
       "      <td>1</td>\n",
       "      <td>197.381</td>\n",
       "      <td>0</td>\n",
       "      <td>0</td>\n",
       "      <td>0</td>\n",
       "      <td>0.00</td>\n",
       "      <td>-1.710</td>\n",
       "      <td>FC(F)(F)C(Cl)Br</td>\n",
       "    </tr>\n",
       "    <tr>\n",
       "      <th>1124</th>\n",
       "      <td>Oxamyl</td>\n",
       "      <td>-0.908</td>\n",
       "      <td>1</td>\n",
       "      <td>219.266</td>\n",
       "      <td>1</td>\n",
       "      <td>0</td>\n",
       "      <td>1</td>\n",
       "      <td>71.00</td>\n",
       "      <td>0.106</td>\n",
       "      <td>CNC(=O)ON=C(SC)C(=O)N(C)C</td>\n",
       "    </tr>\n",
       "    <tr>\n",
       "      <th>1125</th>\n",
       "      <td>Thiometon</td>\n",
       "      <td>-3.323</td>\n",
       "      <td>1</td>\n",
       "      <td>246.359</td>\n",
       "      <td>0</td>\n",
       "      <td>0</td>\n",
       "      <td>7</td>\n",
       "      <td>18.46</td>\n",
       "      <td>-3.091</td>\n",
       "      <td>CCSCCSP(=S)(OC)OC</td>\n",
       "    </tr>\n",
       "    <tr>\n",
       "      <th>1126</th>\n",
       "      <td>2-Methylbutane</td>\n",
       "      <td>-2.245</td>\n",
       "      <td>1</td>\n",
       "      <td>72.151</td>\n",
       "      <td>0</td>\n",
       "      <td>0</td>\n",
       "      <td>1</td>\n",
       "      <td>0.00</td>\n",
       "      <td>-3.180</td>\n",
       "      <td>CCC(C)C</td>\n",
       "    </tr>\n",
       "    <tr>\n",
       "      <th>1127</th>\n",
       "      <td>Stirofos</td>\n",
       "      <td>-4.320</td>\n",
       "      <td>1</td>\n",
       "      <td>365.964</td>\n",
       "      <td>0</td>\n",
       "      <td>1</td>\n",
       "      <td>5</td>\n",
       "      <td>44.76</td>\n",
       "      <td>-4.522</td>\n",
       "      <td>COP(=O)(OC)OC(=CCl)c1cc(Cl)c(Cl)cc1Cl</td>\n",
       "    </tr>\n",
       "  </tbody>\n",
       "</table>\n",
       "<p>1128 rows × 10 columns</p>\n",
       "</div>"
      ],
      "text/plain": [
       "         Compound ID  ESOL predicted log solubility in mols per litre  \\\n",
       "0          Amigdalin                                           -0.974   \n",
       "1           Fenfuram                                           -2.885   \n",
       "2             citral                                           -2.579   \n",
       "3             Picene                                           -6.618   \n",
       "4          Thiophene                                           -2.232   \n",
       "...              ...                                              ...   \n",
       "1123       halothane                                           -2.608   \n",
       "1124          Oxamyl                                           -0.908   \n",
       "1125       Thiometon                                           -3.323   \n",
       "1126  2-Methylbutane                                           -2.245   \n",
       "1127        Stirofos                                           -4.320   \n",
       "\n",
       "      Minimum Degree  Molecular Weight  Number of H-Bond Donors  \\\n",
       "0                  1           457.432                        7   \n",
       "1                  1           201.225                        1   \n",
       "2                  1           152.237                        0   \n",
       "3                  2           278.354                        0   \n",
       "4                  2            84.143                        0   \n",
       "...              ...               ...                      ...   \n",
       "1123               1           197.381                        0   \n",
       "1124               1           219.266                        1   \n",
       "1125               1           246.359                        0   \n",
       "1126               1            72.151                        0   \n",
       "1127               1           365.964                        0   \n",
       "\n",
       "      Number of Rings  Number of Rotatable Bonds  Polar Surface Area  \\\n",
       "0                   3                          7              202.32   \n",
       "1                   2                          2               42.24   \n",
       "2                   0                          4               17.07   \n",
       "3                   5                          0                0.00   \n",
       "4                   1                          0                0.00   \n",
       "...               ...                        ...                 ...   \n",
       "1123                0                          0                0.00   \n",
       "1124                0                          1               71.00   \n",
       "1125                0                          7               18.46   \n",
       "1126                0                          1                0.00   \n",
       "1127                1                          5               44.76   \n",
       "\n",
       "      measured log solubility in mols per litre  \\\n",
       "0                                        -0.770   \n",
       "1                                        -3.300   \n",
       "2                                        -2.060   \n",
       "3                                        -7.870   \n",
       "4                                        -1.330   \n",
       "...                                         ...   \n",
       "1123                                     -1.710   \n",
       "1124                                      0.106   \n",
       "1125                                     -3.091   \n",
       "1126                                     -3.180   \n",
       "1127                                     -4.522   \n",
       "\n",
       "                                                 smiles  \n",
       "0     OCC3OC(OCC2OC(OC(C#N)c1ccccc1)C(O)C(O)C2O)C(O)...  \n",
       "1                                Cc1occc1C(=O)Nc2ccccc2  \n",
       "2                                  CC(C)=CCCC(C)=CC(=O)  \n",
       "3                    c1ccc2c(c1)ccc3c2ccc4c5ccccc5ccc43  \n",
       "4                                               c1ccsc1  \n",
       "...                                                 ...  \n",
       "1123                                   FC(F)(F)C(Cl)Br   \n",
       "1124                          CNC(=O)ON=C(SC)C(=O)N(C)C  \n",
       "1125                                  CCSCCSP(=S)(OC)OC  \n",
       "1126                                            CCC(C)C  \n",
       "1127              COP(=O)(OC)OC(=CCl)c1cc(Cl)c(Cl)cc1Cl  \n",
       "\n",
       "[1128 rows x 10 columns]"
      ]
     },
     "execution_count": 2,
     "metadata": {},
     "output_type": "execute_result"
    }
   ],
   "source": [
    "df = pd.read_csv('./data/delaney-solubility/delaney-processed.csv')\n",
    "df"
   ]
  },
  {
   "cell_type": "markdown",
   "metadata": {},
   "source": [
    "特に着目する特徴量はlog水溶解度の予測値（ESOL predicted log solubility in mols per litre）と実験値（measured log solubility in mols per litre）との相関となります。  \n",
    "ここでは相関図とヒストグラムの二通りの可視化方法で出力をしてみましょう。"
   ]
  },
  {
   "cell_type": "markdown",
   "metadata": {},
   "source": [
    "### 相関図\n",
    "下記の可視化図はandersle.noのブログにある https://www.andersle.no/posts/2022/esol/esol.html　を参照しています。"
   ]
  },
  {
   "cell_type": "code",
   "execution_count": 3,
   "metadata": {},
   "outputs": [],
   "source": [
    "from sklearn.metrics import r2_score, mean_absolute_error"
   ]
  },
  {
   "cell_type": "code",
   "execution_count": 4,
   "metadata": {},
   "outputs": [],
   "source": [
    "def add_scatterplot(ax, measured, predicted, model_name=None):\n",
    "    \"\"\"Add a measured vs. predicted scatter plot.\"\"\"\n",
    "    \n",
    "    rsquared = r2_score(measured, predicted)\n",
    "    mae = mean_absolute_error(measured, predicted)\n",
    "    \n",
    "    label = f\"R²: {rsquared:.2f}\\nMAE = {mae:.2f}\"\n",
    "    \n",
    "    if model_name:\n",
    "        label = f\"{model_name}\\n{label}\"\n",
    "    \n",
    "    ax.scatter(measured,predicted,label=label,alpha=0.8)"
   ]
  },
  {
   "cell_type": "code",
   "execution_count": 5,
   "metadata": {},
   "outputs": [
    {
     "data": {
      "image/png": "[encoded data removed]",
      "text/plain": [
       "<Figure size 600x600 with 1 Axes>"
      ]
     },
     "metadata": {},
     "output_type": "display_data"
    }
   ],
   "source": [
    "fig, ax = plt.subplots(figsize=(6, 6))\n",
    "ax.scatter([], [])  # cycle colors\n",
    "\n",
    "measured = df['measured log solubility in mols per litre']\n",
    "esol = df['ESOL predicted log solubility in mols per litre']\n",
    "\n",
    "add_scatterplot(ax, measured, esol)\n",
    "\n",
    "ax.set(\n",
    "    xlabel=\"Measured log (solubility)\",\n",
    "    ylabel=\"Predicted (ESOL)\",\n",
    "    title=\"Measured vs. predicted\",\n",
    ")\n",
    "\n",
    "ax.legend()\n",
    "plt.show()"
   ]
  },
  {
   "cell_type": "markdown",
   "metadata": {},
   "source": [
    "### ヒストグラム"
   ]
  },
  {
   "cell_type": "code",
   "execution_count": 6,
   "metadata": {},
   "outputs": [
    {
     "data": {
      "image/png": "[encoded data removed]",
      "text/plain": [
       "<Figure size 800x600 with 1 Axes>"
      ]
     },
     "metadata": {},
     "output_type": "display_data"
    }
   ],
   "source": [
    "import seaborn as sns\n",
    "\n",
    "fig, ax = plt.subplots(figsize=(8, 6))\n",
    "\n",
    "# 実験値と予測値のヒストグラム\n",
    "_, _, hist1 = ax.hist(df['measured log solubility in mols per litre'], density=True, alpha=0.5)\n",
    "_, _, hist2 = ax.hist(df['ESOL predicted log solubility in mols per litre'], density=True, alpha=0.5)\n",
    "\n",
    "# 実験値と予測値のkdeプロット\n",
    "sns.kdeplot(\n",
    "    data=df,\n",
    "    x=df['measured log solubility in mols per litre'],\n",
    "    ax=ax,\n",
    "    label=\"Measured\",\n",
    "    color=hist1.patches[0].get_facecolor(),\n",
    "    lw=2,\n",
    ")\n",
    "\n",
    "sns.kdeplot(\n",
    "    data=df,\n",
    "    x=df['ESOL predicted log solubility in mols per litre'],\n",
    "    ax=ax,\n",
    "    label=\"ESOL\",\n",
    "    color=hist2.patches[0].get_facecolor(),\n",
    "    lw=2,\n",
    ")\n",
    "\n",
    "ax.legend()\n",
    "ax.set(xlabel=\"log (solubility)\", title=\"Distribution of solubilities\")\n",
    "\n",
    "ax.grid()\n",
    "plt.show()"
   ]
  },
  {
   "cell_type": "markdown",
   "metadata": {},
   "source": [
    "### RDKitによる化合物の可視化\n",
    "10列目の「smile」にある文字列は分子構造をテキストベースで表現するSMILES(simplified molecular input line entry system)です。第一回で学んだRDKitライブラリを使って機械可読させることができます。ここでは一列目のAmigdalinを`MolFromSmiles`メソッドから可視化してみましょう。"
   ]
  },
  {
   "cell_type": "code",
   "execution_count": 7,
   "metadata": {},
   "outputs": [],
   "source": [
    "from rdkit.Chem import MolFromSmiles"
   ]
  },
  {
   "cell_type": "markdown",
   "metadata": {},
   "source": [
    "dfオブジェクトの`'smiles'`列を確認します。"
   ]
  },
  {
   "cell_type": "code",
   "execution_count": 8,
   "metadata": {},
   "outputs": [
    {
     "data": {
      "text/plain": [
       "0       OCC3OC(OCC2OC(OC(C#N)c1ccccc1)C(O)C(O)C2O)C(O)...\n",
       "1                                  Cc1occc1C(=O)Nc2ccccc2\n",
       "2                                    CC(C)=CCCC(C)=CC(=O)\n",
       "3                      c1ccc2c(c1)ccc3c2ccc4c5ccccc5ccc43\n",
       "4                                                 c1ccsc1\n",
       "                              ...                        \n",
       "1123                                     FC(F)(F)C(Cl)Br \n",
       "1124                            CNC(=O)ON=C(SC)C(=O)N(C)C\n",
       "1125                                    CCSCCSP(=S)(OC)OC\n",
       "1126                                              CCC(C)C\n",
       "1127                COP(=O)(OC)OC(=CCl)c1cc(Cl)c(Cl)cc1Cl\n",
       "Name: smiles, Length: 1128, dtype: object"
      ]
     },
     "execution_count": 8,
     "metadata": {},
     "output_type": "execute_result"
    }
   ],
   "source": [
    "df['smiles']"
   ]
  },
  {
   "cell_type": "markdown",
   "metadata": {},
   "source": [
    "一列目のAmigdalinのSMILESは、次のように0行目のスライスを指定して読み出すことができます。"
   ]
  },
  {
   "cell_type": "code",
   "execution_count": null,
   "metadata": {},
   "outputs": [],
   "source": [
    "df['smiles'][0]"
   ]
  },
  {
   "cell_type": "code",
   "execution_count": null,
   "metadata": {},
   "outputs": [],
   "source": [
    "Amigdalin =  MolFromSmiles(df['smiles'][0])\n",
    "Amigdalin"
   ]
  },
  {
   "cell_type": "markdown",
   "metadata": {},
   "source": [
    "### 複数化合物のmolオブジェクト化\n",
    "1128化合物のSMILE構造からMolオブジェクトを作成します。  \n",
    "ここでは、mol ['smiles']列に`MolFromSmiles`関数を適用して新しく生成したmolオブジェクトを['mol']のデータフレームとして追加しますが、apply関数（解説を参照）を利用すると、次の一行で処理を行うことができます。\n",
    "['mol']のデータフレームが一番最後の列に追加されたことを確認してみましょう。"
   ]
  },
  {
   "cell_type": "code",
   "execution_count": null,
   "metadata": {},
   "outputs": [],
   "source": [
    "df['mol']=df['smiles'].apply(MolFromSmiles)\n",
    "df"
   ]
  },
  {
   "cell_type": "markdown",
   "metadata": {},
   "source": [
    "【解説】 **`apply`** 関数について    \n",
    "`apply`関数はPandasライブラリに含まれており、DataFrameオブジェクトに対して特定の関数を適用するために使用されます。`apply`関数は、各行または列に対して関数を適用し、その結果を新しいDataFrameまたはSeriesとして返します。\n",
    "\n",
    "以下に、`apply`関数の基本的な使についてつか説明します。\n",
    "\n",
    "1. 列ごとに関数を適用する場合:\n",
    "\n",
    "```python\n",
    "import pandas as pd\n",
    "\n",
    "# サンプルのDataFrameを作成\n",
    "data = {'A': [1, 2, 3], 'B': [4, 5, 6]}\n",
    "df = pd.DataFrame(data)\n",
    "\n",
    "# 列ごとに関数を適用して新しい列を作成\n",
    "def square(x):\n",
    "    return x**2\n",
    "\n",
    "df['A_squared'] = df['A'].apply(square)\n",
    "```\n",
    "\n",
    "上記のコードでは、`square`関数を使って'A'列の各要素を2乗し、新しい'A_squared'列にその結果を保存します。\n",
    "\n",
    "2. 行ごとに関数を適用する場合:\n",
    "\n",
    "```python\n",
    "import pandas as pd\n",
    "\n",
    "# サンプルのDataFrameを作成\n",
    "data = {'A': [1, 2, 3], 'B': [4, 5, 6]}\n",
    "df = pd.DataFrame(data)\n",
    "\n",
    "# 行ごとに関数を適用して新しい列を作成\n",
    "def sum_of_row(row):\n",
    "    return row['A'] + row['B']\n",
    "\n",
    "df['Sum'] = df.apply(sum_of_row, axis=1)\n",
    "```\n",
    "\n",
    "上記のコードでは、`sum_of_row`関数を使って各行の'A'列と'B'列の要素を合計し、新しい'Sum'列にその結果ます。データの変換や計算を行う際に、`apply`関数は非常に便利なツールです。"
   ]
  },
  {
   "cell_type": "markdown",
   "metadata": {},
   "source": [
    "### 複数の分子を表示\n",
    "こちらも第一回で学んだ`MolsToGridImage`メソッドを使った表示例です。molsPerRow=3として横に３つの分子を配置します。"
   ]
  },
  {
   "cell_type": "code",
   "execution_count": null,
   "metadata": {},
   "outputs": [],
   "source": [
    "mols = [Chem.MolFromSmiles(smi) for smi in df['smiles']]\n",
    "Draw.MolsToGridImage(mols, molsPerRow=3, subImgSize=(400, 200))"
   ]
  },
  {
   "cell_type": "markdown",
   "metadata": {},
   "source": [
    "molオブジェクトはデータフレーム形式のルールに従った行番号を指定して次のようにして分子構造を表示させることができます。"
   ]
  },
  {
   "cell_type": "code",
   "execution_count": null,
   "metadata": {},
   "outputs": [],
   "source": [
    "# 最初のCompound ID =Amigdalin のアミグダリンについて化合物を表示\n",
    "df['mol'][0]"
   ]
  },
  {
   "cell_type": "code",
   "execution_count": null,
   "metadata": {},
   "outputs": [],
   "source": [
    "# 4つ目のピセンについて化合物を表示\n",
    "df['mol'][3]"
   ]
  },
  {
   "cell_type": "markdown",
   "metadata": {},
   "source": [
    "### PandasToolsを使ったサンプルの確認\n",
    "\n",
    "\n",
    "\n",
    "`PandasTools`は、RDKitのの機能一あPandasデータフレームとRDKitの分子オブジェクトを相互に変換したり、データフレーム内の分子データを簡単に処理したりすることができます。以下に、`PandasTools`の主な機能といくつかの使用例を示します。\n",
    "\n",
    "1. **分子オブジェクトとデータフレームの変換**:\n",
    "\n",
    "   `PandasTools`を使用して、RDKitの分子オブジェクトとPandasデータフレームの間でデータを簡単に変換できます。例えば、化合物のSMILES表現からPandasデータフレームに変換することができます。\n",
    "\n",
    "   ```python\n",
    "   from rdkit import Chem\n",
    "   from rdkit.Chem import PandasTools\n",
    "\n",
    "   smiles = ['CCO', 'CCN', 'C=O']\n",
    "   mols = [Chem.MolFromSmiles(smi) for smi in smiles]\n",
    "\n",
    "   df = PandasTools.LoadSDF('compounds.sdf')  # SDFファイルから読み込む\n",
    "   df['Molecule'] = mols  # 分子オブジェクトをデータフレームに追加\n",
    "   ```\n",
    "\n",
    "2. **分子の記述子計算（第三回）**:\n",
    "\n",
    "   `PandasTools`を使用して、データフレーム内の分子に対してさまざまな分子記述子（例: 質量、ロタボンド数、水素結合ドナー数など）を計算できます。\n",
    "\n",
    "   ```python\n",
    "   from rdkit.Chem import Descriptors\n",
    "\n",
    "   df['MolecularWeight'] = df['Molecule'].apply(Descriptors.MolWt)\n",
    "   ```\n",
    "\n",
    "3. **分子間の類似性評価（第四回）**:\n",
    "\n",
    "   データフレーム内の分子の類似性を計算することができます。類似性は、指定した類似性スコア（例: Tanimoto係数）を計算する関数を使用して行われます。\n",
    "\n",
    "   ```python\n",
    "   from rdkit.Chem import AllChem\n",
    "\n",
    "   df['Similarity'] = df['Molecule'].apply(lambda x: AllChem.TanimotoSimilarity(x, reference_molecule))\n",
    "   ```\n",
    "\n",
    "4. **フィルタリング**:\n",
    "\n",
    "   `PandasTools`を使用して、データフレーム内の分子を特定の条件に基づいてフィルタリングできます。\n",
    "\n",
    "   ```python\n",
    "   filteredint(df)\n",
    "```\n",
    "\n",
    "この例では、分子のSMILES表現を含むPandasデータフレームに、RDKitのMolオブジェクトを表す新しい列を追加しています。データフレームにMolオブジェクトの列が追加され、RDKitの機能を利用して分子の操作や特徴量の計算が行えるようになります。"
   ]
  },
  {
   "cell_type": "code",
   "execution_count": null,
   "metadata": {},
   "outputs": [],
   "source": [
    "from rdkit.Chem import PandasTools"
   ]
  },
  {
   "cell_type": "code",
   "execution_count": null,
   "metadata": {},
   "outputs": [],
   "source": [
    "PandasTools.AddMoleculeColumnToFrame(df, smilesCol='smiles')\n",
    "df"
   ]
  },
  {
   "cell_type": "markdown",
   "metadata": {},
   "source": [
    "【解説】`PandasTool`の主なメソッド  \n",
    "\n",
    "1. `AddMoleculeColumnToFrame`: 分子のSMILES表現を含むPandasデータフレームに、RDKitのMolオブジェクトを表す新しい列を追加します。\n",
    "\n",
    "2. `RemoveMoleculeColumnFromFrame`: RDKitのMolオブジェクトを表す列をPandasデータフレームから削除します。\n",
    "\n",
    "3. `ConvertToMoleculeColumn`: 分子のSMILES列をRDKitのMolオブジェクトを表す列に変換します。\n",
    "\n",
    "4. `PandasTools.RenderImagesInAllDataFrames`: 分子の画像をPandasデータフレームに表示します。\n",
    "\n",
    "以下は、`PandasTools`を使った例です：\n",
    "\n",
    "```python\n",
    "from rdkit import Chem\n",
    "from rdkit.Chem import PandasTools\n",
    "import pandas as pd\n",
    "\n",
    "# データフレームを作成\n",
    "data = {'SMILES': ['CCO', 'CN=C=O', 'CCN(CC)C(=O)OC1=CC=CC=C1C(=O)O']}\n",
    "df = pd.DataFrame(data)\n",
    "\n",
    "# SMILES列からMolオブジェクトの列を追加\n",
    "PandasTools.AddMoleculeColumnToFrame(df, smilesCol='SMILES')\n",
    "\n",
    "# データフレームを表示\n",
    "print(df)\n",
    "```\n",
    "\n",
    "この例では、分子のSMILES表現を含むPandasデータフレームに、RDKitのMolオブジェクトを表す新しい列を追加しています。データフレームにMolオブジェクトの列が追加され、RDKitの機能を利用して分子の操作や特徴量の計算が行えるようになります。"
   ]
  },
  {
   "cell_type": "markdown",
   "metadata": {},
   "source": [
    "### PandasToolsによる分子構造と変数の表示例"
   ]
  },
  {
   "cell_type": "code",
   "execution_count": null,
   "metadata": {},
   "outputs": [],
   "source": [
    "PandasTools.FrameToGridImage(df.head(16), \n",
    "                             legendsCol=\"measured log solubility in mols per litre\", \n",
    "                             molsPerRow=4)"
   ]
  },
  {
   "cell_type": "markdown",
   "metadata": {},
   "source": [
    "【解説】 **`FrameToGridImage`** メソッド  \n",
    "RDKitを使用して作成した分子データのグリッド画像を生成するための関数です。このメソッドは、分子データを含むPandasデータフレームを受け取り、その分子を格子状に配置して画像として出力します。これは、化学データを視覚化するためによく使用されます。\n",
    "\n",
    "以下に、`FrameToGridImage`メソッドの基本的な使い方と例を示します。\n",
    "\n",
    "```python\n",
    "from rdkit import Chem\n",
    "from rdkit.Chem import PandasTools\n",
    "from IPython.display import Image\n",
    "\n",
    "# サンプルのデータフレームを作成\n",
    "data = {'ID': [1, 2, 3],\n",
    "        'SMILES': ['CCO', 'CCN', 'C=O']}\n",
    "df = pd.DataFrame(data)\n",
    "\n",
    "# SMILESからRDKitの分子オブジェクトを作成し、データフレームに追加\n",
    "PandasTools.AddMoleculeColumnToFrame(df, smilesCol='SMILES')\n",
    "\n",
    "# 分子データフレームをグリッド画像に変換\n",
    "img = PandasTools.FrameToGridImage(df, legendsCol='ID', molsPerRow=3)\n",
    "\n",
    "# 画像を表示\n",
    "Image(img)\n",
    "```\n",
    "\n",
    "このコードでは、まず`PandasTools.AddMoleculeColumnToFrame`を使用して、'SMILES'列からRDKitの分子オブジェクトを作成し、'Molecule'列に追加しています。次に、`PandasTools.FrameToGridImage`メソッドを使用して、分子データフレームをグリッド画像に変換します。`legendsCol`引数には分子のラベルとして使用する列（ここでは'ID'列）を指定し、`molsPerRow`引数には1行に表示する分子の数を指定しています。\n",
    "\n",
    "生成されたグリッド画像は、Jupyter Notebookなどの環境で直接表示することができます。これにより、化学構造を視覚的に比較したりDKitを使用した化学データの解析と可視化を支援します。"
   ]
  },
  {
   "cell_type": "markdown",
   "metadata": {},
   "source": [
    "# 次回  \n",
    "https://colab.research.google.com/github/ARIM-Training/Training_python_4/blob/main/3_Descriptor.ipynb"
   ]
  },
  {
   "cell_type": "code",
   "execution_count": null,
   "metadata": {},
   "outputs": [],
   "source": []
  }
 ],
 "metadata": {
  "kernelspec": {
   "display_name": "Python 3 (ipykernel)",
   "language": "python",
   "name": "python3"
  },
  "language_info": {
   "codemirror_mode": {
    "name": "ipython",
    "version": 3
   },
   "file_extension": ".py",
   "mimetype": "text/x-python",
   "name": "python",
   "nbconvert_exporter": "python",
   "pygments_lexer": "ipython3",
   "version": "3.8.17"
  }
 },
 "nbformat": 4,
 "nbformat_minor": 4
}
