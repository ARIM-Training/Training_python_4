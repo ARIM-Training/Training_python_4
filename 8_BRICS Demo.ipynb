{
 "cells": [
  {
   "cell_type": "code",
   "execution_count": 1,
   "id": "6d4e818a",
   "metadata": {},
   "outputs": [],
   "source": [
    "# # BRICS Demo\n",
    "from rdkit import Chem\n",
    "from rdkit.Chem import BRICS\n",
    "from rdkit.Chem import Draw\n",
    "import pandas as pd\n",
    "import numpy as np\n",
    "from time import time\n",
    "from multiprocessing import Pool"
   ]
  },
  {
   "cell_type": "code",
   "execution_count": 2,
   "id": "bedbe219",
   "metadata": {},
   "outputs": [],
   "source": [
    "def stopwatch(t):\n",
    "    \"\"\"経過時間を測る関数\"\"\"\n",
    "    return (time() - t)/60\n",
    "\n",
    "def sample_molecule(mol):\n",
    "    \"\"\"\n",
    "    multiprocessing.Pool.imapに渡す関数。\n",
    "    Molオブジェクトの更新をしたあとでSMILESに変換。\n",
    "    \"\"\"\n",
    "    mol.UpdatePropertyCache(strict=True)\n",
    "    return Chem.MolToSmiles(mol)"
   ]
  },
  {
   "cell_type": "code",
   "execution_count": 3,
   "id": "09a91697",
   "metadata": {},
   "outputs": [],
   "source": [
    "df=pd.read_csv('./data/delaney-solubility/delaney-processed.csv',\n",
    "              index_col=0)\n",
    "TARGET=['measured log solubility in mols per litre']\n",
    "df['mol'] = df['smiles'].apply(Chem.MolFromSmiles)"
   ]
  },
  {
   "cell_type": "code",
   "execution_count": 4,
   "id": "f95f6dc1",
   "metadata": {},
   "outputs": [
    {
     "name": "stdout",
     "output_type": "stream",
     "text": [
      "2315\n"
     ]
    }
   ],
   "source": [
    "fragments = set()\n",
    "\n",
    "for ix, mol in df[['mol']].iterrows():\n",
    "    f = BRICS.BRICSDecompose(mol[0], returnMols=True)\n",
    "    fragments.update(list(f))\n",
    "else:\n",
    "    print(len(fragments))"
   ]
  },
  {
   "cell_type": "code",
   "execution_count": 6,
   "id": "a5bb27b6",
   "metadata": {},
   "outputs": [
    {
     "name": "stdout",
     "output_type": "stream",
     "text": [
      "Elapsed time 0.44821937084198 [mins]\n"
     ]
    }
   ],
   "source": [
    "NUM_ITER=1000\n",
    "from random import seed\n",
    "#--- starts parallel BRICS\n",
    "start = time()\n",
    "seed(20200315)\n",
    "builder = BRICS.BRICSBuild(fragments)\n",
    "\n",
    "with open('./results/mol_single.smi', 'w') as f:\n",
    "    for i in range(NUM_ITER):\n",
    "        m = next(builder)\n",
    "        m.UpdatePropertyCache(strict=True)\n",
    "        smi = Chem.MolToSmiles(m)\n",
    "        f.write(smi+'\\n')\n",
    "print('Elapsed time', stopwatch(start), '[mins]')"
   ]
  },
  {
   "cell_type": "code",
   "execution_count": null,
   "id": "5092536f",
   "metadata": {},
   "outputs": [],
   "source": [
    "#--- starts parallel BRICS\n",
    "\n",
    "NUM_ITER=100\n",
    "\n",
    "start2 = time()\n",
    "c = 0\n",
    "seed(20200315)\n",
    "builder = BRICS.BRICSBuild(fragments)\n",
    "\n",
    "with Pool(4) as p:\n",
    "    f = open('./results/mol_quad.smi', 'w')\n",
    "    for smi in p.imap(func=sample_molecule, iterable=builder, chunksize=100):\n",
    "        f.write(smi+'\\n')\n",
    "        c+=1\n",
    "        if c == NUM_ITER:\n",
    "            print(c)\n",
    "            break\n",
    "    f.close()\n",
    "print('Elapsed time', stopwatch(start2), '[mins]')"
   ]
  },
  {
   "cell_type": "code",
   "execution_count": null,
   "id": "775820e1",
   "metadata": {},
   "outputs": [],
   "source": []
  }
 ],
 "metadata": {
  "kernelspec": {
   "display_name": "Python 3 (ipykernel)",
   "language": "python",
   "name": "python3"
  },
  "language_info": {
   "codemirror_mode": {
    "name": "ipython",
    "version": 3
   },
   "file_extension": ".py",
   "mimetype": "text/x-python",
   "name": "python",
   "nbconvert_exporter": "python",
   "pygments_lexer": "ipython3",
   "version": "3.9.16"
  }
 },
 "nbformat": 4,
 "nbformat_minor": 5
}
