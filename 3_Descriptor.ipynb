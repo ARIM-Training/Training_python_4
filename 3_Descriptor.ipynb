{
 "cells": [
  {
   "cell_type": "markdown",
   "id": "4283b222",
   "metadata": {},
   "source": [
    "# ARIM情報活用講座：　ケモインフォマテックス 編　\n",
    "# 第3回：　分子記述子を学ぶ"
   ]
  },
  {
   "cell_type": "markdown",
   "id": "036ae0a6",
   "metadata": {},
   "source": [
    "## 底本\n",
    "船津 公人、柴山 翔二郎 **『実践 マテリアルズインフォマティクス　Pythonによる材料設計のための機械学習』**、近代科学社、2020  \n",
    "第1章　1.4　化合物構造の可視化\n",
    "\n",
    "伊藤 聡 編・ 吉田 亮 著**『マテリアルズインフォマティクス』**, 共立出版、2022  \n",
    "第一章　1.3　記述子：物質・材料の数値表現\n",
    "\n",
    "## 分子記述子とは\n",
    "\n",
    "分子記述子(**molecular descriptors**)とは、分子の構造と物理的・化学的な特性の関係を数値化するための数値特徴量です。たとえば、実験で測定した分子量、溶解度、融点、沸点などは分子記述子の例です。単に記述子（**ディスクリプター**）とも称されます。加えて、分子骨格の有無や部分構造（**フラグメント**）の数など分子の構造的特徴を数値化した指標も分子記述子になります。  \n",
    "\n",
    "分子記述子は次の2つに大別されます。\n",
    "\n",
    "* **実験実測値**：　分配係数（LogP）、モル屈折率、双極子モーメント、分極率などの物性値（測定値）\n",
    "* **理論分子記述子**：　分子骨格の有無や部分構造（フラグメント）などの分子の記号的表現\n",
    "\n",
    "\n",
    "\n",
    "| 次元| 表現| \n",
    "| :---:| :---|\n",
    "| 0次元| 原子タイプ、結合様式など| \n",
    "| 1次元| 原子タイプの数、水素結合ドナーやアクセプターの数、環の数、タイプ別の官能基の数、分子フィンガープリントなど |\n",
    "| 2次元| グラフ理論や計算された値による数学的表現など   |\n",
    "| 3次元| 幾何学的記述子、極性表面積、3D-MoRSE記述子、WHIM記述子、GETAWAY記述子など |\n",
    "| 4次元| GRID法、CoMFA法、Volsurfなど |\n",
    "\n",
    "    \n",
    "   \n",
    "![メインイメージ](./img/image-2-1.png) "
   ]
  },
  {
   "cell_type": "markdown",
   "id": "c1418296",
   "metadata": {},
   "source": [
    "### 分子フィンガープリント\n",
    "\n",
    "分子記述子の1次元記述子は、化学的な特徴をコンパクトな形式で表現するための手法です。分子の特性を数値またはバイナリのビット列としてエンコードし、化学的な類似性の評価や機械学習モデルの特徴量としたものは特に**分子フィンガープリント**（単に**フィンガープリント**）とも呼ばれます。分子フィンガープリントの特徴は、主にビットや固定長のベクトルの観点から理解されます。\n",
    "\n",
    "1. ビットベースの分子フィンガープリント：\n",
    "   - 通常、バイナリのビット列として表現されます。\n",
    "   - 分子が特定の化学的な特徴を持つかどうかを示すフラグとして機能します。例えば、特定のサブストラクチャの存在、原子の特定の状態（例：芳香族性、水素結合ドナーなど）などがフラグとして立てられます。\n",
    "   - 分子の構造をコンパクトに表現できるため、化学的な類似性の評価に適しています。\n",
    "\n",
    "\n",
    "2. 固定長のベクトルベースの分子フィンガープリント：\n",
    "   - 数値のベクトルとして表現されます。\n",
    "   - ベクトルの各要素は、分子の特定の物理的・化学的・トポロジカル特性を数値で表します。例えば、分子のサイズ、重さ、融点、沸点、水素結合ドナー数、芳香族環の数などが含まれます。\n",
    "   - 分子の特性を数値として解析する際に有用です。特に機械学習モデルの特徴量として利用されることがあります。\n",
    "\n",
    "分子フィンガープリントは、化学的な特徴を効率的に表現するための重要な手法であり、ケモインフォマティクスのさまざまな応用において広く活用されています。ビットベースのフィンガープリントと固定長のベクトルベースのフィンガープリントは、用途に応じて選択され、分子の特性解析や類似性評価、機械学習モデルの学習に活用されます。"
   ]
  },
  {
   "cell_type": "markdown",
   "id": "c7b83137",
   "metadata": {},
   "source": [
    "### RDKitで用いられる代表的な分子記述子\n",
    "\n",
    "RDKitで利用できる分子記述子として、**Morgan Fingerprint**（ECFPと互換性あり）、**RDKit Fingerprint**、**RDKit Descriptor**があり、それらの特徴を表形式でまとめると以下のようになります。\n",
    "\n",
    "| 特徴                         | Morgan Fingerprint                | RDKit Fingerprint                | RDKit Descriptor                      |\n",
    "|------------------------------|----------------------------------|----------------------------------|---------------------------------------|\n",
    "| 計算方法                     | ECFP（Extended-Connectivity FP） | RDK Fingerprint                  | 物理的・化学的・トポロジカル特性の計算 |\n",
    "| ベースとなるデータ           | 分子の原子と結合情報             | 分子の原子と結合情報             | 分子の原子と結合情報                  |\n",
    "| 出力データ形式               | バイナリのビット列               | バイナリのビット列               | 数値                                 |\n",
    "| 主な用途                     | 化学的類似性評価、構造活性相関   | 化学的類似性評価、構造活性相関   | 分子の特性解析、特徴量作成             |\n",
    "| 部分構造の取得               | 一部のフラグメントが含まれる     | 特定の経路上の原子と結合が含まれる | -                                     |\n",
    "| 類似性評価                   | 分子間の類似性を評価             | 分子間の類似性を評価             | -                                     |\n",
    "| 機械学習モデルの特徴量として | ○                               | ○                               | ○                                     |\n",
    "\n",
    "Morgan Fingerprint、RDKit Fingerprint、RDKit Descriptorは、それぞれ異なるデータ表現方法を持ち、用途や計算方法も異なります。\n",
    "* Morgan FingerprintとRDKit Fingerprintはフィンガープリントとして、分子の化学的特徴をバイナリのビット列で表現します。  \n",
    "* 一方、RDKit Descriptorは分子の物理的・化学的・トポロジカル特性を数値で表現します。\n",
    "\n",
    "## 本編の目標\n",
    "\n",
    "ケモインフォマテックスの記述子、フィンガープリントの基本となる\n",
    "\n",
    "1. **Morganフィンガープリント**\n",
    "1. **RDKitフィンガープリント**\n",
    "1. **RDKit記述子**\n",
    "\n",
    "の３つの記述子について学びます。"
   ]
  },
  {
   "cell_type": "markdown",
   "id": "852b3508",
   "metadata": {},
   "source": [
    "# Google Colabにおける環境設定\n",
    "google colab環境でなければ実行不要"
   ]
  },
  {
   "cell_type": "code",
   "execution_count": null,
   "id": "cc4cb34c",
   "metadata": {},
   "outputs": [],
   "source": [
    "!pip install rdkit-pypi\n",
    "!git clone https://github.com/ARIM-Training/Training_python_4.git\n",
    "%cd Training_python_4"
   ]
  },
  {
   "cell_type": "markdown",
   "id": "79fa74aa",
   "metadata": {},
   "source": [
    "### ライブラリのインポート\n",
    "分子構造の読み取りはRDKitの`Chem`モジュールにツール群がまとめられいます。はじめにモジュール`Chem`をインポートします。"
   ]
  },
  {
   "cell_type": "code",
   "execution_count": 1,
   "id": "9d25a123",
   "metadata": {},
   "outputs": [],
   "source": [
    "from rdkit import Chem\n",
    "from rdkit.Chem import AllChem"
   ]
  },
  {
   "cell_type": "markdown",
   "id": "422df7b6",
   "metadata": {},
   "source": [
    "## 1.　Morgan Fingerprint （底本：P17）"
   ]
  },
  {
   "cell_type": "markdown",
   "id": "b027692d",
   "metadata": {},
   "source": [
    "### Morgan Fingerprintについて\n",
    "\n",
    "**Morganフィンガープリント**（または**円環フィンガープリント**と呼ばれる）は、化学的な分子の特徴を表現するために使用される特徴ベクトルの一種です。Morganフィンガープリントは分子構造に基づいて生成され、類似性の比較や機械学習モデルの学習など、さまざまな化学情報処理のタスクに利用されています。\n",
    "\n",
    "Morganフィンガープリントは、化学反応における反応中心（反応性の高い部位）や周辺の環境情報を取得するために開発されました。以下にMorganフィンガープリントの生成手順を簡単に説明します：\n",
    "\n",
    "1. 分子内の各原子に一意の識別子（アトムID）を割り当てます。\n",
    "2. 指定された半径（デフォルトでは2）の範囲内に存在する原子や結合の組み合わせを考慮して、分子内の部分構造（サブグラフ）を特定します。\n",
    "3. 各サブグラフに対して、ハッシュ関数を使用して一意のフィンガープリントビット（ビットベクトル）を生成します。\n",
    "4. フィンガープリントビットは、各サブグラフが存在するかどうかに基づいて設定されます。\n",
    "\n",
    "Morganフィンガープリントの特徴は、分子内の構造に対する局所的な情報を取得する能力にあります。指定された半径内の原子や結合の組み合わせを考慮することで、化学的な類似性や反応性の特徴を反映したフィンガープリントが生成されます。\n",
    "\n",
    "分子の類似性の計算や分類、回帰、クラスタリング、バーチャルスクリーニングなど、さまざまな化学情報処理のタスクに使用されます。また、機械学習モデルの学習において、分子の特徴ベクトルとして入力されることもあります。"
   ]
  },
  {
   "cell_type": "markdown",
   "id": "85c3b7a8",
   "metadata": {},
   "source": [
    "### 化合物の読み込み"
   ]
  },
  {
   "cell_type": "code",
   "execution_count": 2,
   "id": "1bb5c4e0",
   "metadata": {},
   "outputs": [
    {
     "data": {
      "image/png": "[encoded data removed]",
      "text/plain": [
       "<rdkit.Chem.rdchem.Mol at 0x2be6be9e580>"
      ]
     },
     "execution_count": 2,
     "metadata": {},
     "output_type": "execute_result"
    }
   ],
   "source": [
    "# 無水フタル酸\n",
    "smiles = \"O=C(OC(=O)c1cccc2)c12\"\n",
    "phthalic_anhydride = Chem.MolFromSmiles(smiles)\n",
    "phthalic_anhydride"
   ]
  },
  {
   "cell_type": "markdown",
   "id": "21de8f11",
   "metadata": {},
   "source": [
    " ### Morgan フィンガープリントの取得\n",
    "RDKitの`rdkit.Chem.AllChem`モジュールに含まれている`GetMorganFingerprintAsBitVect`メソッドは、分子のMorganフィンガープリント（または円環フィンガープリント）を取得するためのメソッドです。"
   ]
  },
  {
   "cell_type": "code",
   "execution_count": 3,
   "id": "080621ce",
   "metadata": {},
   "outputs": [],
   "source": [
    "# Morganフィンガープリントの取得\n",
    "bi = {}\n",
    "fp =  AllChem.GetMorganFingerprintAsBitVect(phthalic_anhydride,\n",
    "                                                    radius=2,\n",
    "                                                    bitInfo=bi)"
   ]
  },
  {
   "cell_type": "markdown",
   "id": "74e0cf9c",
   "metadata": {},
   "source": [
    "`bi`変数には、`(atom_index, radius)`が格納されます。"
   ]
  },
  {
   "cell_type": "markdown",
   "id": "e7a7fd1b",
   "metadata": {},
   "source": [
    "【解説】`GetMorganFingerprintAsBitVect`メソッド  \n",
    "\n",
    "このメソッドは、RDKitのChemモジュールである`rdkit.Chem.AllChem`に含まれており、以下のように使用されます。\n",
    "\n",
    "```python\n",
    "from rdkit import Chem\n",
    "from rdkit.Chem import AllChem\n",
    "\n",
    "mol = Chem.MolFromSmiles('CCO')  # SMILES表記から分子を作成\n",
    "\n",
    "# Morganフィンガープリントの取得\n",
    "fp = AllChem.GetMorganFingerprintAsBitVect(mol, radius, nBits)\n",
    "```\n",
    "\n",
    "引数として指定する主なパラメータは次のとおりです：\n",
    "\n",
    "- `mol`: RDKitの分子オブジェクト（RDKitの`Mol`型）。\n",
    "- `radius`: フィンガープリントの半径（デフォルト値は2）。この値が大きいほど、より大域的な構造情報が含まれるフィンガープリントが生成されます。\n",
    "- `nBits`: ビットベクトルのサイズ（デフォルト値は2048）。この値は生成されるフィンガープリントの次元数を表します。\n",
    "\n",
    "メソッドの呼び出しにより、指定された半径とビット数のMorganフィンガープリントが取得されます。フィンガープリントは`rdkit.DataStructs.ExplicitBitVect`オブジェクトとして返され、化学的な構造の特徴をビットベクトルとして表現します。各ビットは、特定の化学的な特徴（例：部分構造）の存在を示します。"
   ]
  },
  {
   "cell_type": "markdown",
   "id": "5180f14c",
   "metadata": {},
   "source": [
    "### ビットベクトルのオンビットの確認\n",
    "ビットでオンビット（1となったビット部位）は`GetOnBits()`メソッドより得ることができます。"
   ]
  },
  {
   "cell_type": "code",
   "execution_count": 4,
   "id": "44ce82f9",
   "metadata": {},
   "outputs": [
    {
     "name": "stdout",
     "output_type": "stream",
     "text": [
      "[314, 352, 480, 536, 650, 656, 984, 1088, 1199, 1380, 1750, 1810, 1873, 1975]\n"
     ]
    }
   ],
   "source": [
    "on_bits = list(fp.GetOnBits())\n",
    "print(on_bits)"
   ]
  },
  {
   "cell_type": "markdown",
   "id": "d1aacff4",
   "metadata": {},
   "source": [
    "【解説】`GetOnBits()`メソッドについて  \n",
    "\n",
    "`GetOnBits()`メソッドは、フィンガープリント（例：Morganフィンガープリント）のビットベクトルにおいて、セットされている（1となっている）ビットのインデックスを返すメソッドです。\n",
    "\n",
    "`GetOnBits()`は、RDKitの`rdkit.DataStructs.ExplicitBitVect`オブジェクト上で呼び出されます。\n",
    "\n",
    "```python\n",
    "from rdkit import Chem\n",
    "from rdkit.Chem import AllChem\n",
    "\n",
    "mol = Chem.MolFromSmiles('CCO')  # SMILES表記から分子を作成\n",
    "\n",
    "# Morganフィンガープリントの取得\n",
    "fp = AllChem.GetMorganFingerprintAsBitVect(mol, radius=2, nBits=2048)\n",
    "\n",
    "# セットされているビットのインデックスを取得\n",
    "on_bits = list(fp.GetOnBits())\n",
    "print(on_bits)\n",
    "```\n",
    "\n",
    "`GetOnBits()`メソッドを呼び出すことで、セットされているビットのインデックスがリストとして返されます。このリストには、フィンガープリントのビットベクトルで1となっているビットの位置が含まれます。"
   ]
  },
  {
   "cell_type": "markdown",
   "id": "ffc54857",
   "metadata": {},
   "source": [
    "### Morgan fingerprintを色付表示\n",
    "\n",
    "RDKit 2019.09 以上のバージョンでは、Drawモジュールの`Draw.DrawMorganBit`メソッドを利用しましょう。次の例は無水フタル酸の480番目のビットの部分構造を表示したものです。"
   ]
  },
  {
   "cell_type": "code",
   "execution_count": 5,
   "id": "2b256ac7",
   "metadata": {},
   "outputs": [
    {
     "data": {
      "image/jpeg": "[encoded data removed]",
      "image/png": "[encoded data removed]",
      "text/plain": [
       "<PIL.PngImagePlugin.PngImageFile image mode=RGB size=150x150>"
      ]
     },
     "execution_count": 5,
     "metadata": {},
     "output_type": "execute_result"
    }
   ],
   "source": [
    "#底本の図1.6(a)相当\n",
    "\n",
    "from rdkit.Chem import Draw\n",
    "Draw.DrawMorganBit(phthalic_anhydride, 480,bi)"
   ]
  },
  {
   "cell_type": "markdown",
   "id": "7a187645",
   "metadata": {},
   "source": [
    "【解説】`DrawMorganBit()`メソッドについて  \n",
    "\n",
    "`DrawMorganBit`メソッドは指定されたMorganフィンガープリントを図として描画するための関数です。Morganビットは、図中でハイライトされた部分として表示され,そのフィンガープリントの特定のビットを視覚的に理解することができます。\n",
    "\n",
    "`DrawMorganBit`関数の基本的な構文は以下の通りです:\n",
    "\n",
    "```python\n",
    "from rdkit.Chem import Draw\n",
    "Draw.DrawMorganBit(mol, bitId, bitInfo, **kwargs)\n",
    "```\n",
    "\n",
    "主な引数は次のとおりです:\n",
    "\n",
    "- `mol`: RDKitのMolオブジェクト。Morganフィンガープリントを計算したい対象の分子を指定します。\n",
    "- `bitId`: プロットしたい特定のMorganビットのIDを整数で指定します。\n",
    "- `bitInfo`: Morganビットの情報を格納する辞書です。通常は `Chem.AllChem.GetMorganFingerprint()` メソッドを使用してMorganフィンガープリントを計算する際に得られた情報を渡します。\n",
    "\n",
    "オプションの引数 `**kwargs` を使用して、図のサイズやカラーマップなどのプロットに関する詳細な設定をカスタマイズすることができます。"
   ]
  },
  {
   "cell_type": "code",
   "execution_count": 6,
   "id": "6b2d9c94",
   "metadata": {},
   "outputs": [
    {
     "data": {
      "image/jpeg": "[encoded data removed]",
      "image/png": "[encoded data removed]",
      "text/plain": [
       "<PIL.PngImagePlugin.PngImageFile image mode=RGB size=150x150>"
      ]
     },
     "execution_count": 6,
     "metadata": {},
     "output_type": "execute_result"
    }
   ],
   "source": [
    "Draw.DrawMorganBit(phthalic_anhydride, 314,bi)"
   ]
  },
  {
   "cell_type": "markdown",
   "id": "1a8bf64f",
   "metadata": {},
   "source": [
    "biに含まれている部分構造を見てみましょう。次のリストの番号は（ビット番号、(原子番号、半径）、・・・）として出力されます。"
   ]
  },
  {
   "cell_type": "code",
   "execution_count": 7,
   "id": "3a0b9025",
   "metadata": {},
   "outputs": [
    {
     "data": {
      "text/plain": [
       "[(314, ((0, 1), (4, 1))),\n",
       " (352, ((5, 1), (10, 1))),\n",
       " (480, ((5, 2), (10, 2))),\n",
       " (536, ((2, 2),)),\n",
       " (650, ((0, 0), (4, 0))),\n",
       " (656, ((2, 0),)),\n",
       " (984, ((6, 2), (9, 2))),\n",
       " (1088, ((3, 1), (7, 1), (8, 1), (1, 1))),\n",
       " (1199, ((7, 2), (8, 2))),\n",
       " (1380, ((1, 0), (3, 0), (5, 0), (10, 0))),\n",
       " (1750, ((6, 1), (9, 1))),\n",
       " (1810, ((2, 1),)),\n",
       " (1873, ((6, 0), (7, 0), (8, 0), (9, 0))),\n",
       " (1975, ((3, 2), (1, 2)))]"
      ]
     },
     "execution_count": 7,
     "metadata": {},
     "output_type": "execute_result"
    }
   ],
   "source": [
    "list(bi.items())"
   ]
  },
  {
   "cell_type": "markdown",
   "id": "c5c9eee2",
   "metadata": {},
   "source": [
    "最後の1975ビット目の化学情報についてみてみます。"
   ]
  },
  {
   "cell_type": "code",
   "execution_count": 8,
   "id": "cc44d222",
   "metadata": {},
   "outputs": [
    {
     "data": {
      "text/plain": [
       "(3, 2)"
      ]
     },
     "execution_count": 8,
     "metadata": {},
     "output_type": "execute_result"
    }
   ],
   "source": [
    "atom_id, radius = bi[1975][0]\n",
    "atom_id, radius"
   ]
  },
  {
   "cell_type": "code",
   "execution_count": 9,
   "id": "7283cd44",
   "metadata": {},
   "outputs": [
    {
     "data": {
      "text/plain": [
       "<rdkit.rdBase._vectint at 0x2be6f6b1d40>"
      ]
     },
     "execution_count": 9,
     "metadata": {},
     "output_type": "execute_result"
    }
   ],
   "source": [
    "path_ids = Chem.FindAtomEnvironmentOfRadiusN(phthalic_anhydride, radius, atom_id)\n",
    "path_ids"
   ]
  },
  {
   "cell_type": "code",
   "execution_count": 10,
   "id": "af5d94e6",
   "metadata": {},
   "outputs": [
    {
     "data": {
      "image/png": "[encoded data removed]",
      "text/plain": [
       "<rdkit.Chem.rdchem.Mol at 0x2be6f6bfba0>"
      ]
     },
     "execution_count": 10,
     "metadata": {},
     "output_type": "execute_result"
    }
   ],
   "source": [
    "substructure = Chem.PathToSubmol(phthalic_anhydride, path_ids)\n",
    "substructure"
   ]
  },
  {
   "cell_type": "code",
   "execution_count": 11,
   "id": "0a62872c",
   "metadata": {},
   "outputs": [
    {
     "data": {
      "text/plain": [
       "(1, 2)"
      ]
     },
     "execution_count": 11,
     "metadata": {},
     "output_type": "execute_result"
    }
   ],
   "source": [
    "atom_id, radius = bi[1975][1]\n",
    "atom_id, radius"
   ]
  },
  {
   "cell_type": "code",
   "execution_count": 12,
   "id": "a53ab837",
   "metadata": {},
   "outputs": [
    {
     "data": {
      "image/png": "[encoded data removed]",
      "text/plain": [
       "<rdkit.Chem.rdchem.Mol at 0x2be6f6bfe40>"
      ]
     },
     "execution_count": 12,
     "metadata": {},
     "output_type": "execute_result"
    }
   ],
   "source": [
    "path_ids = Chem.FindAtomEnvironmentOfRadiusN(phthalic_anhydride, radius, atom_id)\n",
    "substructure = Chem.PathToSubmol(phthalic_anhydride, path_ids)\n",
    "substructure"
   ]
  },
  {
   "cell_type": "markdown",
   "id": "8afb3214",
   "metadata": {},
   "source": [
    "【解説】`FindAtomEnvironmentOfRadiusN()`メソッドについて  \n",
    "\n",
    "`FindAtomEnvironmentOfRadiusN`メソッドは、特定の原子を中心として指定された半径の環境を見つけるために使用されます。この関数は、特定の原子の周囲に存在する原子のセットを取得することができます。この機能は、分子の特定の部分に対して特定の操作を行いたい場合に非常に便利です。\n",
    "\n",
    "この関数の基本的な構文は以下の通りです:\n",
    "\n",
    "```python\n",
    "rdkit.Chem.FindAtomEnvironmentOfRadiusN(mol, radius, atomId, bondedOnly=True)\n",
    "```\n",
    "\n",
    "主な引数は次のとおりです:\n",
    "\n",
    "- `mol`: RDKitのMolオブジェクト。環境を検索したい対象の分子を指定します。\n",
    "- `radius`: int型。探索したい環境の半径を指定します。この半径の距離内にある原子が検索されます。\n",
    "- `atomId`: int型。探索を開始する原子のインデックスを指定します。\n",
    "- `bondedOnly`: bool型。Trueの場合、指定された半径内の原子は原子間の結合を持っている必要があります。Falseの場合、半径内のすべての原子が対象となります。\n",
    "\n",
    "このメソッドは、与えられた原子を中心に、指定された半径内に存在する原子のインデックスのセットを返します。これにより、分子内の特定の部分構造を抽出することが可能です。環境の探索を行う際には、対象の原子が分子内で一意に特定される必要があります。"
   ]
  },
  {
   "cell_type": "markdown",
   "id": "955717bc",
   "metadata": {},
   "source": [
    "### Morgan fingerprintが分子の中のどこを指しているか確認する\n",
    "`GetSubstructMatch()`で部分構造を指定することで分子全体の中での部分構造を表示することができます。"
   ]
  },
  {
   "cell_type": "code",
   "execution_count": 13,
   "id": "c69b6e6d",
   "metadata": {},
   "outputs": [
    {
     "name": "stdout",
     "output_type": "stream",
     "text": [
      "substructure cc(c)C(=O)OC\n"
     ]
    },
    {
     "data": {
      "image/png": "[encoded data removed]",
      "text/plain": [
       "<rdkit.Chem.rdchem.Mol at 0x2be6be9e580>"
      ]
     },
     "execution_count": 13,
     "metadata": {},
     "output_type": "execute_result"
    }
   ],
   "source": [
    "print('substructure', Chem.MolToSmiles(substructure))\n",
    "\n",
    "phthalic_anhydride.GetSubstructMatch(substructure)\n",
    "phthalic_anhydride"
   ]
  },
  {
   "cell_type": "markdown",
   "id": "b313fd81",
   "metadata": {},
   "source": [
    "【解説】`GetSubstructMatch()`メソッド  \n",
    "与えられた部分構造が、対象の分子内のどこに存在するかを見つけるために使用されます。具体的には、対象の分子に対して、指定された部分構造の一致性を見つけるために使用されます。\n",
    "\n",
    "`GetSubstructMatch()`メソッドは、以下のように使用します：\n",
    "\n",
    "```python\n",
    "from rdkit import Chem\n",
    "\n",
    "# ターゲット分子とサブストラクチャを生成\n",
    "target_molecule = Chem.MolFromSmiles('CCOCCNC')\n",
    "substructure = Chem.MolFromSmiles('CCO')\n",
    "\n",
    "# ターゲット分子内でサブストラクチャが存在するかを検索\n",
    "matches = target_molecule.GetSubstructMatch(substructure)\n",
    "\n",
    "if matches:\n",
    "    print(\"サブストラクチャが見つかりました。\")\n",
    "    print(\"マッチの位置: \", matches)\n",
    "else:\n",
    "    print(\"サブストラクチャは見つかりませんでした。\")\n",
    "```\n",
    "\n",
    "この例では、`CCOCCNC`というSMILES表記のターゲット分子に対して、`CCO`というサブストラクチャ（部分構造）を検索しています。\n",
    "\n",
    "`GetSubstructMatch()`メソッドは、ターゲット分子内にサブストラクチャが見つかった場合、サブストラクチャの開始原子のインデックスが格納されたPythonのリストを返します。このリストには、サブストラクチャの各原子がターゲット分子内のどの原子と対応しているかが示されています。\n",
    "\n",
    "もしサブストラクチャが見つからなかった場合は、空のリストが返されます。"
   ]
  },
  {
   "cell_type": "markdown",
   "id": "46da6b36",
   "metadata": {},
   "source": [
    "## 2.　RDKitフィンガープリント (底本P.19)\n",
    "\n",
    "**RDKitフィンガープリント**のアルゴリズムはDaylightフィンガープリントの生成で使われているものと類似しています。 分子のトポロジカルパス（たとえば結合）を同定しハッシュを生成します。それを利用してユーザー指定の長さのフィンガープリントにビットを立てます。 全てのパスを同定した後で、フィンガープリントは一般的に、特定のビット密度になるまで畳み込まれます。\n",
    "\n",
    "https://rdkit.org/docs_jp/Getting_Started_with_RDKit_in_Python_jp.html"
   ]
  },
  {
   "cell_type": "markdown",
   "id": "41ded191",
   "metadata": {},
   "source": [
    "### RDKitフィンガープリントの呼び込み \n",
    "RDKitの`rdkit.Chem`モジュールに含まれている`RDKFingerprint`メソッドは、RDKitフィンガープリントを取得するためのメソッドです。"
   ]
  },
  {
   "cell_type": "code",
   "execution_count": 14,
   "id": "1b110ef7",
   "metadata": {},
   "outputs": [
    {
     "name": "stdout",
     "output_type": "stream",
     "text": [
      "[(5, [[0, 9, 10, 4], [3, 4, 10, 9]]),\n",
      " (8, [[1, 2, 4, 10], [1, 2, 4, 5], [1, 2, 9, 11], [1, 2, 9, 10]]),\n",
      " (10, [[0, 9, 11, 10, 4], [3, 4, 10, 9, 5]]),\n",
      " (17, [[0, 9, 10, 4, 3]]),\n",
      " (23, [[1, 2, 4], [1, 2, 9]]),\n",
      " (44, [[1, 2, 4, 5, 9], [1, 2, 4, 9, 11]]),\n",
      " (52, [[4, 10, 11, 9, 5]]),\n",
      " (70, [[0, 9], [3, 4]]),\n",
      " (76, [[0, 9, 11, 10, 4], [3, 4, 10, 9, 5]]),\n",
      " (91, [[0, 9, 11, 10], [3, 4, 10, 5]])]\n"
     ]
    },
    {
     "data": {
      "text/plain": [
       "[5, 8, 10, 17, 23, 44, 52, 70, 76, 91]"
      ]
     },
     "execution_count": 14,
     "metadata": {},
     "output_type": "execute_result"
    }
   ],
   "source": [
    "from pprint import pprint \n",
    "\n",
    "rdkbi = {}\n",
    "rdkfp = Chem.RDKFingerprint(phthalic_anhydride, maxPath=5, bitInfo=rdkbi)\n",
    "\n",
    "pprint(list(rdkbi.items())[:10])\n",
    "list(rdkfp.GetOnBits())[:10]"
   ]
  },
  {
   "cell_type": "markdown",
   "id": "c6801e56",
   "metadata": {},
   "source": [
    "【解説】`Chem.RDKFingerprint()`関数について  \n",
    "\n",
    "RDKitフィンガープリント（RDKFingerprint）は、分子の特徴を取り込んだビット列（バイナリの指紋）であり、特に化学的な類似性の評価や機械学習モデルの入力として広く使用されています。`Chem.RDKFingerprint`はその分子の指定されたRDKitフィンガープリントを計算するために使用されます。\n",
    "\n",
    "この関数の基本的な構文は以下の通りです:\n",
    "\n",
    "```python\n",
    "rdkit.Chem.RDKFingerprint(mol, minPath=1, maxPath=7, fpSize=2048, nBitsPerHash=2, useHs=True, tgtDensity=0.0, minSize=128, branchedPaths=True, useBondOrder=True, atomInvariants=[], fromAtoms=[], atomBits=[], bitInfo={}, setOnlyBits=False, branchedFingerprints=True, useChirality=True, useBondStereo=True, useFeatures=False)\n",
    "```\n",
    "\n",
    "主な引数は次のとおりです:\n",
    "\n",
    "- `mol`: RDKitのMolオブジェクト。フィンガープリントを計算したい対象の分子を指定します。\n",
    "- `minPath`と`maxPath`: int型。計算されるフィンガープリントに含まれる原子間の結合のパスの最小および最大長を指定します。デフォルトでは、最小パスは1（直接結合）、最大パスは7となっています。\n",
    "- `fpSize`: int型。生成されるフィンガープリントのサイズ（ビット数）を指定します。デフォルトでは2048ビットです。\n",
    "- `nBitsPerHash`: int型。各パスに対して計算されるハッシュの数を指定します。デフォルトでは2です。\n",
    "- `useHs`: bool型。Trueの場合、水素原子を含むフィンガープリントを生成します。Falseの場合、水素原子は含まれません。\n",
    "- その他の引数には、フィンガープリントの計算に関連するさまざまな設定が含まれていますが、通常の使用ではこれらをデフォルト値のままにしておくことが一般的です。\n",
    "\n",
    "このコードでは、与えられたSMILES表記の分子に対してRDKFingerprint（フィンガープリント）を計算し、そのビット列を表示しています。"
   ]
  },
  {
   "cell_type": "markdown",
   "id": "c20dde0f",
   "metadata": {},
   "source": [
    "### RDKit fingerprintの可視化\n",
    "フィンガープリントは数字列のみでは理解が及びません。RDKitの`Draw.DrawRDKitBit()`メソッドを使うことで部分構造を可視化し、フィンガープリントを解析することができます。また、特定のビットの分子における存在を直感的に理解ができるようになります。"
   ]
  },
  {
   "cell_type": "code",
   "execution_count": 15,
   "id": "a4c52879",
   "metadata": {},
   "outputs": [
    {
     "data": {
      "image/jpeg": "[encoded data removed]",
      "image/png": "[encoded data removed]",
      "text/plain": [
       "<PIL.PngImagePlugin.PngImageFile image mode=RGB size=150x150>"
      ]
     },
     "execution_count": 15,
     "metadata": {},
     "output_type": "execute_result"
    }
   ],
   "source": [
    "Draw.DrawRDKitBit(phthalic_anhydride, 10, rdkbi)"
   ]
  },
  {
   "cell_type": "code",
   "execution_count": 16,
   "id": "9ac5137c",
   "metadata": {},
   "outputs": [
    {
     "data": {
      "image/jpeg": "[encoded data removed]",
      "image/png": "[encoded data removed]",
      "text/plain": [
       "<PIL.PngImagePlugin.PngImageFile image mode=RGB size=150x150>"
      ]
     },
     "execution_count": 16,
     "metadata": {},
     "output_type": "execute_result"
    }
   ],
   "source": [
    "Draw.DrawRDKitBit(phthalic_anhydride, 52, rdkbi)"
   ]
  },
  {
   "cell_type": "markdown",
   "id": "5c62680e",
   "metadata": {},
   "source": [
    "【解説】`Draw.DrawRDKitBit()`メソッドについて  \n",
    "フィンガープリントやビットマスクを可視化するために使用されます。フィンガープリントは、分子の特徴を捉えたバイナリベクトルであり、化学的な性質を表現するのに便利です。`Draw.DrawRDKitBit()`メソッドを使用することで、フィンガープリントのビットがセットされているかどうかをグラフィカルに表示できます。\n",
    "\n",
    "このメソッドの一般的な構文は以下のようになります:\n",
    "\n",
    "```python\n",
    "from rdkit.Chem import Draw\n",
    "from rdkit import DataStructs\n",
    "\n",
    "# フィンガープリントを取得する\n",
    "fingerprint = ...  # RDKitのフィンガープリント (ExplicitBitVectなど)\n",
    "\n",
    "# ビットマスクがセットされているかをグラフィカルに表示\n",
    "img = Draw.DrawRDKitBit(fingerprint, bitId, **kwargs)\n",
    "```\n",
    "\n",
    "ここでの主な引数は以下の通りです:\n",
    "\n",
    "- `fingerprint`: RDKitのフィンガープリント (ExplicitBitVectなど) を指定します。\n",
    "\n",
    "- `bitId`: グラフィカルに表示するビットマスクのIDを指定します。\n",
    "\n",
    "- `**kwargs`: その他のオプション引数を指定します。例えば、`legend`を設定することでビットマスクの説明を表示できます。\n",
    "\n",
    "以下は、簡単な例を示します:\n",
    "\n",
    "```python\n",
    "from rdkit.Chem import Draw\n",
    "from rdkit.Chem import AllChem\n",
    "\n",
    "# 分子を読み込む\n",
    "mol = Chem.MolFromSmiles('CCO')\n",
    "\n",
    "# フィンガープリントを計算する\n",
    "fingerprint = AllChem.GetMorganFingerprintAsBitVect(mol, 2, nBits=1024)\n",
    "\n",
    "# ビットマスクがセットされているかをグラフィカルに表示\n",
    "img = Draw.DrawRDKitBit(fingerprint, bitId=100)\n",
    "img.show()\n",
    "```\n",
    "\n",
    "この例では、`CCO`というSMILES表記の分子からモルガンフィンガープリントを計算し、ビットマスク100のビットがセットされているかをグラフィカルに表示しています。"
   ]
  },
  {
   "cell_type": "markdown",
   "id": "691629c2",
   "metadata": {},
   "source": [
    "## 3.RDKit記述子（底本P.11）\n",
    "\n",
    "RDKitの`Descriptors`クラスは、化学的な分子の特性や記述子を計算するためのクラスです。このクラスは、RDKitライブラリの一部であり、分子の物理的、化学的、構造的な特性を数値で表現するための関数を提供します。以下にいくつかの代表的なRDKit記述子の一部を示します：\n",
    "\n",
    "1. **溶解度関連**：\n",
    "   - LogP（分配係数）:  水分配係数で分子の疎水性を表す指標です。\n",
    "   - TPSA（極性表面積）: 分子の極性を表す表面積の指標です。\n",
    "   - MR（分子量の相対値）: 分子のサイズと形状を表す指標です。\n",
    "   \n",
    "2. **三次元形状関連**：\n",
    "   - 2D/3D相互情報量: 分子内の原子間距離と角度の統計的な特徴を表す指標です。\n",
    "   - 融合リング数: 分子内の融合環の数を表す指標です。\n",
    "   \n",
    "3. **環境依存性関連**：\n",
    "   - 融合環間距離: 分子内の融合環の間の距離を表す指標です。\n",
    "   - 局所原子密度: 分子内の原子の密度を表す指標です。\n",
    "   \n",
    "4. **構造関連記**：\n",
    "   - 分子量: 分子の質量を表す指標です。\n",
    "   - HBA（水素結合アクセプター）: 分子内の水素結合アクセプターの数を表す指標です。\n",
    "   - HBD（水素結合ドナー）: 分子内の水素結合ドナーの数を表す指標です。"
   ]
  },
  {
   "cell_type": "markdown",
   "id": "8cf37e25",
   "metadata": {},
   "source": [
    "### RDKit fingerprint（フィンガープリント）とRDKit descriptor（ディスクリプタ）の違い\n",
    "RDKit fingerprint（フィンガープリント）とRDKit descriptor（ディスクリプタ）は、RDKitライブラリ内で化学情報の表現として使用される異なる概念です。両者は共通点もありますが、目的や計算方法、得られる情報などに違いがあります。\n",
    "\n",
    "1. **RDKit fingerprint（フィンガープリント）**:\n",
    "   - RDKit fingerprintは、分子の構造に基づいて生成されるバイナリのビット列です。\n",
    "   - 化学的特徴を取り込んだコンパクトな表現であり、主に分子の類似性評価や機械学習モデルの特徴量として使用されます。\n",
    "   - 分子の特定の部分構造の存在を表すビットが立っていることで、その分子がその部分構造を持つかどうかを示します。\n",
    "   - 例：RDKFingerprint（RDKitフィンガープリント）\n",
    "\n",
    "2. **RDKit descriptor（ディスクリプタ）**:\n",
    "   - RDKit descriptorは、分子の特定の性質や特徴を数値として表す量です。\n",
    "   - 分子の物理的、化学的、トポロジカルな性質などが計算されます。\n",
    "   - 主に分子の特性を定量的に理解したり、機械学習モデルの特徴量として使用されたりします。\n",
    "   - 分子のサイズ、重さ、水素結合ドナーおよびアクセプターの数、融点、沸点、極性などが含まれます。\n",
    "   - 例：Descriptors（RDKitディスクリプタ）\n",
    "\n",
    "したがって、RDKit fingerprintは分子の特定の部分構造の存在を示すバイナリ表現であり、主に化学的類似性の評価に使用されます。一方、RDKit descriptorは分子の物理的、化学的、およびトポロジカルな性質を定量化した数値であり、主に分子の特性の解析や機械学習モデルの特徴量として使用されます。どちらもRDKitライブラリの重要な機能であり、分子の解析や予測に幅広く利用されています。"
   ]
  },
  {
   "cell_type": "markdown",
   "id": "249534ea",
   "metadata": {},
   "source": [
    "### 化合物の読み込み"
   ]
  },
  {
   "cell_type": "code",
   "execution_count": 17,
   "id": "94ea2211",
   "metadata": {},
   "outputs": [
    {
     "data": {
      "image/png": "[encoded data removed]",
      "text/plain": [
       "<rdkit.Chem.rdchem.Mol at 0x2be6f707190>"
      ]
     },
     "execution_count": 17,
     "metadata": {},
     "output_type": "execute_result"
    }
   ],
   "source": [
    "from rdkit import Chem\n",
    "smiles = \"O=C(OC(=O)c1cccc2)c12\"\n",
    "mol = Chem.MolFromSmiles(smiles)\n",
    "mol"
   ]
  },
  {
   "cell_type": "markdown",
   "id": "bc71517c",
   "metadata": {},
   "source": [
    "### モジュールインポート  \n",
    "RDKit記述子は`rdkit.Chem.Descriptors`モジュールから読み出せます。その中にある`descList`メソッドは、RDKit記述子のリストを含んでおり、分子量やフラグメントなどの209の項目（情報）を提供します。"
   ]
  },
  {
   "cell_type": "code",
   "execution_count": 18,
   "id": "9acb6307",
   "metadata": {},
   "outputs": [
    {
     "data": {
      "text/plain": [
       "208"
      ]
     },
     "execution_count": 18,
     "metadata": {},
     "output_type": "execute_result"
    }
   ],
   "source": [
    "from rdkit.Chem import Descriptors\n",
    "len(Descriptors.descList)"
   ]
  },
  {
   "cell_type": "code",
   "execution_count": 19,
   "id": "f766820f",
   "metadata": {},
   "outputs": [
    {
     "data": {
      "text/plain": [
       "['MaxEStateIndex',\n",
       " 'MinEStateIndex',\n",
       " 'MaxAbsEStateIndex',\n",
       " 'MinAbsEStateIndex',\n",
       " 'qed',\n",
       " 'MolWt',\n",
       " 'HeavyAtomMolWt',\n",
       " 'ExactMolWt',\n",
       " 'NumValenceElectrons',\n",
       " 'NumRadicalElectrons',\n",
       " 'MaxPartialCharge',\n",
       " 'MinPartialCharge',\n",
       " 'MaxAbsPartialCharge',\n",
       " 'MinAbsPartialCharge',\n",
       " 'FpDensityMorgan1',\n",
       " 'FpDensityMorgan2',\n",
       " 'FpDensityMorgan3',\n",
       " 'BCUT2D_MWHI',\n",
       " 'BCUT2D_MWLOW',\n",
       " 'BCUT2D_CHGHI',\n",
       " 'BCUT2D_CHGLO',\n",
       " 'BCUT2D_LOGPHI',\n",
       " 'BCUT2D_LOGPLOW',\n",
       " 'BCUT2D_MRHI',\n",
       " 'BCUT2D_MRLOW',\n",
       " 'BalabanJ',\n",
       " 'BertzCT',\n",
       " 'Chi0',\n",
       " 'Chi0n',\n",
       " 'Chi0v',\n",
       " 'Chi1',\n",
       " 'Chi1n',\n",
       " 'Chi1v',\n",
       " 'Chi2n',\n",
       " 'Chi2v',\n",
       " 'Chi3n',\n",
       " 'Chi3v',\n",
       " 'Chi4n',\n",
       " 'Chi4v',\n",
       " 'HallKierAlpha',\n",
       " 'Ipc',\n",
       " 'Kappa1',\n",
       " 'Kappa2',\n",
       " 'Kappa3',\n",
       " 'LabuteASA',\n",
       " 'PEOE_VSA1',\n",
       " 'PEOE_VSA10',\n",
       " 'PEOE_VSA11',\n",
       " 'PEOE_VSA12',\n",
       " 'PEOE_VSA13',\n",
       " 'PEOE_VSA14',\n",
       " 'PEOE_VSA2',\n",
       " 'PEOE_VSA3',\n",
       " 'PEOE_VSA4',\n",
       " 'PEOE_VSA5',\n",
       " 'PEOE_VSA6',\n",
       " 'PEOE_VSA7',\n",
       " 'PEOE_VSA8',\n",
       " 'PEOE_VSA9',\n",
       " 'SMR_VSA1',\n",
       " 'SMR_VSA10',\n",
       " 'SMR_VSA2',\n",
       " 'SMR_VSA3',\n",
       " 'SMR_VSA4',\n",
       " 'SMR_VSA5',\n",
       " 'SMR_VSA6',\n",
       " 'SMR_VSA7',\n",
       " 'SMR_VSA8',\n",
       " 'SMR_VSA9',\n",
       " 'SlogP_VSA1',\n",
       " 'SlogP_VSA10',\n",
       " 'SlogP_VSA11',\n",
       " 'SlogP_VSA12',\n",
       " 'SlogP_VSA2',\n",
       " 'SlogP_VSA3',\n",
       " 'SlogP_VSA4',\n",
       " 'SlogP_VSA5',\n",
       " 'SlogP_VSA6',\n",
       " 'SlogP_VSA7',\n",
       " 'SlogP_VSA8',\n",
       " 'SlogP_VSA9',\n",
       " 'TPSA',\n",
       " 'EState_VSA1',\n",
       " 'EState_VSA10',\n",
       " 'EState_VSA11',\n",
       " 'EState_VSA2',\n",
       " 'EState_VSA3',\n",
       " 'EState_VSA4',\n",
       " 'EState_VSA5',\n",
       " 'EState_VSA6',\n",
       " 'EState_VSA7',\n",
       " 'EState_VSA8',\n",
       " 'EState_VSA9',\n",
       " 'VSA_EState1',\n",
       " 'VSA_EState10',\n",
       " 'VSA_EState2',\n",
       " 'VSA_EState3',\n",
       " 'VSA_EState4',\n",
       " 'VSA_EState5',\n",
       " 'VSA_EState6',\n",
       " 'VSA_EState7',\n",
       " 'VSA_EState8',\n",
       " 'VSA_EState9',\n",
       " 'FractionCSP3',\n",
       " 'HeavyAtomCount',\n",
       " 'NHOHCount',\n",
       " 'NOCount',\n",
       " 'NumAliphaticCarbocycles',\n",
       " 'NumAliphaticHeterocycles',\n",
       " 'NumAliphaticRings',\n",
       " 'NumAromaticCarbocycles',\n",
       " 'NumAromaticHeterocycles',\n",
       " 'NumAromaticRings',\n",
       " 'NumHAcceptors',\n",
       " 'NumHDonors',\n",
       " 'NumHeteroatoms',\n",
       " 'NumRotatableBonds',\n",
       " 'NumSaturatedCarbocycles',\n",
       " 'NumSaturatedHeterocycles',\n",
       " 'NumSaturatedRings',\n",
       " 'RingCount',\n",
       " 'MolLogP',\n",
       " 'MolMR',\n",
       " 'fr_Al_COO',\n",
       " 'fr_Al_OH',\n",
       " 'fr_Al_OH_noTert',\n",
       " 'fr_ArN',\n",
       " 'fr_Ar_COO',\n",
       " 'fr_Ar_N',\n",
       " 'fr_Ar_NH',\n",
       " 'fr_Ar_OH',\n",
       " 'fr_COO',\n",
       " 'fr_COO2',\n",
       " 'fr_C_O',\n",
       " 'fr_C_O_noCOO',\n",
       " 'fr_C_S',\n",
       " 'fr_HOCCN',\n",
       " 'fr_Imine',\n",
       " 'fr_NH0',\n",
       " 'fr_NH1',\n",
       " 'fr_NH2',\n",
       " 'fr_N_O',\n",
       " 'fr_Ndealkylation1',\n",
       " 'fr_Ndealkylation2',\n",
       " 'fr_Nhpyrrole',\n",
       " 'fr_SH',\n",
       " 'fr_aldehyde',\n",
       " 'fr_alkyl_carbamate',\n",
       " 'fr_alkyl_halide',\n",
       " 'fr_allylic_oxid',\n",
       " 'fr_amide',\n",
       " 'fr_amidine',\n",
       " 'fr_aniline',\n",
       " 'fr_aryl_methyl',\n",
       " 'fr_azide',\n",
       " 'fr_azo',\n",
       " 'fr_barbitur',\n",
       " 'fr_benzene',\n",
       " 'fr_benzodiazepine',\n",
       " 'fr_bicyclic',\n",
       " 'fr_diazo',\n",
       " 'fr_dihydropyridine',\n",
       " 'fr_epoxide',\n",
       " 'fr_ester',\n",
       " 'fr_ether',\n",
       " 'fr_furan',\n",
       " 'fr_guanido',\n",
       " 'fr_halogen',\n",
       " 'fr_hdrzine',\n",
       " 'fr_hdrzone',\n",
       " 'fr_imidazole',\n",
       " 'fr_imide',\n",
       " 'fr_isocyan',\n",
       " 'fr_isothiocyan',\n",
       " 'fr_ketone',\n",
       " 'fr_ketone_Topliss',\n",
       " 'fr_lactam',\n",
       " 'fr_lactone',\n",
       " 'fr_methoxy',\n",
       " 'fr_morpholine',\n",
       " 'fr_nitrile',\n",
       " 'fr_nitro',\n",
       " 'fr_nitro_arom',\n",
       " 'fr_nitro_arom_nonortho',\n",
       " 'fr_nitroso',\n",
       " 'fr_oxazole',\n",
       " 'fr_oxime',\n",
       " 'fr_para_hydroxylation',\n",
       " 'fr_phenol',\n",
       " 'fr_phenol_noOrthoHbond',\n",
       " 'fr_phos_acid',\n",
       " 'fr_phos_ester',\n",
       " 'fr_piperdine',\n",
       " 'fr_piperzine',\n",
       " 'fr_priamide',\n",
       " 'fr_prisulfonamd',\n",
       " 'fr_pyridine',\n",
       " 'fr_quatN',\n",
       " 'fr_sulfide',\n",
       " 'fr_sulfonamd',\n",
       " 'fr_sulfone',\n",
       " 'fr_term_acetylene',\n",
       " 'fr_tetrazole',\n",
       " 'fr_thiazole',\n",
       " 'fr_thiocyan',\n",
       " 'fr_thiophene',\n",
       " 'fr_unbrch_alkane',\n",
       " 'fr_urea']"
      ]
     },
     "execution_count": 19,
     "metadata": {},
     "output_type": "execute_result"
    }
   ],
   "source": [
    "names = list(dict(Descriptors.descList).keys())\n",
    "names"
   ]
  },
  {
   "cell_type": "markdown",
   "id": "32d4f3b0",
   "metadata": {},
   "source": [
    "descListにある項目はpythonのメソッド（関数）となっています。引数としてmolオブジェクトを加えることで記述子のvalueが返されます。次の３つ例は分子量、TPSA、回転可能な結合数を読み出しています。"
   ]
  },
  {
   "cell_type": "code",
   "execution_count": 20,
   "id": "9b569d37",
   "metadata": {},
   "outputs": [
    {
     "name": "stdout",
     "output_type": "stream",
     "text": [
      "Molecular weight: 148.11699999999996\n",
      "TPSA: 43.370000000000005\n",
      "Number of rotatable bonds: 0\n"
     ]
    }
   ],
   "source": [
    "mol_weight = Descriptors.MolWt(mol)\n",
    "tpsa = Descriptors.TPSA(mol)\n",
    "num_rotatable_bonds = Descriptors.NumRotatableBonds(mol)\n",
    "\n",
    "print(\"Molecular weight:\", mol_weight)\n",
    "print(\"TPSA:\", tpsa)\n",
    "print(\"Number of rotatable bonds:\", num_rotatable_bonds)"
   ]
  },
  {
   "cell_type": "markdown",
   "id": "c91ae011",
   "metadata": {},
   "source": [
    "# 次回\n",
    "https://colab.research.google.com/github/ARIM-Training/Training_python_4/blob/main/3_Dimensionality_Reduction.ipynb"
   ]
  },
  {
   "cell_type": "code",
   "execution_count": null,
   "id": "1036cf7a-8022-4bce-9718-c6adbe1b06ed",
   "metadata": {},
   "outputs": [],
   "source": []
  }
 ],
 "metadata": {
  "kernelspec": {
   "display_name": "Python 3 (ipykernel)",
   "language": "python",
   "name": "python3"
  },
  "language_info": {
   "codemirror_mode": {
    "name": "ipython",
    "version": 3
   },
   "file_extension": ".py",
   "mimetype": "text/x-python",
   "name": "python",
   "nbconvert_exporter": "python",
   "pygments_lexer": "ipython3",
   "version": "3.8.17"
  }
 },
 "nbformat": 4,
 "nbformat_minor": 5
}
