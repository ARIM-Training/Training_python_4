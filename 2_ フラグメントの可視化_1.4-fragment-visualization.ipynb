{
 "cells": [
  {
   "cell_type": "markdown",
   "metadata": {},
   "source": [
    "# RDKitを使った分子構造可視化"
   ]
  },
  {
   "cell_type": "code",
   "execution_count": 12,
   "metadata": {},
   "outputs": [],
   "source": [
    "from rdkit import Chem\n",
    "from rdkit.Chem import rdMolDescriptors\n",
    "from rdkit.Chem.Draw import IPythonConsole\n",
    "from rdkit.Chem import Draw"
   ]
  },
  {
   "cell_type": "markdown",
   "metadata": {},
   "source": [
    "## IbuprofenからMorgan fingerprintを取り出す"
   ]
  },
  {
   "cell_type": "code",
   "execution_count": 13,
   "metadata": {},
   "outputs": [
    {
     "name": "stdout",
     "output_type": "stream",
     "text": [
      "[1, 79, 80, 283, 310, 389, 650, 807, 854, 857, 900, 921, 955, 1057, 1146, 1257, 1365, 1380, 1750, 1754, 1844, 1847, 1853, 1873, 1917]\n"
     ]
    }
   ],
   "source": [
    "ibuprofen = Chem.MolFromSmiles('CC(C)CC1=CC=C(C=C1)C(C)C(=O)O')\n",
    "\n",
    "bi = {}\n",
    "fp = rdMolDescriptors.GetMorganFingerprintAsBitVect(ibuprofen,\n",
    "                                                    radius=2,\n",
    "                                                    bitInfo=bi)\n",
    "print(list(fp.GetOnBits()))"
   ]
  },
  {
   "cell_type": "markdown",
   "metadata": {},
   "source": [
    "## Morgan fingerprintを色付けして表示\n",
    "\n",
    "RDKit 2019.09 以上のバージョンでは、`Draw.DrawMorganBit`を利用しましょう\n",
    "\n",
    "ID: 854の以下の例では、ibuprofenの左端が取得されています。"
   ]
  },
  {
   "cell_type": "code",
   "execution_count": 14,
   "metadata": {},
   "outputs": [
    {
     "data": {
      "image/png": "[encoded data removed]",
      "text/plain": [
       "<PIL.PngImagePlugin.PngImageFile image mode=RGB size=150x150>"
      ]
     },
     "execution_count": 14,
     "metadata": {},
     "output_type": "execute_result"
    }
   ],
   "source": [
    "#図1.6(a)　Morganフィンガープリントのid854\n",
    "Draw.DrawMorganBit(ibuprofen, 854,bi)"
   ]
  },
  {
   "cell_type": "code",
   "execution_count": 15,
   "metadata": {},
   "outputs": [
    {
     "data": {
      "text/plain": [
       "[(1, ((1, 0), (10, 0))),\n",
       " (79, ((3, 1),)),\n",
       " (80, ((3, 0),)),\n",
       " (283, ((0, 1), (2, 1), (11, 1))),\n",
       " (310, ((5, 2), (9, 2))),\n",
       " (389, ((14, 1),)),\n",
       " (650, ((13, 0),)),\n",
       " (807, ((12, 0), (14, 0))),\n",
       " (854, ((1, 2),)),\n",
       " (857, ((4, 2),))]"
      ]
     },
     "execution_count": 15,
     "metadata": {},
     "output_type": "execute_result"
    }
   ],
   "source": [
    "list(bi.items())[:10]"
   ]
  },
  {
   "cell_type": "code",
   "execution_count": 16,
   "metadata": {},
   "outputs": [
    {
     "data": {
      "image/png": "[encoded data removed]",
      "text/plain": [
       "<rdkit.Chem.rdchem.Mol at 0x1c86c159970>"
      ]
     },
     "execution_count": 16,
     "metadata": {},
     "output_type": "execute_result"
    }
   ],
   "source": [
    "atom_id, radius = bi[310][0]\n",
    "path_ids = Chem.FindAtomEnvironmentOfRadiusN(ibuprofen, radius, atom_id)\n",
    "substructure = Chem.PathToSubmol(ibuprofen, path_ids)\n",
    "substructure"
   ]
  },
  {
   "cell_type": "markdown",
   "metadata": {},
   "source": [
    "## Morgan fingerprintが分子の中のどこを指しているか確認する\n",
    "\n",
    "`Mol.GetSubstructMatch`を利用する"
   ]
  },
  {
   "cell_type": "code",
   "execution_count": 17,
   "metadata": {},
   "outputs": [
    {
     "name": "stdout",
     "output_type": "stream",
     "text": [
      "substructure cccc(c)C\n"
     ]
    },
    {
     "data": {
      "image/png": "[encoded data removed]",
      "text/plain": [
       "<rdkit.Chem.rdchem.Mol at 0x1c86c0f46d0>"
      ]
     },
     "execution_count": 17,
     "metadata": {},
     "output_type": "execute_result"
    }
   ],
   "source": [
    "print('substructure', Chem.MolToSmiles(substructure))\n",
    "ibuprofen.GetSubstructMatch(substructure)\n",
    "ibuprofen"
   ]
  },
  {
   "cell_type": "markdown",
   "metadata": {},
   "source": [
    "`bi`変数には、`(atom_index, radius)`が格納されている"
   ]
  },
  {
   "cell_type": "code",
   "execution_count": 18,
   "metadata": {},
   "outputs": [
    {
     "name": "stdout",
     "output_type": "stream",
     "text": [
      "atom_index 1 radius 2\n"
     ]
    }
   ],
   "source": [
    "atom_index, radius = bi[854][0]\n",
    "print('atom_index', atom_index, 'radius', radius)"
   ]
  },
  {
   "cell_type": "markdown",
   "metadata": {},
   "source": [
    "## RDKit fingerprintの取得と可視化"
   ]
  },
  {
   "cell_type": "code",
   "execution_count": 19,
   "metadata": {},
   "outputs": [],
   "source": [
    "from pprint import pprint "
   ]
  },
  {
   "cell_type": "code",
   "execution_count": 20,
   "metadata": {},
   "outputs": [
    {
     "name": "stdout",
     "output_type": "stream",
     "text": [
      "[(19, [[0, 2, 3, 14, 1], [0, 2, 3, 4, 1]]),\n",
      " (103,\n",
      "  [[4, 5, 6, 7],\n",
      "   [4, 5, 6, 14],\n",
      "   [4, 5, 14, 8],\n",
      "   [4, 14, 8, 7],\n",
      "   [5, 6, 7, 8],\n",
      "   [6, 7, 8, 14]]),\n",
      " (105, [[5, 6, 9, 11, 13], [7, 8, 9, 11, 13]]),\n",
      " (110, [[9, 11, 12, 10]]),\n",
      " (161, [[4, 5, 6], [4, 5, 14], [4, 14, 8], [5, 6, 7], [6, 7, 8], [7, 8, 14]]),\n",
      " (173, [[0, 2, 1]]),\n",
      " (194,\n",
      "  [[4, 5, 6, 7],\n",
      "   [4, 5, 6, 14],\n",
      "   [4, 5, 14, 8],\n",
      "   [4, 14, 8, 7],\n",
      "   [5, 6, 7, 8],\n",
      "   [6, 7, 8, 14]]),\n",
      " (254, [[9, 11, 13]]),\n",
      " (261, [[9, 11, 12]]),\n",
      " (294, [[4, 5], [4, 14], [5, 6], [6, 7], [7, 8], [8, 14]])]\n"
     ]
    },
    {
     "data": {
      "text/plain": [
       "[19, 103, 105, 110, 161, 173, 194, 254, 261, 294]"
      ]
     },
     "execution_count": 20,
     "metadata": {},
     "output_type": "execute_result"
    }
   ],
   "source": [
    "rdkbi = {}\n",
    "rdkfp = Chem.RDKFingerprint(ibuprofen, maxPath=5, bitInfo=rdkbi)\n",
    "pprint(list(rdkbi.items())[:10])\n",
    "list(rdkfp.GetOnBits())[:10]"
   ]
  },
  {
   "cell_type": "code",
   "execution_count": 21,
   "metadata": {},
   "outputs": [
    {
     "data": {
      "image/png": "[encoded data removed]",
      "text/plain": [
       "<PIL.PngImagePlugin.PngImageFile image mode=RGB size=150x150>"
      ]
     },
     "execution_count": 21,
     "metadata": {},
     "output_type": "execute_result"
    }
   ],
   "source": [
    "Draw.DrawRDKitBit(ibuprofen, 105, rdkbi)"
   ]
  },
  {
   "cell_type": "code",
   "execution_count": 22,
   "metadata": {},
   "outputs": [
    {
     "data": {
      "image/png": "[encoded data removed]",
      "text/plain": [
       "<PIL.PngImagePlugin.PngImageFile image mode=RGB size=150x150>"
      ]
     },
     "execution_count": 22,
     "metadata": {},
     "output_type": "execute_result"
    }
   ],
   "source": [
    "Draw.DrawRDKitBit(ibuprofen, 254, rdkbi)"
   ]
  },
  {
   "cell_type": "markdown",
   "metadata": {},
   "source": [
    "- Morgan fingerprintは、原子から同心円状に結合をたどって行きます。\n",
    "- 一方でRDKit fingerprintでは、直線的な部分構造を取り出すようです。\n",
    "- `rdkbi`では、部分構造に含まれる結合のidが取り出されています。"
   ]
  },
  {
   "cell_type": "code",
   "execution_count": 23,
   "metadata": {},
   "outputs": [],
   "source": [
    "epinephrine = Chem.MolFromSmiles('CNC[C@H](O)c1ccc(O)c(O)c1')"
   ]
  },
  {
   "cell_type": "markdown",
   "metadata": {},
   "source": [
    "## 分子をまとめて表示"
   ]
  },
  {
   "cell_type": "code",
   "execution_count": 24,
   "metadata": {},
   "outputs": [
    {
     "data": {
      "image/png": "[encoded data removed]",
      "text/plain": [
       "<IPython.core.display.Image object>"
      ]
     },
     "execution_count": 24,
     "metadata": {},
     "output_type": "execute_result"
    }
   ],
   "source": [
    "Draw.MolsToGridImage([epinephrine,\n",
    "                     ibuprofen], molsPerRow=2)"
   ]
  },
  {
   "cell_type": "markdown",
   "metadata": {},
   "source": [
    "### 図の保存"
   ]
  },
  {
   "cell_type": "code",
   "execution_count": 25,
   "metadata": {},
   "outputs": [
    {
     "ename": "AttributeError",
     "evalue": "'Image' object has no attribute 'save'",
     "output_type": "error",
     "traceback": [
      "\u001b[1;31m---------------------------------------------------------------------------\u001b[0m",
      "\u001b[1;31mAttributeError\u001b[0m                            Traceback (most recent call last)",
      "Cell \u001b[1;32mIn[25], line 3\u001b[0m\n\u001b[0;32m      1\u001b[0m img \u001b[39m=\u001b[39m Draw\u001b[39m.\u001b[39mMolsToGridImage([epinephrine,\n\u001b[0;32m      2\u001b[0m                      ibuprofen], molsPerRow\u001b[39m=\u001b[39m\u001b[39m2\u001b[39m)\n\u001b[1;32m----> 3\u001b[0m img\u001b[39m.\u001b[39;49msave(\u001b[39m'\u001b[39m\u001b[39m./molecules.jpg\u001b[39m\u001b[39m'\u001b[39m)\n",
      "\u001b[1;31mAttributeError\u001b[0m: 'Image' object has no attribute 'save'"
     ]
    }
   ],
   "source": [
    "img = Draw.MolsToGridImage([epinephrine,\n",
    "                     ibuprofen], molsPerRow=2)\n",
    "img.save('./molecules.jpg')"
   ]
  },
  {
   "cell_type": "code",
   "execution_count": null,
   "metadata": {},
   "outputs": [],
   "source": []
  }
 ],
 "metadata": {
  "kernelspec": {
   "display_name": "Python 3 (ipykernel)",
   "language": "python",
   "name": "python3"
  },
  "language_info": {
   "codemirror_mode": {
    "name": "ipython",
    "version": 3
   },
   "file_extension": ".py",
   "mimetype": "text/x-python",
   "name": "python",
   "nbconvert_exporter": "python",
   "pygments_lexer": "ipython3",
   "version": "3.9.16"
  }
 },
 "nbformat": 4,
 "nbformat_minor": 4
}
