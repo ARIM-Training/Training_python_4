{
 "cells": [
  {
   "cell_type": "markdown",
   "metadata": {},
   "source": [
    "# 情報活用講座：　ケモインフォマテックス 編　\n",
    "# 第7回：　水溶解度データと構造生成\n",
    "\n",
    "\n",
    "## 底本\n",
    "船津 公人、柴山 翔二郎 **『実践 マテリアルズインフォマティクス　Pythonによる材料設計のための機械学習』**、近代科学社、2020  \n",
    "第９章第３節　プロジェクトの例/ 解析例２：水溶解度データと構造生成\n",
    "\n",
    "## データセット\n",
    "delaney-processed.csvは1128化合物の水溶解度についてのデータセットです。このデータセットは、Delaneyの論文『ESOL: Estimating Aqueous Solubility Directly from Molecular Structure』[1] で発表されたものに基づいています。\n",
    "\n",
    "[1] John S. Delaney, \"ESOL:  Estimating Aqueous Solubility Directly from Molecular Structure\", J. Chem. Inf. Comput. Sci. 44, 1000–1005 (2004) (DOI: 10.1021/ci034243x)  \n",
    "\n",
    "Delaney-processed.csvは、分子の化学式、SMILES表記、また、水溶解度としてオクタノール水分配係数が含まれており、これらの特性は薬物探索や環境影響評価などの目的で使用されています。\n",
    "\n",
    "\n",
    "1. Compound ID\t：化合物ID\n",
    "1. ESOL predicted log solubility in mols per litre　：log水溶解度（オクタノール水分配係数）の予測値\t\n",
    "1. Minimum Degree：　最小次数\t\n",
    "1. Molecular Weight：分子量\t\n",
    "1. Number of H-Bond Donors\t：　水素結合に関与するDonor数\n",
    "1. Number of Rings\t：芳香環の数\t\n",
    "1. Number of Rotatable Bonds　：　回転可能結合数\t\n",
    "1. Polar Surface Area　：　極性表面積\t\n",
    "1. measured log solubility in mols per litre：log水溶解度の実測値\t\n",
    "1. smiles：SMILES表記\n",
    "\n",
    "\n",
    "## pythonライブラリ\n",
    "\n",
    "\n",
    "**NumPy**：　高性能の数値計算やデータ処理に特化したPythonのライブラリです。NumPyは多次元の配列や行列を効率的に操作する機能を提供し、科学技術計算やデータ解析の分野で広く使用されています。\n",
    "\n",
    "**Pandas**：　データ操作と解析のための高レベルのPythonライブラリです。Pandasは、テーブル形式のデータを効率的に処理し、データのフィルタリング、変換、集約、および結合などの機能を提供します。データの整形やクリーニング、欠損値の処理などを容易に行うことができます。\n",
    "\n",
    "**Matplotlib**：　Pythonでデータを可視化するための強力なライブラリです。Matplotlibは、グラフや図を描画するための多様な機能を提供し、折れ線グラフ、ヒストグラム、散布図、バーチャートなどの多くのプロットスタイルをサポートしています。データの傾向や関係性を視覚的に理解するための強力なツールです。\n",
    "\n",
    "**RDKit**：　RDKitは、化学情報学や薬学の分野で広く使用されるオープンソースのソフトウェア開発キットです。RDKitはPythonで実装されており、様々な化学情報の処理や分子の構造解析、化学反応の予測などをサポートします。\n",
    "\n",
    "\n",
    "## 目標\n",
    "第６回では10,000の仮想化合物のバーチャルライブラリを作成しました。本編では、これらの化合物から候補材料を見つけます。以下の４つを念頭に進めます。\n",
    "\n",
    "* PLSによる回帰分析では、フィンガープリント（記述子）としてMorganフィンガープリントおよびRDKit記述子についてグリッドサーチでハイパーパラメータ調整を行い、予測性の高いモデルを定めます。\n",
    "* `cheminfo/descriptors.py`に保存した記述子計算クラスを使って、SMILESから記述子計算をします。\n",
    "* あわせて、教師データから適用範囲（AD）を定めます。ここではT2指標、Q値という距離指標を用います。\n",
    "* 第6回で構造生成した仮想ライブラリを予測器にかけ、適用範囲（AD）内に収まる化合物をスクリーニングします。"
   ]
  },
  {
   "cell_type": "markdown",
   "metadata": {},
   "source": [
    "# Google Colabにおける環境設定\n",
    "google colab環境でなければ実行不要"
   ]
  },
  {
   "cell_type": "code",
   "execution_count": null,
   "metadata": {},
   "outputs": [],
   "source": [
    "!pip install rdkit-pypi\n",
    "!git clone https://github.com/ARIM-Training/Training_python_4.git\n",
    "%cd Training_python_4"
   ]
  },
  {
   "cell_type": "markdown",
   "metadata": {},
   "source": [
    "## 1.分子構造データの読み込み （P.130）\n",
    "### ライブラリのインポート"
   ]
  },
  {
   "cell_type": "code",
   "execution_count": 1,
   "metadata": {},
   "outputs": [],
   "source": [
    "#データ構造化ライブラリ\n",
    "import pandas as pd\n",
    "import numpy as np\n",
    "import matplotlib as mpl\n",
    "import matplotlib.pyplot as plt \n",
    "\n",
    "from sklearn.model_selection import train_test_split, GridSearchCV\n",
    "from sklearn.cross_decomposition import PLSRegression\n",
    "from sklearn import metrics\n",
    "\n",
    "#記述子ライブラリ\n",
    "from rdkit import Chem\n",
    "from rdkit.Chem.AllChem import GetHashedMorganFingerprint\n",
    "\n",
    "from warnings import filterwarnings\n",
    "filterwarnings('ignore')# 警告を無視"
   ]
  },
  {
   "cell_type": "markdown",
   "metadata": {},
   "source": [
    "### サンプルファイルの読み込み\n",
    "第一回と同じく「data/delaney-solubility」フォルダーにあるdelaney-processed.csvをpandasの`read_csv()`で読み込みます。RDKitの`MolFromSmiles`関数を[smiles]列に適用してmol構造への変換オブジェクトを[mol]列とする流れも第一回と同じです。"
   ]
  },
  {
   "cell_type": "code",
   "execution_count": 2,
   "metadata": {},
   "outputs": [
    {
     "data": {
      "text/html": [
       "<div>\n",
       "<style scoped>\n",
       "    .dataframe tbody tr th:only-of-type {\n",
       "        vertical-align: middle;\n",
       "    }\n",
       "\n",
       "    .dataframe tbody tr th {\n",
       "        vertical-align: top;\n",
       "    }\n",
       "\n",
       "    .dataframe thead th {\n",
       "        text-align: right;\n",
       "    }\n",
       "</style>\n",
       "<table border=\"1\" class=\"dataframe\">\n",
       "  <thead>\n",
       "    <tr style=\"text-align: right;\">\n",
       "      <th></th>\n",
       "      <th>Compound ID</th>\n",
       "      <th>ESOL predicted log solubility in mols per litre</th>\n",
       "      <th>Minimum Degree</th>\n",
       "      <th>Molecular Weight</th>\n",
       "      <th>Number of H-Bond Donors</th>\n",
       "      <th>Number of Rings</th>\n",
       "      <th>Number of Rotatable Bonds</th>\n",
       "      <th>Polar Surface Area</th>\n",
       "      <th>measured log solubility in mols per litre</th>\n",
       "      <th>smiles</th>\n",
       "      <th>mol</th>\n",
       "    </tr>\n",
       "  </thead>\n",
       "  <tbody>\n",
       "    <tr>\n",
       "      <th>0</th>\n",
       "      <td>Amigdalin</td>\n",
       "      <td>-0.974</td>\n",
       "      <td>1</td>\n",
       "      <td>457.432</td>\n",
       "      <td>7</td>\n",
       "      <td>3</td>\n",
       "      <td>7</td>\n",
       "      <td>202.32</td>\n",
       "      <td>-0.770</td>\n",
       "      <td>OCC3OC(OCC2OC(OC(C#N)c1ccccc1)C(O)C(O)C2O)C(O)...</td>\n",
       "      <td>&lt;rdkit.Chem.rdchem.Mol object at 0x00000268FD6...</td>\n",
       "    </tr>\n",
       "    <tr>\n",
       "      <th>1</th>\n",
       "      <td>Fenfuram</td>\n",
       "      <td>-2.885</td>\n",
       "      <td>1</td>\n",
       "      <td>201.225</td>\n",
       "      <td>1</td>\n",
       "      <td>2</td>\n",
       "      <td>2</td>\n",
       "      <td>42.24</td>\n",
       "      <td>-3.300</td>\n",
       "      <td>Cc1occc1C(=O)Nc2ccccc2</td>\n",
       "      <td>&lt;rdkit.Chem.rdchem.Mol object at 0x00000268FD6...</td>\n",
       "    </tr>\n",
       "    <tr>\n",
       "      <th>2</th>\n",
       "      <td>citral</td>\n",
       "      <td>-2.579</td>\n",
       "      <td>1</td>\n",
       "      <td>152.237</td>\n",
       "      <td>0</td>\n",
       "      <td>0</td>\n",
       "      <td>4</td>\n",
       "      <td>17.07</td>\n",
       "      <td>-2.060</td>\n",
       "      <td>CC(C)=CCCC(C)=CC(=O)</td>\n",
       "      <td>&lt;rdkit.Chem.rdchem.Mol object at 0x00000268FD6...</td>\n",
       "    </tr>\n",
       "    <tr>\n",
       "      <th>3</th>\n",
       "      <td>Picene</td>\n",
       "      <td>-6.618</td>\n",
       "      <td>2</td>\n",
       "      <td>278.354</td>\n",
       "      <td>0</td>\n",
       "      <td>5</td>\n",
       "      <td>0</td>\n",
       "      <td>0.00</td>\n",
       "      <td>-7.870</td>\n",
       "      <td>c1ccc2c(c1)ccc3c2ccc4c5ccccc5ccc43</td>\n",
       "      <td>&lt;rdkit.Chem.rdchem.Mol object at 0x00000268FD6...</td>\n",
       "    </tr>\n",
       "    <tr>\n",
       "      <th>4</th>\n",
       "      <td>Thiophene</td>\n",
       "      <td>-2.232</td>\n",
       "      <td>2</td>\n",
       "      <td>84.143</td>\n",
       "      <td>0</td>\n",
       "      <td>1</td>\n",
       "      <td>0</td>\n",
       "      <td>0.00</td>\n",
       "      <td>-1.330</td>\n",
       "      <td>c1ccsc1</td>\n",
       "      <td>&lt;rdkit.Chem.rdchem.Mol object at 0x00000268FD6...</td>\n",
       "    </tr>\n",
       "    <tr>\n",
       "      <th>...</th>\n",
       "      <td>...</td>\n",
       "      <td>...</td>\n",
       "      <td>...</td>\n",
       "      <td>...</td>\n",
       "      <td>...</td>\n",
       "      <td>...</td>\n",
       "      <td>...</td>\n",
       "      <td>...</td>\n",
       "      <td>...</td>\n",
       "      <td>...</td>\n",
       "      <td>...</td>\n",
       "    </tr>\n",
       "    <tr>\n",
       "      <th>1123</th>\n",
       "      <td>halothane</td>\n",
       "      <td>-2.608</td>\n",
       "      <td>1</td>\n",
       "      <td>197.381</td>\n",
       "      <td>0</td>\n",
       "      <td>0</td>\n",
       "      <td>0</td>\n",
       "      <td>0.00</td>\n",
       "      <td>-1.710</td>\n",
       "      <td>FC(F)(F)C(Cl)Br</td>\n",
       "      <td>&lt;rdkit.Chem.rdchem.Mol object at 0x00000268FD7...</td>\n",
       "    </tr>\n",
       "    <tr>\n",
       "      <th>1124</th>\n",
       "      <td>Oxamyl</td>\n",
       "      <td>-0.908</td>\n",
       "      <td>1</td>\n",
       "      <td>219.266</td>\n",
       "      <td>1</td>\n",
       "      <td>0</td>\n",
       "      <td>1</td>\n",
       "      <td>71.00</td>\n",
       "      <td>0.106</td>\n",
       "      <td>CNC(=O)ON=C(SC)C(=O)N(C)C</td>\n",
       "      <td>&lt;rdkit.Chem.rdchem.Mol object at 0x00000268FD7...</td>\n",
       "    </tr>\n",
       "    <tr>\n",
       "      <th>1125</th>\n",
       "      <td>Thiometon</td>\n",
       "      <td>-3.323</td>\n",
       "      <td>1</td>\n",
       "      <td>246.359</td>\n",
       "      <td>0</td>\n",
       "      <td>0</td>\n",
       "      <td>7</td>\n",
       "      <td>18.46</td>\n",
       "      <td>-3.091</td>\n",
       "      <td>CCSCCSP(=S)(OC)OC</td>\n",
       "      <td>&lt;rdkit.Chem.rdchem.Mol object at 0x00000268FD7...</td>\n",
       "    </tr>\n",
       "    <tr>\n",
       "      <th>1126</th>\n",
       "      <td>2-Methylbutane</td>\n",
       "      <td>-2.245</td>\n",
       "      <td>1</td>\n",
       "      <td>72.151</td>\n",
       "      <td>0</td>\n",
       "      <td>0</td>\n",
       "      <td>1</td>\n",
       "      <td>0.00</td>\n",
       "      <td>-3.180</td>\n",
       "      <td>CCC(C)C</td>\n",
       "      <td>&lt;rdkit.Chem.rdchem.Mol object at 0x00000268FD7...</td>\n",
       "    </tr>\n",
       "    <tr>\n",
       "      <th>1127</th>\n",
       "      <td>Stirofos</td>\n",
       "      <td>-4.320</td>\n",
       "      <td>1</td>\n",
       "      <td>365.964</td>\n",
       "      <td>0</td>\n",
       "      <td>1</td>\n",
       "      <td>5</td>\n",
       "      <td>44.76</td>\n",
       "      <td>-4.522</td>\n",
       "      <td>COP(=O)(OC)OC(=CCl)c1cc(Cl)c(Cl)cc1Cl</td>\n",
       "      <td>&lt;rdkit.Chem.rdchem.Mol object at 0x00000268FD7...</td>\n",
       "    </tr>\n",
       "  </tbody>\n",
       "</table>\n",
       "<p>1128 rows × 11 columns</p>\n",
       "</div>"
      ],
      "text/plain": [
       "         Compound ID  ESOL predicted log solubility in mols per litre  \\\n",
       "0          Amigdalin                                           -0.974   \n",
       "1           Fenfuram                                           -2.885   \n",
       "2             citral                                           -2.579   \n",
       "3             Picene                                           -6.618   \n",
       "4          Thiophene                                           -2.232   \n",
       "...              ...                                              ...   \n",
       "1123       halothane                                           -2.608   \n",
       "1124          Oxamyl                                           -0.908   \n",
       "1125       Thiometon                                           -3.323   \n",
       "1126  2-Methylbutane                                           -2.245   \n",
       "1127        Stirofos                                           -4.320   \n",
       "\n",
       "      Minimum Degree  Molecular Weight  Number of H-Bond Donors  \\\n",
       "0                  1           457.432                        7   \n",
       "1                  1           201.225                        1   \n",
       "2                  1           152.237                        0   \n",
       "3                  2           278.354                        0   \n",
       "4                  2            84.143                        0   \n",
       "...              ...               ...                      ...   \n",
       "1123               1           197.381                        0   \n",
       "1124               1           219.266                        1   \n",
       "1125               1           246.359                        0   \n",
       "1126               1            72.151                        0   \n",
       "1127               1           365.964                        0   \n",
       "\n",
       "      Number of Rings  Number of Rotatable Bonds  Polar Surface Area  \\\n",
       "0                   3                          7              202.32   \n",
       "1                   2                          2               42.24   \n",
       "2                   0                          4               17.07   \n",
       "3                   5                          0                0.00   \n",
       "4                   1                          0                0.00   \n",
       "...               ...                        ...                 ...   \n",
       "1123                0                          0                0.00   \n",
       "1124                0                          1               71.00   \n",
       "1125                0                          7               18.46   \n",
       "1126                0                          1                0.00   \n",
       "1127                1                          5               44.76   \n",
       "\n",
       "      measured log solubility in mols per litre  \\\n",
       "0                                        -0.770   \n",
       "1                                        -3.300   \n",
       "2                                        -2.060   \n",
       "3                                        -7.870   \n",
       "4                                        -1.330   \n",
       "...                                         ...   \n",
       "1123                                     -1.710   \n",
       "1124                                      0.106   \n",
       "1125                                     -3.091   \n",
       "1126                                     -3.180   \n",
       "1127                                     -4.522   \n",
       "\n",
       "                                                 smiles  \\\n",
       "0     OCC3OC(OCC2OC(OC(C#N)c1ccccc1)C(O)C(O)C2O)C(O)...   \n",
       "1                                Cc1occc1C(=O)Nc2ccccc2   \n",
       "2                                  CC(C)=CCCC(C)=CC(=O)   \n",
       "3                    c1ccc2c(c1)ccc3c2ccc4c5ccccc5ccc43   \n",
       "4                                               c1ccsc1   \n",
       "...                                                 ...   \n",
       "1123                                   FC(F)(F)C(Cl)Br    \n",
       "1124                          CNC(=O)ON=C(SC)C(=O)N(C)C   \n",
       "1125                                  CCSCCSP(=S)(OC)OC   \n",
       "1126                                            CCC(C)C   \n",
       "1127              COP(=O)(OC)OC(=CCl)c1cc(Cl)c(Cl)cc1Cl   \n",
       "\n",
       "                                                    mol  \n",
       "0     <rdkit.Chem.rdchem.Mol object at 0x00000268FD6...  \n",
       "1     <rdkit.Chem.rdchem.Mol object at 0x00000268FD6...  \n",
       "2     <rdkit.Chem.rdchem.Mol object at 0x00000268FD6...  \n",
       "3     <rdkit.Chem.rdchem.Mol object at 0x00000268FD6...  \n",
       "4     <rdkit.Chem.rdchem.Mol object at 0x00000268FD6...  \n",
       "...                                                 ...  \n",
       "1123  <rdkit.Chem.rdchem.Mol object at 0x00000268FD7...  \n",
       "1124  <rdkit.Chem.rdchem.Mol object at 0x00000268FD7...  \n",
       "1125  <rdkit.Chem.rdchem.Mol object at 0x00000268FD7...  \n",
       "1126  <rdkit.Chem.rdchem.Mol object at 0x00000268FD7...  \n",
       "1127  <rdkit.Chem.rdchem.Mol object at 0x00000268FD7...  \n",
       "\n",
       "[1128 rows x 11 columns]"
      ]
     },
     "execution_count": 2,
     "metadata": {},
     "output_type": "execute_result"
    }
   ],
   "source": [
    "df=pd.read_csv('./data/dataset/delaney-processed.csv')\n",
    "df['mol'] = df['smiles'].apply(Chem.MolFromSmiles)\n",
    "df"
   ]
  },
  {
   "cell_type": "markdown",
   "metadata": {},
   "source": [
    "## 2.　機械学習モデル：PLSによる最適な記述子の探索"
   ]
  },
  {
   "cell_type": "markdown",
   "metadata": {},
   "source": [
    "### 事前準備：ハッシュ化されたMorganフィンガープリントの生成の方法（P.127）\n",
    "Morganフィンガープリントは、指定された半径（半径は整数で指定）を持つ原子および結合の周りに存在する原子と結合のパターンを考慮して計算されます。この処理はハッシュ化処理と呼ばれ、結果はハッシュ値として返されます。これにより、非常に大きなビットベクトルを効率的に表現できます。なおここでハッシュ化処理とは、フラグメントの出現回数を折りたたんで固定長のベクトルを出力する処理です。\n",
    "\n",
    "ここではトルエンを例に、`GetHashedMorganFingerprint()`メソッドよりハッシュ化されたMorganフィンガープリントを取得する方法を見てみることにします。"
   ]
  },
  {
   "cell_type": "code",
   "execution_count": 3,
   "metadata": {},
   "outputs": [],
   "source": [
    "toluene = Chem.MolFromSmiles('Cc1ccccc1')\n",
    "hmfp = GetHashedMorganFingerprint(mol=toluene, radius=3, nBits=512)"
   ]
  },
  {
   "cell_type": "markdown",
   "metadata": {},
   "source": [
    "【解説】`GetHashedMorganFingerprint()`関数とは\n",
    "\n",
    "`GetHashedMorganFingerprint()`関数は、分子のMorgan（またはCircular）フィンガープリントを計算します。Morganフィンガープリントは、分子中の原子および結合を取り込んだ非常に有用な特徴ベクトルです。"
   ]
  },
  {
   "cell_type": "markdown",
   "metadata": {},
   "source": [
    "`GetMorganFingerprint()`関数との違い  \n",
    "`GetMorganFingerprint()`関数と`GetHashedMorganFingerprint()`関数の主な違いは、返されるデータの形式です。\n",
    "\n",
    "1. `GetMorganFingerprint()`関数:\n",
    "   - 返り値: ビットベクトル（RDKitのExplicitBitVectクラス）またはカウンティベクトル（RDKitのIntVectクラス）を返します。\n",
    "   - データ形式: ビットベクトルは明示的な0と1のビットで構成され、1がフィンガープリントに存在するフィーチャーを示し、0が存在しないことを示します。\n",
    "   - 使用例: 2D類似性検索など、フィンガープリントのバイナリ表現を必要とする場合に使用されます。\n",
    "\n",
    "2. `GetHashedMorganFingerprint()`関数:\n",
    "   - 返り値: ハッシュ値のリストを返します。各ハッシュ値は、指定されたビット長（デフォルトは2048）にハッシュされます。\n",
    "   - データ形式: ビットベクトルよりもコンパクトであり、類似性検索などの場合に効率的に使用できます。\n",
    "   - 使用例: 類似性検索や機械学習モデルへの入力など、ハッシュされた指紋データを利用する場合に使用されます。\n",
    "   \n",
    " なお、`GetHashedMorganFingerprint() `のデフォルトでは`use features`=Falseオプションとなっており、ECFP (拡張接続フィンガープリント)」に該当します。\n",
    "\n",
    "どちらの関数を使用するかは、具体的な用途によって異なります。"
   ]
  },
  {
   "cell_type": "markdown",
   "metadata": {},
   "source": [
    "ビットベクトルから非ゼロのビットのインデックスを見てみましょう"
   ]
  },
  {
   "cell_type": "code",
   "execution_count": 4,
   "metadata": {},
   "outputs": [
    {
     "data": {
      "text/plain": [
       "{31: 2,\n",
       " 33: 1,\n",
       " 64: 3,\n",
       " 175: 2,\n",
       " 186: 1,\n",
       " 214: 2,\n",
       " 287: 1,\n",
       " 309: 1,\n",
       " 337: 5,\n",
       " 356: 1,\n",
       " 384: 1,\n",
       " 389: 1,\n",
       " 411: 1}"
      ]
     },
     "execution_count": 4,
     "metadata": {},
     "output_type": "execute_result"
    }
   ],
   "source": [
    "hmfp.GetNonzeroElements()"
   ]
  },
  {
   "cell_type": "markdown",
   "metadata": {},
   "source": [
    "【解説】`GetNonzeroElements()`  \n",
    "ビットベクトルから非ゼロのビットのインデックスと値のペアを取得するために使用されます。この関数は主にフィンガープリントなどのバイナリデータを表すのに使用されます。\n",
    "\n",
    "ビットベクトルは、ビット長に対して非常に多くのゼロビットを含む場合がありますが、多くの場合、非ゼロのビット（1のビット）のみが重要です。`GetNonzeroElements()`関数は、非ゼロのビットのインデックスとその値（通常は1）のペアを取得することで、効率的に非ゼロの要素だけを取り出すことができます。\n",
    "\n",
    "`GetNonzeroElements()`関数の構文は以下の通りです:\n",
    "\n",
    "```python\n",
    "def GetNonzeroElements(bitVect)\n",
    "```\n",
    "\n",
    "- `bitVect`: ExplicitBitVectオブジェクト（明示的なビットベクトル）。これは通常、フィンガープリントなどのバイナリデータを表現するために使用されます。"
   ]
  },
  {
   "cell_type": "markdown",
   "metadata": {},
   "source": [
    "## 【参考】ハッシュ化されたMorganフィンガープリントを出力するクラス\n",
    "船津先生のオリジナルであるMorganフィンガープリント（頻度）を取り出す`HashedMorgan`クラスを使ってヒストグラムを作成します。"
   ]
  },
  {
   "cell_type": "code",
   "execution_count": 5,
   "metadata": {},
   "outputs": [],
   "source": [
    "from cheminfo.descriptors import HashedMorgan\n",
    "\n",
    "hm = HashedMorgan()\n",
    "X = hm.fit_transform(df['mol'])"
   ]
  },
  {
   "cell_type": "code",
   "execution_count": 6,
   "metadata": {},
   "outputs": [
    {
     "data": {
      "text/plain": [
       "(1128, 512)"
      ]
     },
     "execution_count": 6,
     "metadata": {},
     "output_type": "execute_result"
    }
   ],
   "source": [
    "X.shape"
   ]
  },
  {
   "cell_type": "code",
   "execution_count": 7,
   "metadata": {},
   "outputs": [
    {
     "data": {
      "image/png": "[encoded data removed]",
      "text/plain": [
       "<Figure size 640x480 with 1 Axes>"
      ]
     },
     "metadata": {},
     "output_type": "display_data"
    }
   ],
   "source": [
    "plt.hist(X.sum(axis=1), bins=100)\n",
    "\n",
    "plt.xlabel('Freq')\n",
    "plt.ylabel('Number of Samples')\n",
    "plt.show()"
   ]
  },
  {
   "cell_type": "markdown",
   "metadata": {},
   "source": [
    "## PLSによる最適な記述子の探索\n",
    "\n",
    "これより、機械学習によるモデル化を行います。MorganフィンガープリントおよびRDKit記述子を特徴量とする２ケースについて検討します。\n",
    "\n",
    "### (1) Morganフィンガープリントの場合（P.131）"
   ]
  },
  {
   "cell_type": "code",
   "execution_count": 8,
   "metadata": {},
   "outputs": [],
   "source": [
    "df_train, df_test = train_test_split(df, \n",
    "                                     test_size=.20, \n",
    "                                     random_state=42)"
   ]
  },
  {
   "cell_type": "markdown",
   "metadata": {},
   "source": [
    "目的変数を'measured log solubility in mols per litre'にセットします。"
   ]
  },
  {
   "cell_type": "code",
   "execution_count": 9,
   "metadata": {},
   "outputs": [
    {
     "data": {
      "text/html": [
       "<div>\n",
       "<style scoped>\n",
       "    .dataframe tbody tr th:only-of-type {\n",
       "        vertical-align: middle;\n",
       "    }\n",
       "\n",
       "    .dataframe tbody tr th {\n",
       "        vertical-align: top;\n",
       "    }\n",
       "\n",
       "    .dataframe thead th {\n",
       "        text-align: right;\n",
       "    }\n",
       "</style>\n",
       "<table border=\"1\" class=\"dataframe\">\n",
       "  <thead>\n",
       "    <tr style=\"text-align: right;\">\n",
       "      <th></th>\n",
       "      <th>measured log solubility in mols per litre</th>\n",
       "    </tr>\n",
       "  </thead>\n",
       "  <tbody>\n",
       "    <tr>\n",
       "      <th>876</th>\n",
       "      <td>-1.400</td>\n",
       "    </tr>\n",
       "    <tr>\n",
       "      <th>712</th>\n",
       "      <td>-0.390</td>\n",
       "    </tr>\n",
       "    <tr>\n",
       "      <th>554</th>\n",
       "      <td>-4.400</td>\n",
       "    </tr>\n",
       "    <tr>\n",
       "      <th>688</th>\n",
       "      <td>-2.676</td>\n",
       "    </tr>\n",
       "    <tr>\n",
       "      <th>780</th>\n",
       "      <td>-8.000</td>\n",
       "    </tr>\n",
       "    <tr>\n",
       "      <th>...</th>\n",
       "      <td>...</td>\n",
       "    </tr>\n",
       "    <tr>\n",
       "      <th>121</th>\n",
       "      <td>-4.800</td>\n",
       "    </tr>\n",
       "    <tr>\n",
       "      <th>1044</th>\n",
       "      <td>-2.120</td>\n",
       "    </tr>\n",
       "    <tr>\n",
       "      <th>1095</th>\n",
       "      <td>-3.620</td>\n",
       "    </tr>\n",
       "    <tr>\n",
       "      <th>860</th>\n",
       "      <td>-0.460</td>\n",
       "    </tr>\n",
       "    <tr>\n",
       "      <th>1126</th>\n",
       "      <td>-3.180</td>\n",
       "    </tr>\n",
       "  </tbody>\n",
       "</table>\n",
       "<p>902 rows × 1 columns</p>\n",
       "</div>"
      ],
      "text/plain": [
       "      measured log solubility in mols per litre\n",
       "876                                      -1.400\n",
       "712                                      -0.390\n",
       "554                                      -4.400\n",
       "688                                      -2.676\n",
       "780                                      -8.000\n",
       "...                                         ...\n",
       "121                                      -4.800\n",
       "1044                                     -2.120\n",
       "1095                                     -3.620\n",
       "860                                      -0.460\n",
       "1126                                     -3.180\n",
       "\n",
       "[902 rows x 1 columns]"
      ]
     },
     "execution_count": 9,
     "metadata": {},
     "output_type": "execute_result"
    }
   ],
   "source": [
    "TARGET=['measured log solubility in mols per litre']\n",
    "ytrain = df_train[TARGET]\n",
    "ytrain"
   ]
  },
  {
   "cell_type": "markdown",
   "metadata": {},
   "source": [
    "ここではグリッドサーチの手法からMorgan Fingerprintの半径とビット数の総当たりの組み合わせで最も精度が得られる組み合わせを計算します。機械学習モデルはPLSとしています。なお、ここでMorganフィンガープリントは、上記で説明したHash化したMorganとします。"
   ]
  },
  {
   "cell_type": "code",
   "execution_count": 10,
   "metadata": {},
   "outputs": [],
   "source": [
    "params={'n_components': np.arange(1,16)}\n",
    "scores = np.zeros((18,3))\n",
    "count = 0\n",
    "\n",
    "for radius in range(1, 4):\n",
    "    for n_bits in 2**np.arange(5, 11):\n",
    "        model = GridSearchCV(PLSRegression(), params, cv=5)\n",
    "        Xtrain = HashedMorgan(n_bits, radius).fit_transform(df_train['mol'])\n",
    "\n",
    "        model.fit(Xtrain, ytrain)\n",
    "        \n",
    "        score_cv = model.best_score_\n",
    "        scores[count,:] = np.array([radius, n_bits, score_cv])\n",
    "        count+=1 "
   ]
  },
  {
   "cell_type": "markdown",
   "metadata": {},
   "source": [
    "### スコアの表示\n",
    "交差検定の結果を表示します。横軸に半径、縦軸にはビット数としてR2スコアを色別して表示します。"
   ]
  },
  {
   "cell_type": "code",
   "execution_count": 11,
   "metadata": {},
   "outputs": [
    {
     "data": {
      "image/png": "[encoded data removed]",
      "text/plain": [
       "<Figure size 1200x800 with 2 Axes>"
      ]
     },
     "metadata": {},
     "output_type": "display_data"
    }
   ],
   "source": [
    "mpl.rcParams['figure.figsize'] = [12, 8]\n",
    "mpl.rcParams['font.size'] = 20\n",
    "\n",
    "fig,ax=plt.subplots()\n",
    "im = ax.imshow(scores[:,-1].reshape(3,6).T)\n",
    "fig.colorbar(im)\n",
    "\n",
    "ax.set_xticks(range(3))\n",
    "ax.set_yticks(range(6))\n",
    "ax.set_xticklabels(range(1,4))\n",
    "ax.set_yticklabels(map(int,scores[:6,1]))\n",
    "\n",
    "plt.xlabel('radius')\n",
    "plt.ylabel('number of but')\n",
    "plt.savefig('./results/10.3-optim-hashedmorgan-pls.jpg')\n",
    "\n",
    "plt.show()"
   ]
  },
  {
   "cell_type": "markdown",
   "metadata": {},
   "source": [
    "### 最良のパラメータを確認\n",
    "グリッドサーチによる最良のパラメーターは半径２、ビット数256のときにR2スコアとして0.76が得られました。"
   ]
  },
  {
   "cell_type": "code",
   "execution_count": 12,
   "metadata": {},
   "outputs": [
    {
     "name": "stdout",
     "output_type": "stream",
     "text": [
      "radius: 2.0, n_bits: 256.0 R^2:0.759\n"
     ]
    }
   ],
   "source": [
    "ix=scores[:,-1].argmax()\n",
    "print('radius: {}, n_bits: {} R^2:{:.3f}'.format(*scores[ix,:]))"
   ]
  },
  {
   "cell_type": "markdown",
   "metadata": {},
   "source": [
    "### (2) RDKit記述子の場合(P.132)\n",
    "同様にしてRDKit記述子についても機械学習モデルを生成してみましょう。"
   ]
  },
  {
   "cell_type": "code",
   "execution_count": 13,
   "metadata": {},
   "outputs": [],
   "source": [
    "from cheminfo.descriptors import RDKitDescriptor\n",
    "\n",
    "rdcalc = RDKitDescriptor()\n",
    "\n",
    "X = rdcalc.fit_transform(df_train['mol'])\n",
    "Xtrain = np.array(X.tolist())\n",
    "\n",
    "X2 = rdcalc.transform(df_test['mol'])\n",
    "Xtest = np.array(X2.tolist())"
   ]
  },
  {
   "cell_type": "code",
   "execution_count": 14,
   "metadata": {},
   "outputs": [],
   "source": [
    "ytest = df_test[TARGET]"
   ]
  },
  {
   "cell_type": "code",
   "execution_count": 15,
   "metadata": {},
   "outputs": [],
   "source": [
    "params = {'n_components': np.arange(1, 16)}\n",
    "optim = GridSearchCV(PLSRegression(), params)"
   ]
  },
  {
   "cell_type": "code",
   "execution_count": 16,
   "metadata": {},
   "outputs": [
    {
     "data": {
      "text/html": [
       "<style>#sk-container-id-1 {color: black;background-color: white;}#sk-container-id-1 pre{padding: 0;}#sk-container-id-1 div.sk-toggleable {background-color: white;}#sk-container-id-1 label.sk-toggleable__label {cursor: pointer;display: block;width: 100%;margin-bottom: 0;padding: 0.3em;box-sizing: border-box;text-align: center;}#sk-container-id-1 label.sk-toggleable__label-arrow:before {content: \"▸\";float: left;margin-right: 0.25em;color: #696969;}#sk-container-id-1 label.sk-toggleable__label-arrow:hover:before {color: black;}#sk-container-id-1 div.sk-estimator:hover label.sk-toggleable__label-arrow:before {color: black;}#sk-container-id-1 div.sk-toggleable__content {max-height: 0;max-width: 0;overflow: hidden;text-align: left;background-color: #f0f8ff;}#sk-container-id-1 div.sk-toggleable__content pre {margin: 0.2em;color: black;border-radius: 0.25em;background-color: #f0f8ff;}#sk-container-id-1 input.sk-toggleable__control:checked~div.sk-toggleable__content {max-height: 200px;max-width: 100%;overflow: auto;}#sk-container-id-1 input.sk-toggleable__control:checked~label.sk-toggleable__label-arrow:before {content: \"▾\";}#sk-container-id-1 div.sk-estimator input.sk-toggleable__control:checked~label.sk-toggleable__label {background-color: #d4ebff;}#sk-container-id-1 div.sk-label input.sk-toggleable__control:checked~label.sk-toggleable__label {background-color: #d4ebff;}#sk-container-id-1 input.sk-hidden--visually {border: 0;clip: rect(1px 1px 1px 1px);clip: rect(1px, 1px, 1px, 1px);height: 1px;margin: -1px;overflow: hidden;padding: 0;position: absolute;width: 1px;}#sk-container-id-1 div.sk-estimator {font-family: monospace;background-color: #f0f8ff;border: 1px dotted black;border-radius: 0.25em;box-sizing: border-box;margin-bottom: 0.5em;}#sk-container-id-1 div.sk-estimator:hover {background-color: #d4ebff;}#sk-container-id-1 div.sk-parallel-item::after {content: \"\";width: 100%;border-bottom: 1px solid gray;flex-grow: 1;}#sk-container-id-1 div.sk-label:hover label.sk-toggleable__label {background-color: #d4ebff;}#sk-container-id-1 div.sk-serial::before {content: \"\";position: absolute;border-left: 1px solid gray;box-sizing: border-box;top: 0;bottom: 0;left: 50%;z-index: 0;}#sk-container-id-1 div.sk-serial {display: flex;flex-direction: column;align-items: center;background-color: white;padding-right: 0.2em;padding-left: 0.2em;position: relative;}#sk-container-id-1 div.sk-item {position: relative;z-index: 1;}#sk-container-id-1 div.sk-parallel {display: flex;align-items: stretch;justify-content: center;background-color: white;position: relative;}#sk-container-id-1 div.sk-item::before, #sk-container-id-1 div.sk-parallel-item::before {content: \"\";position: absolute;border-left: 1px solid gray;box-sizing: border-box;top: 0;bottom: 0;left: 50%;z-index: -1;}#sk-container-id-1 div.sk-parallel-item {display: flex;flex-direction: column;z-index: 1;position: relative;background-color: white;}#sk-container-id-1 div.sk-parallel-item:first-child::after {align-self: flex-end;width: 50%;}#sk-container-id-1 div.sk-parallel-item:last-child::after {align-self: flex-start;width: 50%;}#sk-container-id-1 div.sk-parallel-item:only-child::after {width: 0;}#sk-container-id-1 div.sk-dashed-wrapped {border: 1px dashed gray;margin: 0 0.4em 0.5em 0.4em;box-sizing: border-box;padding-bottom: 0.4em;background-color: white;}#sk-container-id-1 div.sk-label label {font-family: monospace;font-weight: bold;display: inline-block;line-height: 1.2em;}#sk-container-id-1 div.sk-label-container {text-align: center;}#sk-container-id-1 div.sk-container {/* jupyter's `normalize.less` sets `[hidden] { display: none; }` but bootstrap.min.css set `[hidden] { display: none !important; }` so we also need the `!important` here to be able to override the default hidden behavior on the sphinx rendered scikit-learn.org. See: https://github.com/scikit-learn/scikit-learn/issues/21755 */display: inline-block !important;position: relative;}#sk-container-id-1 div.sk-text-repr-fallback {display: none;}</style><div id=\"sk-container-id-1\" class=\"sk-top-container\"><div class=\"sk-text-repr-fallback\"><pre>GridSearchCV(estimator=PLSRegression(),\n",
       "             param_grid={&#x27;n_components&#x27;: array([ 1,  2,  3,  4,  5,  6,  7,  8,  9, 10, 11, 12, 13, 14, 15])})</pre><b>In a Jupyter environment, please rerun this cell to show the HTML representation or trust the notebook. <br />On GitHub, the HTML representation is unable to render, please try loading this page with nbviewer.org.</b></div><div class=\"sk-container\" hidden><div class=\"sk-item sk-dashed-wrapped\"><div class=\"sk-label-container\"><div class=\"sk-label sk-toggleable\"><input class=\"sk-toggleable__control sk-hidden--visually\" id=\"sk-estimator-id-1\" type=\"checkbox\" ><label for=\"sk-estimator-id-1\" class=\"sk-toggleable__label sk-toggleable__label-arrow\">GridSearchCV</label><div class=\"sk-toggleable__content\"><pre>GridSearchCV(estimator=PLSRegression(),\n",
       "             param_grid={&#x27;n_components&#x27;: array([ 1,  2,  3,  4,  5,  6,  7,  8,  9, 10, 11, 12, 13, 14, 15])})</pre></div></div></div><div class=\"sk-parallel\"><div class=\"sk-parallel-item\"><div class=\"sk-item\"><div class=\"sk-label-container\"><div class=\"sk-label sk-toggleable\"><input class=\"sk-toggleable__control sk-hidden--visually\" id=\"sk-estimator-id-2\" type=\"checkbox\" ><label for=\"sk-estimator-id-2\" class=\"sk-toggleable__label sk-toggleable__label-arrow\">estimator: PLSRegression</label><div class=\"sk-toggleable__content\"><pre>PLSRegression()</pre></div></div></div><div class=\"sk-serial\"><div class=\"sk-item\"><div class=\"sk-estimator sk-toggleable\"><input class=\"sk-toggleable__control sk-hidden--visually\" id=\"sk-estimator-id-3\" type=\"checkbox\" ><label for=\"sk-estimator-id-3\" class=\"sk-toggleable__label sk-toggleable__label-arrow\">PLSRegression</label><div class=\"sk-toggleable__content\"><pre>PLSRegression()</pre></div></div></div></div></div></div></div></div></div></div>"
      ],
      "text/plain": [
       "GridSearchCV(estimator=PLSRegression(),\n",
       "             param_grid={'n_components': array([ 1,  2,  3,  4,  5,  6,  7,  8,  9, 10, 11, 12, 13, 14, 15])})"
      ]
     },
     "execution_count": 16,
     "metadata": {},
     "output_type": "execute_result"
    }
   ],
   "source": [
    "optim.fit(Xtrain, ytrain)"
   ]
  },
  {
   "cell_type": "code",
   "execution_count": 17,
   "metadata": {},
   "outputs": [],
   "source": [
    "ycalc = optim.predict(Xtrain)\n",
    "ypred = optim.predict(Xtest)"
   ]
  },
  {
   "cell_type": "code",
   "execution_count": 18,
   "metadata": {},
   "outputs": [
    {
     "name": "stdout",
     "output_type": "stream",
     "text": [
      "calc: 0.922\n",
      "cv: 0.886\n",
      "pred: 0.891\n"
     ]
    }
   ],
   "source": [
    "print('calc: %.3f'%metrics.r2_score(ytrain,ycalc))\n",
    "print('cv: %.3f'%optim.best_score_)\n",
    "print('pred: %.3f'%metrics.r2_score(ytest,ypred))"
   ]
  },
  {
   "cell_type": "markdown",
   "metadata": {},
   "source": [
    "RDKit記述子の場合は学習データでR2スコアが0.92、検証データで0.89と高い精度になっています。"
   ]
  },
  {
   "cell_type": "markdown",
   "metadata": {},
   "source": [
    "### 可視化\n",
    "RDKitのObserved-Predictプロット（Exp-Calcプロット）を描画します。"
   ]
  },
  {
   "cell_type": "code",
   "execution_count": 19,
   "metadata": {},
   "outputs": [
    {
     "data": {
      "image/png": "[encoded data removed]",
      "text/plain": [
       "<Figure size 1200x800 with 1 Axes>"
      ]
     },
     "metadata": {},
     "output_type": "display_data"
    }
   ],
   "source": [
    "plt.plot(ytrain, ycalc, '.')\n",
    "plt.plot(ytest, ypred, '^')\n",
    "plt.plot()\n",
    "\n",
    "plt.axis('square')\n",
    "plt.xlabel('Exp.')\n",
    "plt.ylabel('Calc.')\n",
    "plt.savefig('./results/9.3-yyplot-rdkitpls.jpg')\n",
    "plt.show()"
   ]
  },
  {
   "cell_type": "markdown",
   "metadata": {},
   "source": [
    "### モデル保存\n",
    "上記の予測モデルを保存します。ここではjoblibを使って保存します。"
   ]
  },
  {
   "cell_type": "code",
   "execution_count": 20,
   "metadata": {},
   "outputs": [
    {
     "data": {
      "text/plain": [
       "['./models/9.3_rdkit_pls.joblib']"
      ]
     },
     "execution_count": 20,
     "metadata": {},
     "output_type": "execute_result"
    }
   ],
   "source": [
    "from joblib import dump\n",
    "dump(optim, './models/9.3_rdkit_pls.joblib')"
   ]
  },
  {
   "cell_type": "markdown",
   "metadata": {},
   "source": [
    "joblibは、Pythonのパッケージであり、効率的な並列処理やデータのシリアル化（直列化）をサポートするためのツールです。主な用途は、大規模な計算やデータ処理を高速化するために使用されます。joblibは、NumPyの多次元配列や他のPythonオブジェクトをシリアル化してディスクに保存し、後で再ロードすることで、再計算を回避することができます。\n",
    "\n",
    "joblibの主な特徴は次のとおりです：\n",
    "\n",
    "1. 並列処理のサポート：joblibは、マルチコアプロセッサを活用して並列計算を行うことができます。これにより、CPUの複数コアを使用して計算を高速化することができます。特に、大量のデータを処理する際に有効です。\n",
    "\n",
    "2. メモリ効率の向上：joblibは、メモリ使用量を最小限に抑えるために、効率的なメモリマッピングを使用します。これにより、大規模なデータセットを処理する際のメモリオーバーヘッドを軽減できます。\n",
    "\n",
    "3. シンプルなAPI：joblibは、Pythonの標準ライブラリの`pickle`モジュールと似たシンプルなAPIを提供します。これにより、既存のコードを比較的簡単にjoblibに移行できます。\n",
    "\n",
    "joblibの主なユースケースは、機械学習やデータサイエンス、大規模なデータ処理などです。特に、機械学習のモデルのトレーニングやハイパーパラメータの探索など、計算が重い処理において高い効果を発揮します。\n",
    "\n",
    "使用例を示します：\n",
    "\n",
    "```python\n",
    "import joblib\n",
    "\n",
    "# シリアル化（オブジェクトの保存）\n",
    "data = [1, 2, 3, 4, 5]\n",
    "joblib.dump(data, 'data.pkl')\n",
    "\n",
    "# ロード（オブジェクトの読み込み）\n",
    "loaded_data = joblib.load('data.pkl')\n",
    "print(loaded_data)  # [1, 2, 3, 4, 5]\n",
    "```\n",
    "\n",
    "この例では、Pythonリスト`data`を`data.pkl`というファイル名で保存し、再度読み込んでいます。このようにして、データの保存と再利用が可能となります。"
   ]
  },
  {
   "cell_type": "markdown",
   "metadata": {},
   "source": [
    "## 3.適用範囲（AD）の設定\n",
    "第６回で作成した10,000の仮想化合物にたいして、上記のRDKit記述子をベースとしたPLSモデルによる予測を行います。また、予測結果が信頼できるかを確認するため、底本ではT2指標、Q値から適用範囲を定めています。 \n",
    "\n",
    "\n",
    "【補足】  \n",
    "T2指標とQ値は、生産における品質管理に関連する統計的な手法です。主に多変量データを分析し、プロセスの安定性や品質の変化を監視するために使用されます。\n",
    "\n",
    "1. **T2指標 (T2 Statistic)**:\n",
    "T2指標は、多変量プロセス監視のための統計的な指標で、プロセス内の変動や異常を検出するのに役立ちます。基本的には、多変量データの平均値と分散の組み合わせを用いて計算されます。T2指標はホットリリースティック法（HOTELLING'S T2法）に基づいています。\n",
    "\n",
    "T2指標は、以下の手順で計算されます：\n",
    "1. データセットの平均ベクトル（多変量データの平均値）を計算します。\n",
    "2. データセットの共分散行列（多変量データの分散共分散行列）を計算します。\n",
    "3. プロセスから得られたデータの平均ベクトルを計算し、それを基準平均ベクトルと比較します。\n",
    "4. プロセスから得られたデータの共分散行列を計算し、それを基準共分散行列と比較します。\n",
    "\n",
    "T2は距離指標であり、その測長には**マハラノビス距離**を用いています。これよりT2値（マハラノビス距離）を計算し、特定の閾値と比較することで、プロセスの異常や変化を監視することができます。\n",
    "\n",
    "2. **Q値 (Q Statistic)**:\n",
    "Q値も多変量プロセス監視のための指標で、プロセス内の変動や異常を検出する際に使用されます。T2指標と同様に、Q値も異常を検出するための基準となる閾値と比較されます。\n",
    "\n",
    "Q値は、データの観測値が平均値からどれだけ離れているかを示す指標で、基本的にはT2指標の計算における差異ベクトルを用いて計算されます。Q値は、各観測値の差異ベクトルの長さを示し、この長さが閾値を超える場合に異常と判定されることがあります。\n",
    "\n",
    "なお、T2指標、Q値は関数は次のようにdef関数として使います。PLSに対してT2指標、Q値を適用した内容については下記の技術ブログも参照してください。  \n",
    "https://nirpyresearch.com/outliers-detection-pls-regression-nir-spectroscopy-python/"
   ]
  },
  {
   "cell_type": "code",
   "execution_count": 21,
   "metadata": {},
   "outputs": [],
   "source": [
    "def t2_score(data, model):\n",
    "    \"T2値の計算モジュール\"\n",
    "    assert type(data)==pd.DataFrame or type(data)==np.ndarray, \"input must be pandas.DataFrame or np.array\"\n",
    "    \n",
    "    explained_std_ = np.sqrt(model.best_estimator_.x_scores_.var(axis=0))\n",
    "    scores_whiten = model.transform(data) / explained_std_\n",
    "    \n",
    "    return (scores_whiten ** 2.). sum(axis=1)\n",
    "\n",
    "def q_value(data, model):\n",
    "    \"Q値の計算モジュール\"\n",
    "    assert type(data)==pd.DataFrame or type(data)==np.ndarray, \"input must be pandas.DataFrame or np.array\"\n",
    "    \n",
    "    x_reproduced_ = model.transform(data) @ model.best_estimator_.x_loadings_.T\n",
    "    \n",
    "    return ((data - x_reproduced_)**2.).sum(axis=1)"
   ]
  },
  {
   "cell_type": "markdown",
   "metadata": {},
   "source": [
    "### 適用範囲（AD）の設定\n",
    "ADの設定範囲はdelaneyの溶解度データの教師データよりt2指標および q値を計算し、その範囲を定めます。Xtrainデータ（教師データ）よりT2指標とQ値を計算し、その95%quantile（２σ）を適用範囲の上限として設定します。"
   ]
  },
  {
   "cell_type": "markdown",
   "metadata": {},
   "source": [
    "### T2指標およびQ値の計算"
   ]
  },
  {
   "cell_type": "code",
   "execution_count": 22,
   "metadata": {},
   "outputs": [],
   "source": [
    "t2_values = t2_score(Xtrain, optim)\n",
    "q_values = q_value(Xtrain, optim)"
   ]
  },
  {
   "cell_type": "code",
   "execution_count": 23,
   "metadata": {},
   "outputs": [
    {
     "data": {
      "text/plain": [
       "array([  8.6124638 ,   4.61666787,   5.54426514,  10.87073916,\n",
       "        19.95017819,  10.31213631,   4.82399026,   8.46604253,\n",
       "        15.00942165,  28.77718572,  17.4941521 ,  13.0445107 ,\n",
       "        51.88111897,   3.56821376,  24.35764296,   2.9380326 ,\n",
       "         4.27971396, 160.33277703,  14.05644878,   7.43185785,\n",
       "        21.89755386,   3.94483778,  10.53726715,   3.38402473,\n",
       "         4.63627079,  10.67572742,  11.44321308,  13.56400564,\n",
       "        15.00346526,  13.74083195,   5.75379348,   5.91300122,\n",
       "         6.26998749,   6.54650303,  10.06009118,   6.50175572,\n",
       "         8.98688133,  14.35953613,  15.93442347,  39.22025357,\n",
       "         2.86966112,  26.6965945 ,  11.62654157,   6.53437593,\n",
       "         4.57830685,   3.31625458,   6.09241583,   7.10813528,\n",
       "         7.22766092,  16.17733539,  10.40487351,   4.98467655,\n",
       "        20.33019415,   8.86434076,   7.93466067,  13.94848455,\n",
       "         9.18886919,   4.32606273,  10.038004  ,   9.53854023,\n",
       "        20.10238021,  24.59960687,  13.79598916,   5.29823032,\n",
       "         5.94156705,  14.02977605,   3.61865801,   3.73283761,\n",
       "         3.71440877,   4.35497803,  27.84773375,  10.93523193,\n",
       "        13.97823418,  11.07733129,  42.72577146,   6.73186254,\n",
       "         6.1371442 ,  11.604655  ,  29.03074881,   9.26201273,\n",
       "        15.69820879,  15.13361226,   8.88565866,  12.17872177,\n",
       "         6.99840535,  45.9637394 ,   6.75809596,   5.05863279,\n",
       "         4.82741314,  30.52920325,  14.31633858,   3.15662122,\n",
       "         6.88262075,   4.81928078,   4.91057371,  23.31770672,\n",
       "         6.75884162,  18.77660632,   5.47954032,   9.48307368,\n",
       "        12.8786237 ,  98.0078097 ,   7.06831793,   5.47751391,\n",
       "        14.26148318,  11.4005079 ,  12.58007602,  10.34673317,\n",
       "        22.41770592,   3.47755004,  19.52327001,   4.2214994 ,\n",
       "         5.81263298,   5.82506168,   6.94377428,  11.50489174,\n",
       "        27.41225066,  17.66803388,  25.28698975,  14.1698797 ,\n",
       "        22.27142578,   6.75654685,   9.35254481,   5.22022689,\n",
       "        23.29433528,   6.74898708,   6.88994151,  11.54568484,\n",
       "         8.31758999,   4.16874687,  23.71203803,  11.74293551,\n",
       "        22.88847139,  19.39274879,   8.82382962,   8.85655899,\n",
       "         6.72365781,   3.43096524,   3.96415401,   4.9860606 ,\n",
       "        19.19582803,  15.57043013,  10.94902025,  15.48103997,\n",
       "        21.80928812,   8.42821469,   4.90252139,   3.90187015,\n",
       "        35.86472721,   6.3507906 ,  26.61946013,   6.15796631,\n",
       "         4.42827597,  10.8607545 ,   3.01070844,   8.48317452,\n",
       "        23.28232091,   8.00696861,   6.83272659,  10.00660988,\n",
       "        15.9163077 ,   4.45133018,   7.35553754,   5.29838323,\n",
       "         6.99802932,   3.68252755,   9.75392899,   3.17635822,\n",
       "         7.87826681,   3.40471505,  32.18940354,   6.85515924,\n",
       "         3.7387532 ,  23.6602633 ,  27.32101429,   2.7411781 ,\n",
       "         5.25095748,  13.00368521,   6.72198053,  23.2735027 ,\n",
       "        26.24416802,   5.56786577,   4.22729656,   7.33837522,\n",
       "        18.00592154,   8.36818505,  22.21919275,   7.32642046,\n",
       "        46.64774548,   7.844468  ,   5.32323988,   6.30111084,\n",
       "         3.78855482,  33.50121966,  11.25236462,  11.29443751,\n",
       "         8.56347932,   4.4968209 ,  10.70809517,  33.55401794,\n",
       "         6.21721865,   6.03887799,  37.93998287,   6.11182519,\n",
       "        24.96322598,  44.58732423,   3.88196317,  10.02725674,\n",
       "        13.53384019,   4.40903445,   4.75514739,  18.52915784,\n",
       "         8.4704365 ,  11.21785569,  21.47019686,  13.19687157,\n",
       "         4.8659143 ,   3.22767172,  29.89984784,   3.70325503,\n",
       "        26.11644996,   7.87142845,  13.90554531,   1.85717419,\n",
       "         3.64497248,  60.51655135,  23.97191626,   5.06094377,\n",
       "         8.31897396,  51.69832045,   7.50287633,   8.24763849,\n",
       "         4.57907286,  14.46103634,  54.50465551,   7.71009571,\n",
       "        20.2269891 ,   4.59590022,   9.04861396,   9.18870457,\n",
       "         5.09328611,   9.81795758,   5.39029296,  11.55117185,\n",
       "         3.01982383,   9.10566655,  12.36224352,   5.81113909,\n",
       "        21.96966471,   5.10468332,   6.81193751,   3.71219622,\n",
       "        14.30840546,   4.83779274,   4.66566619,   5.13137283,\n",
       "         3.84089935,   6.59564476,   7.38991702,  10.98948683,\n",
       "         7.14616267,   7.55699851,   3.77588843,   3.28093221,\n",
       "         9.07522458,  11.64170138,   7.29392668,   3.36084306,\n",
       "        11.50191655,  17.21712289,   8.14893701,  10.63115996,\n",
       "         3.26176867,  10.40487351,  19.74125513,  10.5184741 ,\n",
       "        80.77055192,  22.64456192,   8.76329044,  16.73181597,\n",
       "        40.74286281,  18.93299151,   8.56511924,   5.43547846,\n",
       "        20.96369713,  36.82938512,  10.01889493,  19.67201995,\n",
       "         9.83022135,  22.52103216,  10.63754937,   9.28920963,\n",
       "        11.54182982,  23.96215367,  29.42248752,  22.55028717,\n",
       "        11.57461858,   4.77271945,  23.59395812,  12.09569413,\n",
       "         5.31224422,   7.29740894,   3.07140769,   5.7085018 ,\n",
       "        11.48284155,   7.36206457,  13.77526773,   8.08763956,\n",
       "         7.30675213,  12.13311977,   8.54678938,  16.33651002,\n",
       "         3.1959176 ,   8.99455482,  38.52665262,  23.35903415,\n",
       "        14.11061109,   6.2921673 ,  19.1900882 ,   4.6056096 ,\n",
       "         6.43347175,  25.21479757,  23.75329298,   7.15751949,\n",
       "        28.30683004,  10.28544756,   6.74239424,   6.79629375,\n",
       "        17.18478893,  23.56680989,   4.1081015 ,   7.20902742,\n",
       "         2.96184302,   6.28819917,   5.24902122,  11.28389786,\n",
       "         9.20866494,  39.1697826 ,   3.21040092,  62.52977682,\n",
       "         8.77660719,  14.26098309,   8.48328629,   6.68266899,\n",
       "         5.66003033,   9.83425557,   3.58009202,   5.54363616,\n",
       "        18.55739932,  20.24603449,   8.49183666,   3.0503219 ,\n",
       "         4.55396072,   8.47138598,  28.31778425,  19.39777749,\n",
       "         3.46330677,  19.33334644,   6.14213723,   6.94370007,\n",
       "         5.3598436 ,   7.44973255,   4.00237721,   5.89502982,\n",
       "        17.5615921 ,   6.677711  ,  19.14087107,  28.98674047,\n",
       "        16.22972169,   6.63261864,  12.00905511,  14.51553105,\n",
       "        10.73932088,  14.41475054,   3.6763282 ,   4.29379222,\n",
       "        13.74083195,  18.78695713,   7.80334571,   7.11277803,\n",
       "         2.70364333,   8.15498864,  13.47519204,   3.24139192,\n",
       "        13.16923057,  20.17869504,   6.1625458 ,   9.16701343,\n",
       "         3.68041881,  10.72104053,   5.88660749,   6.11452689,\n",
       "        22.96950009,  18.06477843,   7.137032  ,  19.57724963,\n",
       "        22.74371729,   4.39803007,   5.41654638,   7.19293426,\n",
       "         7.28348187,   5.93500137,  67.75931209,   9.86787465,\n",
       "         6.21832459,   7.17428818,   3.4586493 ,  15.31511679,\n",
       "         5.05197779,   4.93305704,   7.73510428,   5.54426514,\n",
       "         7.11022926,   3.86076926,   5.8465014 ,  10.08472298,\n",
       "         3.70325503,  34.79762939,   7.22689653,   9.96170339,\n",
       "        23.1645153 ,  23.11451988,   9.88453395,   9.9561263 ,\n",
       "         5.8143178 ,  21.08738905,   3.86060785,   4.60089104,\n",
       "        21.51169222,   8.98065063,   3.58793605,   4.23466324,\n",
       "         3.03065489,  11.68012945,   5.3678687 ,   2.85748552,\n",
       "         3.19416497,   4.21704858,   6.54262278,   3.67563909,\n",
       "        37.0887856 ,   4.59494774,   5.97443719,   3.60148892,\n",
       "        20.67862531,   9.78066152,   8.47549361,   5.46169752,\n",
       "        12.32224078,  10.80407864,   7.93405581,   4.53260096,\n",
       "        15.6928314 ,  18.18737658,   8.1449182 ,   4.7398242 ,\n",
       "         9.81239697,  20.72497427,   6.66620776,  42.8640033 ,\n",
       "         3.89072147,   7.12868246,   6.51158069,  13.57124547,\n",
       "         7.22334696,   3.94477011,   7.93678934,  10.90389781,\n",
       "        21.89391183,   4.17359135,   3.49349211,   6.13209703,\n",
       "        19.2912943 ,  12.08274168,  22.75550409,   7.01574721,\n",
       "        34.97315405,  14.38874768,  10.05433853,   2.87840822,\n",
       "         3.93255053,   6.44161962,   5.47849974,  23.90631923,\n",
       "        27.26946925,   3.68904174,  12.84631107,  19.00778061,\n",
       "        10.5047605 ,  13.74601495,  11.57399606,   3.30264429,\n",
       "         3.55080633,   7.74072869,  21.50338259,   8.37327619,\n",
       "         4.07009861,   3.08578309,   5.04634124,  10.65220253,\n",
       "         3.77369228,   6.44520169,  11.70884691,   4.23036212,\n",
       "         4.94686107,  10.51311061,   6.4178937 ,   6.21979044,\n",
       "        26.13342681,  11.46724624,   5.98472863,  22.51699335,\n",
       "        16.52732599,   6.68445785,   3.49024641,  10.15445445,\n",
       "        10.75134193,   5.26472982,   4.27821779,   6.02007019,\n",
       "        32.16060546,  12.21037667,  22.89747409,   9.95162198,\n",
       "        24.66091809,   6.22532516,  31.11884603,  12.17493402,\n",
       "         9.17585976,  14.90177857,   6.8828    ,   3.06539048,\n",
       "         3.95453571,  18.92789836,   7.71719201,  18.62516701,\n",
       "         2.89404232,  23.1922115 ,   5.6354139 ,   6.13186812,\n",
       "         5.51569929,   4.31498559,  18.0720111 ,  14.20243665,\n",
       "        13.68885146,  24.73489286,  22.86581262,  36.47894478,\n",
       "         5.68001801,   4.0765816 ,  10.27638677,   6.29307793,\n",
       "         3.62381271,  15.35567712,   3.30422259,  27.20199376,\n",
       "        13.80856051,   7.67703285,   8.17139905,  17.2601339 ,\n",
       "         7.22662866,  19.28643783,  12.14138561,   3.43884038,\n",
       "         5.35841526,  20.48783385,  15.80433846,  20.60846263,\n",
       "        34.61715433,   7.06667837,   5.9636545 ,  70.47569938,\n",
       "        17.92621101,  15.79243866,   7.71537011,   9.81342527,\n",
       "         6.33674112,  16.72156393,  15.81419734,   9.13207794,\n",
       "        11.40320445,   6.5723099 ,  14.08787635,  24.75494428,\n",
       "        12.29318488,   8.10173335,  15.16090598,   3.68382006,\n",
       "         8.65045969,  20.63265865,   5.04306893,  35.60065113,\n",
       "         4.39836839,  18.0125176 ,   9.0214548 ,  11.88366752,\n",
       "         5.81011473,   3.53395135,   6.7914919 ,   4.85668871,\n",
       "         3.65629184,   3.4870526 ,   6.60602975,  51.66061328,\n",
       "        36.18408676,  13.81860775,  10.1129829 ,  16.06964168,\n",
       "         8.09391263,   7.02205815,  21.43879069,  10.26961853,\n",
       "        10.50399677,  18.47566435,   8.95594531,   4.33093039,\n",
       "         9.14149503,  19.9682872 ,   9.16022944,   3.11965599,\n",
       "        10.51295579,  23.63223516,  42.78872372,   2.9337526 ,\n",
       "        11.15044557,  33.11559661,   3.89304357,   6.45918912,\n",
       "         3.460585  ,   3.94978424,   6.48238984,  22.94130764,\n",
       "        13.9879673 ,  21.59575007,  12.95590972,  23.7363166 ,\n",
       "         3.45335231,   8.18229407,  24.1517199 ,   4.00478193,\n",
       "        26.45325591,  26.34179662,  13.32564029,   7.08353666,\n",
       "        12.34375049, 100.49320834,   5.62990252,  11.68435667,\n",
       "         3.39618573,   4.10645543,   7.16859328,  16.25412925,\n",
       "        14.35635861,  22.17877625,  21.04800371,  10.50291685,\n",
       "        26.59327438,  30.64714672,  21.15947036,   7.80293358,\n",
       "        39.00487925,   5.00487637,   4.48558956,  10.90260425,\n",
       "         4.40203298,   7.84877241,   9.06608658,   7.91735949,\n",
       "         5.06312252,   4.80020824,   8.22761366,  11.87828466,\n",
       "         9.39887532,   3.64739583,  17.98421737,   5.68321941,\n",
       "         9.09697857,  14.30114174,  25.03169733,   5.44301654,\n",
       "         8.99694121,  11.25344934,  11.72844099,   2.82371978,\n",
       "         8.46170309,   4.95241711,   3.89274205,   4.90261212,\n",
       "        14.11084743,   6.34786418,  30.46216161,  16.41352285,\n",
       "         4.98830923,  20.26287053,  18.54508224,  23.20628063,\n",
       "        13.8083561 ,   6.76683424,   2.56000976,  10.36251751,\n",
       "       103.49597715,   4.07560935,   6.33348196,  24.56256048,\n",
       "         9.58049015,  12.43110438,  16.16443975,   4.52571043,\n",
       "        21.67818205,  14.88242641,   3.61727634,   6.80804518,\n",
       "         2.88241203,   4.34121042,   8.24010932,  79.30939646,\n",
       "         8.84941806,   5.16641833,   6.21966695,  21.71259984,\n",
       "        21.89391183,   7.06638593,  11.98188353,  10.10798498,\n",
       "         5.29432807,   5.20735156,   4.40143783,   6.52463083,\n",
       "        28.65199219,   4.38496957,   6.11536675,  26.31704773,\n",
       "        15.66190048,   9.80223727,  11.51522373,   4.65113831,\n",
       "         4.76244471,  12.15232312,  12.64776885,  29.6425089 ,\n",
       "        18.52671931,   6.67856315,   3.23121845,  24.72687598,\n",
       "         7.2407876 ,   7.13300896,   7.61623193,   6.12429387,\n",
       "         6.60257052,  10.82862667,  10.23569139,   6.24479905,\n",
       "         4.69977758,  25.38176092,  11.06268425,   7.80013179,\n",
       "        11.60002714, 151.78691103,   8.68947067,  21.41783787,\n",
       "        10.20140015,   5.60122565,   6.62350432,   4.88144516,\n",
       "         1.98105985,  14.65637077,   9.10244643,  24.20563229,\n",
       "        16.67375471,   9.20728514,   3.79052075,   3.13795375,\n",
       "         2.03587729,   2.90351373,   4.09875394,   3.9585784 ,\n",
       "         6.05650997,  14.16513029,   7.93135252,   4.83967027,\n",
       "         9.72103057,   7.77511488, 112.17296605,  23.93265511,\n",
       "        21.76012746,   6.74127845,   5.86198658,   9.87975746,\n",
       "        14.10877214,   5.7614668 ,   3.73546044,   2.99637553,\n",
       "         7.12889535,   6.49589544,   2.74788678,  10.61785815,\n",
       "        28.18618313,   6.54311171,   3.22214402,   8.46673361,\n",
       "         4.71729999,   3.9137893 ,  27.26654621,  18.26496033,\n",
       "        11.45826507,   5.63134648,  12.69221022,  11.30817502,\n",
       "        12.69383598,   8.23095658,  56.4664311 ,   5.18284395,\n",
       "         5.81819701,   4.00557042,  21.04800371,  31.83063243,\n",
       "         9.82205367,   4.30797217,  14.24127837,   2.83849314,\n",
       "         4.19158783,  11.76788352,  14.40189212,   3.78856107,\n",
       "        19.33691996,  21.99848965,   3.37435856,  24.12432047,\n",
       "        31.19889904,  72.54551497,  31.49521158,   5.93074445,\n",
       "         4.93480326,   5.74140709,  13.18655759,   2.99004563,\n",
       "         7.92823906,  23.90979361,   8.20938098,   4.52149965,\n",
       "         8.40574917,   3.15058196,   3.38540426,  20.40896819,\n",
       "        17.09991547,  45.2456106 ,   6.73665928,   9.632868  ,\n",
       "        25.65912794,   4.11796957,  11.81348576,  79.07492859,\n",
       "         4.40096005,   6.81848803,   5.88849855,   4.19516136,\n",
       "         6.02511072,  10.15080201,   2.93479097,   5.90037173,\n",
       "         7.00366844,   4.18685528,   7.61682831,   4.19441805,\n",
       "        11.72662611,   4.0057346 ,   4.3756582 ,   8.54891158,\n",
       "        10.63694781,  11.54321784,   4.14692308,   9.50663043,\n",
       "         6.97559483,   5.73624198,   2.89129276,  10.32181693,\n",
       "        42.38225996,  30.82455979,  13.11914833,   8.79249892,\n",
       "         3.96823186,   4.20116203,   3.24906173,   3.4098703 ,\n",
       "         9.37336317,   5.6014808 ,  28.65199219,   4.75052367,\n",
       "         4.40296358,   8.33807891,  12.86538365,   7.48830893,\n",
       "         5.9411596 ,  14.93885601,   5.18024404,  13.98456582,\n",
       "         5.88988909,   7.29358191,   6.86492015,  87.72394788,\n",
       "         5.13941989,   6.57621406])"
      ]
     },
     "execution_count": 23,
     "metadata": {},
     "output_type": "execute_result"
    }
   ],
   "source": [
    "t2_values"
   ]
  },
  {
   "cell_type": "markdown",
   "metadata": {},
   "source": [
    "### ADの上限値設定\n",
    "ここではT2指標およびQ値の95%quantile（２σ）を適用範囲の上限として設定しています。"
   ]
  },
  {
   "cell_type": "code",
   "execution_count": 24,
   "metadata": {},
   "outputs": [
    {
     "name": "stdout",
     "output_type": "stream",
     "text": [
      "t^2 - 95% quantile 33.069286956448245 \n",
      "q value - 95% quantile 512214978367.55005\n"
     ]
    }
   ],
   "source": [
    "t2_95q = np.quantile(t2_values, 0.95)\n",
    "qval_95q = np.quantile(q_values, 0.95)\n",
    "\n",
    "print('t^2 - 95% quantile', t2_95q, '\\nq value - 95% quantile', qval_95q)"
   ]
  },
  {
   "cell_type": "markdown",
   "metadata": {},
   "source": [
    "### ADの可視化\n",
    "設定されたADの範囲をプロットします。横軸をT2指標、縦軸をQ値とし、それぞれの95% quantileを破線で表示します。"
   ]
  },
  {
   "cell_type": "code",
   "execution_count": 25,
   "metadata": {},
   "outputs": [
    {
     "data": {
      "image/png": "[encoded data removed]",
      "text/plain": [
       "<Figure size 1200x800 with 1 Axes>"
      ]
     },
     "metadata": {},
     "output_type": "display_data"
    }
   ],
   "source": [
    "plt.plot(t2_values, q_values, 'o')\n",
    "\n",
    "plt.xlabel('$T^2$ score')\n",
    "plt.ylabel('$Q$ score')\n",
    "plt.vlines(t2_95q, ymin=0, ymax=q_values.max(), linestyles='--')\n",
    "plt.hlines(qval_95q, xmin=0, xmax=t2_values.max(), linestyles='--')\n",
    "\n",
    "plt.show()"
   ]
  },
  {
   "cell_type": "markdown",
   "metadata": {},
   "source": [
    "ADの範囲がわかるように軸設定を変更します。"
   ]
  },
  {
   "cell_type": "code",
   "execution_count": 26,
   "metadata": {},
   "outputs": [
    {
     "data": {
      "image/png": "[encoded data removed]",
      "text/plain": [
       "<Figure size 1200x800 with 1 Axes>"
      ]
     },
     "metadata": {},
     "output_type": "display_data"
    }
   ],
   "source": [
    "plt.plot(t2_values, q_values, 'o')\n",
    "\n",
    "plt.xlabel('$T^2$ score')\n",
    "plt.ylabel('$Q$ score')\n",
    "\n",
    "plt.ylim(-1e9,1e12)\n",
    "plt.vlines(t2_95q, ymin=0, ymax=q_values.max(), linestyles='--')\n",
    "plt.hlines(qval_95q, xmin=0, xmax=t2_values.max(), linestyles='--')\n",
    "\n",
    "plt.show()"
   ]
  },
  {
   "cell_type": "markdown",
   "metadata": {},
   "source": [
    "## 4.スクリーニング\n",
    "第６回で生成した10万の仮想化合物について並列処理によるPLSの予測器にかけて演算します。演算結果をSMILES構造（smi）、溶解度の予測値（ypred）, 当該予測値のt2指標（t2）および q値（q）の4つを.outファイルとして出力します。"
   ]
  },
  {
   "cell_type": "markdown",
   "metadata": {},
   "source": [
    "### 下記は【Google Colab】のみで実行してください。\n",
    "JupyterNotebookでは動作しません。別に準備する「7_Ex2_Solubility.py」でPythonそのものからデバック処理をしてください。"
   ]
  },
  {
   "cell_type": "code",
   "execution_count": 27,
   "metadata": {},
   "outputs": [],
   "source": [
    "from joblib import load as jl_load\n",
    "from multiprocessing import Pool, cpu_count\n",
    "\n",
    "from rdkit.Chem import MolFromSmiles\n",
    "\n",
    "from cheminfo.descriptors import RDKitDescriptor\n",
    "from cheminfo.metrics import t2_score, q_value"
   ]
  },
  {
   "cell_type": "markdown",
   "metadata": {},
   "source": [
    "次の`processor()`関数はmultiprocessで並列処理がかけられるように、仮想ライブラリのデータを読み込み、またPLSモデルから溶解度の予測値、およびT2指標とQ値を返すコードになります。"
   ]
  },
  {
   "cell_type": "code",
   "execution_count": null,
   "metadata": {},
   "outputs": [],
   "source": [
    "def processor(argv):\n",
    "    \"\"\"予測値とSMILESを文字列で返す関数。multiprocessing.Pool.imap用。\"\"\"\n",
    "    smiles, model = argv\n",
    "    smi = smiles.strip()\n",
    "\n",
    "    mol = MolFromSmiles(smi)\n",
    "    mol.UpdatePropertyCache(strict=True)\n",
    "    rdcalc = RDKitDescriptor()\n",
    "    xnew = np.array(rdcalc.transform([mol]))\n",
    "    \n",
    "    print(type(xnew))\n",
    "    \n",
    "    ypred = model.predict(xnew)\n",
    "    t2 = t2_score(xnew, model)\n",
    "    q = q_value(xnew, model)\n",
    "    return '%s %.8f %.8f %.8f'%(smi, ypred, t2, q)\n"
   ]
  },
  {
   "cell_type": "markdown",
   "metadata": {},
   "source": [
    "`count_lines()`関数は、入力するmol_quad.smiファイルの行数をカウントする関数です。"
   ]
  },
  {
   "cell_type": "code",
   "execution_count": null,
   "metadata": {},
   "outputs": [],
   "source": [
    "def count_lines(filename):\n",
    "    \"\"\"ファイルの行数を数える関数\"\"\"\n",
    "    with open(filename, 'r')as f:\n",
    "        c=0\n",
    "        for _ in f:\n",
    "            c+=1\n",
    "    return c"
   ]
  },
  {
   "cell_type": "markdown",
   "metadata": {},
   "source": [
    "次のmain()関数はpyでは基本処理の部分となります。最適化されたモデルファイルおよび仮想ライブラリの.smiを読み込み、15行目から並列処理を行います。"
   ]
  },
  {
   "cell_type": "code",
   "execution_count": null,
   "metadata": {},
   "outputs": [],
   "source": [
    "def main():\n",
    "    \"\"\"メイン関数。入力を受け取り、並列処理を実行。\"\"\"\n",
    "    # assert len(argv)>2, \"SYNTAX: python src/10.3-screening.py MODEL_FILE.joblib SMILES.smi\"\n",
    "    modelfile = \"./models/9.3_rdkit_pls.joblib\"\n",
    "    smilesfile = \"./results/mol_quad.smi\"\n",
    "\n",
    "    model = jl_load(modelfile)\n",
    "    n_counts = count_lines(smilesfile)\n",
    "\n",
    "    cs = 1000\n",
    "\n",
    "    model_sampler = (model for _ in range(n_counts))\n",
    "    outfile = open(smilesfile.replace('.smi', '.out'), 'w')\n",
    "\n",
    "    with open(smilesfile, 'r') as f:\n",
    "        with Pool(cpu_count()) as pool:\n",
    "            \"並列処理\"\n",
    "            for ret in pool.imap(processor, zip(f, model_sampler), chunksize=cs):\n",
    "                outfile.write(ret+'\\n')\n",
    "    outfile.close()# 開いたファイルオブジェクトは必ず閉じる。"
   ]
  },
  {
   "cell_type": "code",
   "execution_count": null,
   "metadata": {},
   "outputs": [],
   "source": [
    "main()"
   ]
  },
  {
   "cell_type": "markdown",
   "metadata": {},
   "source": [
    "### ADによるスクリーニング\n",
    "得られた.outを下記のようにopen関数で読み出して、AD以下に入る化合物をカウントします。\n",
    "（カウントの数は走らせるごとに異なります）"
   ]
  },
  {
   "cell_type": "code",
   "execution_count": 26,
   "metadata": {},
   "outputs": [
    {
     "name": "stdout",
     "output_type": "stream",
     "text": [
      "予測結果の信頼できる化合物の数 0\n"
     ]
    }
   ],
   "source": [
    "count = 0 \n",
    "with open('./results/mol_quad.out', 'r') as f:\n",
    "    for line in f:\n",
    "        line = line.strip()\n",
    "        info = line.split()\n",
    "        \n",
    "        if float(info[2])<=t2_95q and float(info[3])<=qval_95q:\n",
    "            count += 1\n",
    "    else:\n",
    "        print('予測結果の信頼できる化合物の数', count)"
   ]
  },
  {
   "cell_type": "markdown",
   "metadata": {},
   "source": [
    "## まとめ\n",
    "\n",
    "* 以上のように、ADを設定することで10,000のうち、上記の「予測結果の信頼できる化合物の数」に絞り込まれました。この中から予測値が高い化合物が候補材料としてみることができます。\n",
    "* その化合物の中からどの材料を実際に実験するかは、最終的には人の判断に委ねられます。溶解度の高い上位のランキングのものにするのも一案です。\n",
    "* 実験計画法としてのベイズ最適化（底本P101）を使って選択する方法もあります。今回のセミナーではベイズ最適化についてはカリキュラムには含めていませんが、機械学習モデルとあわせてベイズ最適化を使うことで効率的にターゲットを絞り込み、所望の化合物（物性）を得るまでの時間を軽減させることができます。"
   ]
  }
 ],
 "metadata": {
  "kernelspec": {
   "display_name": "Python 3 (ipykernel)",
   "language": "python",
   "name": "python3"
  },
  "language_info": {
   "codemirror_mode": {
    "name": "ipython",
    "version": 3
   },
   "file_extension": ".py",
   "mimetype": "text/x-python",
   "name": "python",
   "nbconvert_exporter": "python",
   "pygments_lexer": "ipython3",
   "version": "3.8.17"
  }
 },
 "nbformat": 4,
 "nbformat_minor": 4
}
